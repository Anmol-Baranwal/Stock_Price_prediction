{
 "cells": [
  {
   "cell_type": "markdown",
   "metadata": {},
   "source": [
    "### Stock Market Prediction And Forecasting Using Stacked LSTM|"
   ]
  },
  {
   "cell_type": "code",
   "execution_count": 1,
   "metadata": {},
   "outputs": [],
   "source": [
    "### Keras and Tensorflow >2.0\n",
    "\n",
    "import numpy as np\n",
    "import pandas as pd"
   ]
  },
  {
   "cell_type": "code",
   "execution_count": 2,
   "metadata": {},
   "outputs": [
    {
     "name": "stdout",
     "output_type": "stream",
     "text": [
      "Requirement already satisfied: pandas_datareader in /opt/conda/lib/python3.10/site-packages (0.10.0)\n",
      "Requirement already satisfied: lxml in /opt/conda/lib/python3.10/site-packages (from pandas_datareader) (4.9.2)\n",
      "Requirement already satisfied: requests>=2.19.0 in /opt/conda/lib/python3.10/site-packages (from pandas_datareader) (2.28.1)\n",
      "Requirement already satisfied: pandas>=0.23 in /opt/conda/lib/python3.10/site-packages (from pandas_datareader) (1.5.2)\n",
      "Requirement already satisfied: python-dateutil>=2.8.1 in /opt/conda/lib/python3.10/site-packages (from pandas>=0.23->pandas_datareader) (2.8.2)\n",
      "Requirement already satisfied: pytz>=2020.1 in /opt/conda/lib/python3.10/site-packages (from pandas>=0.23->pandas_datareader) (2022.6)\n",
      "Requirement already satisfied: numpy>=1.21.0 in /opt/conda/lib/python3.10/site-packages (from pandas>=0.23->pandas_datareader) (1.23.5)\n",
      "Requirement already satisfied: certifi>=2017.4.17 in /opt/conda/lib/python3.10/site-packages (from requests>=2.19.0->pandas_datareader) (2022.12.7)\n",
      "Requirement already satisfied: urllib3<1.27,>=1.21.1 in /opt/conda/lib/python3.10/site-packages (from requests>=2.19.0->pandas_datareader) (1.26.13)\n",
      "Requirement already satisfied: idna<4,>=2.5 in /opt/conda/lib/python3.10/site-packages (from requests>=2.19.0->pandas_datareader) (3.4)\n",
      "Requirement already satisfied: charset-normalizer<3,>=2 in /opt/conda/lib/python3.10/site-packages (from requests>=2.19.0->pandas_datareader) (2.1.1)\n",
      "Requirement already satisfied: six>=1.5 in /opt/conda/lib/python3.10/site-packages (from python-dateutil>=2.8.1->pandas>=0.23->pandas_datareader) (1.16.0)\n",
      "Note: you may need to restart the kernel to use updated packages.\n"
     ]
    }
   ],
   "source": [
    "pip install pandas_datareader\n"
   ]
  },
  {
   "cell_type": "code",
   "execution_count": 3,
   "metadata": {},
   "outputs": [
    {
     "name": "stdout",
     "output_type": "stream",
     "text": [
      "Requirement already satisfied: yfinance in /opt/conda/lib/python3.10/site-packages (0.2.18)\n",
      "Requirement already satisfied: lxml>=4.9.1 in /opt/conda/lib/python3.10/site-packages (from yfinance) (4.9.2)\n",
      "Requirement already satisfied: pytz>=2022.5 in /opt/conda/lib/python3.10/site-packages (from yfinance) (2022.6)\n",
      "Requirement already satisfied: multitasking>=0.0.7 in /opt/conda/lib/python3.10/site-packages (from yfinance) (0.0.11)\n",
      "Requirement already satisfied: cryptography>=3.3.2 in /opt/conda/lib/python3.10/site-packages (from yfinance) (38.0.4)\n",
      "Requirement already satisfied: frozendict>=2.3.4 in /opt/conda/lib/python3.10/site-packages (from yfinance) (2.3.7)\n",
      "Requirement already satisfied: requests>=2.26 in /opt/conda/lib/python3.10/site-packages (from yfinance) (2.28.1)\n",
      "Requirement already satisfied: html5lib>=1.1 in /opt/conda/lib/python3.10/site-packages (from yfinance) (1.1)\n",
      "Requirement already satisfied: appdirs>=1.4.4 in /opt/conda/lib/python3.10/site-packages (from yfinance) (1.4.4)\n",
      "Requirement already satisfied: pandas>=1.3.0 in /opt/conda/lib/python3.10/site-packages (from yfinance) (1.5.2)\n",
      "Requirement already satisfied: numpy>=1.16.5 in /opt/conda/lib/python3.10/site-packages (from yfinance) (1.23.5)\n",
      "Requirement already satisfied: beautifulsoup4>=4.11.1 in /opt/conda/lib/python3.10/site-packages (from yfinance) (4.11.1)\n",
      "Requirement already satisfied: soupsieve>1.2 in /opt/conda/lib/python3.10/site-packages (from beautifulsoup4>=4.11.1->yfinance) (2.3.2.post1)\n",
      "Requirement already satisfied: cffi>=1.12 in /opt/conda/lib/python3.10/site-packages (from cryptography>=3.3.2->yfinance) (1.15.1)\n",
      "Requirement already satisfied: six>=1.9 in /opt/conda/lib/python3.10/site-packages (from html5lib>=1.1->yfinance) (1.16.0)\n",
      "Requirement already satisfied: webencodings in /opt/conda/lib/python3.10/site-packages (from html5lib>=1.1->yfinance) (0.5.1)\n",
      "Requirement already satisfied: python-dateutil>=2.8.1 in /opt/conda/lib/python3.10/site-packages (from pandas>=1.3.0->yfinance) (2.8.2)\n",
      "Requirement already satisfied: idna<4,>=2.5 in /opt/conda/lib/python3.10/site-packages (from requests>=2.26->yfinance) (3.4)\n",
      "Requirement already satisfied: charset-normalizer<3,>=2 in /opt/conda/lib/python3.10/site-packages (from requests>=2.26->yfinance) (2.1.1)\n",
      "Requirement already satisfied: certifi>=2017.4.17 in /opt/conda/lib/python3.10/site-packages (from requests>=2.26->yfinance) (2022.12.7)\n",
      "Requirement already satisfied: urllib3<1.27,>=1.21.1 in /opt/conda/lib/python3.10/site-packages (from requests>=2.26->yfinance) (1.26.13)\n",
      "Requirement already satisfied: pycparser in /opt/conda/lib/python3.10/site-packages (from cffi>=1.12->cryptography>=3.3.2->yfinance) (2.21)\n",
      "Note: you may need to restart the kernel to use updated packages.\n"
     ]
    }
   ],
   "source": [
    "pip install yfinance"
   ]
  },
  {
   "cell_type": "code",
   "execution_count": 4,
   "metadata": {},
   "outputs": [],
   "source": [
    "### Data Collection\n",
    "\n",
    "import pandas_datareader.data as pdr\n",
    "#pip install yfinance\n",
    "import yfinance as yf\n",
    "yf.pdr_override()"
   ]
  },
  {
   "cell_type": "code",
   "execution_count": 5,
   "metadata": {},
   "outputs": [
    {
     "name": "stdout",
     "output_type": "stream",
     "text": [
      "[*********************100%***********************]  1 of 1 completed\n"
     ]
    },
    {
     "data": {
      "text/html": [
       "<div>\n",
       "<style scoped>\n",
       "    .dataframe tbody tr th:only-of-type {\n",
       "        vertical-align: middle;\n",
       "    }\n",
       "\n",
       "    .dataframe tbody tr th {\n",
       "        vertical-align: top;\n",
       "    }\n",
       "\n",
       "    .dataframe thead th {\n",
       "        text-align: right;\n",
       "    }\n",
       "</style>\n",
       "<table border=\"1\" class=\"dataframe\">\n",
       "  <thead>\n",
       "    <tr style=\"text-align: right;\">\n",
       "      <th></th>\n",
       "      <th>Open</th>\n",
       "      <th>High</th>\n",
       "      <th>Low</th>\n",
       "      <th>Close</th>\n",
       "      <th>Adj Close</th>\n",
       "      <th>Volume</th>\n",
       "    </tr>\n",
       "    <tr>\n",
       "      <th>Date</th>\n",
       "      <th></th>\n",
       "      <th></th>\n",
       "      <th></th>\n",
       "      <th></th>\n",
       "      <th></th>\n",
       "      <th></th>\n",
       "    </tr>\n",
       "  </thead>\n",
       "  <tbody>\n",
       "    <tr>\n",
       "      <th>2010-06-29</th>\n",
       "      <td>1.266667</td>\n",
       "      <td>1.666667</td>\n",
       "      <td>1.169333</td>\n",
       "      <td>1.592667</td>\n",
       "      <td>1.592667</td>\n",
       "      <td>281494500</td>\n",
       "    </tr>\n",
       "    <tr>\n",
       "      <th>2010-06-30</th>\n",
       "      <td>1.719333</td>\n",
       "      <td>2.028000</td>\n",
       "      <td>1.553333</td>\n",
       "      <td>1.588667</td>\n",
       "      <td>1.588667</td>\n",
       "      <td>257806500</td>\n",
       "    </tr>\n",
       "    <tr>\n",
       "      <th>2010-07-01</th>\n",
       "      <td>1.666667</td>\n",
       "      <td>1.728000</td>\n",
       "      <td>1.351333</td>\n",
       "      <td>1.464000</td>\n",
       "      <td>1.464000</td>\n",
       "      <td>123282000</td>\n",
       "    </tr>\n",
       "    <tr>\n",
       "      <th>2010-07-02</th>\n",
       "      <td>1.533333</td>\n",
       "      <td>1.540000</td>\n",
       "      <td>1.247333</td>\n",
       "      <td>1.280000</td>\n",
       "      <td>1.280000</td>\n",
       "      <td>77097000</td>\n",
       "    </tr>\n",
       "    <tr>\n",
       "      <th>2010-07-06</th>\n",
       "      <td>1.333333</td>\n",
       "      <td>1.333333</td>\n",
       "      <td>1.055333</td>\n",
       "      <td>1.074000</td>\n",
       "      <td>1.074000</td>\n",
       "      <td>103003500</td>\n",
       "    </tr>\n",
       "    <tr>\n",
       "      <th>...</th>\n",
       "      <td>...</td>\n",
       "      <td>...</td>\n",
       "      <td>...</td>\n",
       "      <td>...</td>\n",
       "      <td>...</td>\n",
       "      <td>...</td>\n",
       "    </tr>\n",
       "    <tr>\n",
       "      <th>2023-03-24</th>\n",
       "      <td>191.649994</td>\n",
       "      <td>192.360001</td>\n",
       "      <td>187.149994</td>\n",
       "      <td>190.410004</td>\n",
       "      <td>190.410004</td>\n",
       "      <td>116531600</td>\n",
       "    </tr>\n",
       "    <tr>\n",
       "      <th>2023-03-27</th>\n",
       "      <td>194.419998</td>\n",
       "      <td>197.389999</td>\n",
       "      <td>189.940002</td>\n",
       "      <td>191.809998</td>\n",
       "      <td>191.809998</td>\n",
       "      <td>120851600</td>\n",
       "    </tr>\n",
       "    <tr>\n",
       "      <th>2023-03-28</th>\n",
       "      <td>192.000000</td>\n",
       "      <td>192.350006</td>\n",
       "      <td>185.429993</td>\n",
       "      <td>189.190002</td>\n",
       "      <td>189.190002</td>\n",
       "      <td>98654600</td>\n",
       "    </tr>\n",
       "    <tr>\n",
       "      <th>2023-03-29</th>\n",
       "      <td>193.130005</td>\n",
       "      <td>195.289993</td>\n",
       "      <td>189.440002</td>\n",
       "      <td>193.880005</td>\n",
       "      <td>193.880005</td>\n",
       "      <td>123660000</td>\n",
       "    </tr>\n",
       "    <tr>\n",
       "      <th>2023-03-30</th>\n",
       "      <td>195.580002</td>\n",
       "      <td>197.330002</td>\n",
       "      <td>194.419998</td>\n",
       "      <td>195.279999</td>\n",
       "      <td>195.279999</td>\n",
       "      <td>110252200</td>\n",
       "    </tr>\n",
       "  </tbody>\n",
       "</table>\n",
       "<p>3211 rows × 6 columns</p>\n",
       "</div>"
      ],
      "text/plain": [
       "                  Open        High         Low       Close   Adj Close  \\\n",
       "Date                                                                     \n",
       "2010-06-29    1.266667    1.666667    1.169333    1.592667    1.592667   \n",
       "2010-06-30    1.719333    2.028000    1.553333    1.588667    1.588667   \n",
       "2010-07-01    1.666667    1.728000    1.351333    1.464000    1.464000   \n",
       "2010-07-02    1.533333    1.540000    1.247333    1.280000    1.280000   \n",
       "2010-07-06    1.333333    1.333333    1.055333    1.074000    1.074000   \n",
       "...                ...         ...         ...         ...         ...   \n",
       "2023-03-24  191.649994  192.360001  187.149994  190.410004  190.410004   \n",
       "2023-03-27  194.419998  197.389999  189.940002  191.809998  191.809998   \n",
       "2023-03-28  192.000000  192.350006  185.429993  189.190002  189.190002   \n",
       "2023-03-29  193.130005  195.289993  189.440002  193.880005  193.880005   \n",
       "2023-03-30  195.580002  197.330002  194.419998  195.279999  195.279999   \n",
       "\n",
       "               Volume  \n",
       "Date                   \n",
       "2010-06-29  281494500  \n",
       "2010-06-30  257806500  \n",
       "2010-07-01  123282000  \n",
       "2010-07-02   77097000  \n",
       "2010-07-06  103003500  \n",
       "...               ...  \n",
       "2023-03-24  116531600  \n",
       "2023-03-27  120851600  \n",
       "2023-03-28   98654600  \n",
       "2023-03-29  123660000  \n",
       "2023-03-30  110252200  \n",
       "\n",
       "[3211 rows x 6 columns]"
      ]
     },
     "execution_count": 5,
     "metadata": {},
     "output_type": "execute_result"
    }
   ],
   "source": [
    "start='2010-01-01'\n",
    "end= '2023-03-31'\n",
    "\n",
    "df = pdr.get_data_yahoo('TSLA',start,end)\n",
    "df"
   ]
  },
  {
   "cell_type": "code",
   "execution_count": 6,
   "metadata": {},
   "outputs": [],
   "source": [
    "df1=df.reset_index()['Close']"
   ]
  },
  {
   "cell_type": "code",
   "execution_count": 7,
   "metadata": {},
   "outputs": [
    {
     "data": {
      "text/html": [
       "<div>\n",
       "<style scoped>\n",
       "    .dataframe tbody tr th:only-of-type {\n",
       "        vertical-align: middle;\n",
       "    }\n",
       "\n",
       "    .dataframe tbody tr th {\n",
       "        vertical-align: top;\n",
       "    }\n",
       "\n",
       "    .dataframe thead th {\n",
       "        text-align: right;\n",
       "    }\n",
       "</style>\n",
       "<table border=\"1\" class=\"dataframe\">\n",
       "  <thead>\n",
       "    <tr style=\"text-align: right;\">\n",
       "      <th></th>\n",
       "      <th>Close</th>\n",
       "    </tr>\n",
       "    <tr>\n",
       "      <th>Date</th>\n",
       "      <th></th>\n",
       "    </tr>\n",
       "  </thead>\n",
       "  <tbody>\n",
       "    <tr>\n",
       "      <th>2010-06-29</th>\n",
       "      <td>1.592667</td>\n",
       "    </tr>\n",
       "    <tr>\n",
       "      <th>2010-06-30</th>\n",
       "      <td>1.588667</td>\n",
       "    </tr>\n",
       "    <tr>\n",
       "      <th>2010-07-01</th>\n",
       "      <td>1.464000</td>\n",
       "    </tr>\n",
       "    <tr>\n",
       "      <th>2010-07-02</th>\n",
       "      <td>1.280000</td>\n",
       "    </tr>\n",
       "    <tr>\n",
       "      <th>2010-07-06</th>\n",
       "      <td>1.074000</td>\n",
       "    </tr>\n",
       "    <tr>\n",
       "      <th>...</th>\n",
       "      <td>...</td>\n",
       "    </tr>\n",
       "    <tr>\n",
       "      <th>2023-03-24</th>\n",
       "      <td>190.410004</td>\n",
       "    </tr>\n",
       "    <tr>\n",
       "      <th>2023-03-27</th>\n",
       "      <td>191.809998</td>\n",
       "    </tr>\n",
       "    <tr>\n",
       "      <th>2023-03-28</th>\n",
       "      <td>189.190002</td>\n",
       "    </tr>\n",
       "    <tr>\n",
       "      <th>2023-03-29</th>\n",
       "      <td>193.880005</td>\n",
       "    </tr>\n",
       "    <tr>\n",
       "      <th>2023-03-30</th>\n",
       "      <td>195.279999</td>\n",
       "    </tr>\n",
       "  </tbody>\n",
       "</table>\n",
       "<p>3211 rows × 1 columns</p>\n",
       "</div>"
      ],
      "text/plain": [
       "                 Close\n",
       "Date                  \n",
       "2010-06-29    1.592667\n",
       "2010-06-30    1.588667\n",
       "2010-07-01    1.464000\n",
       "2010-07-02    1.280000\n",
       "2010-07-06    1.074000\n",
       "...                ...\n",
       "2023-03-24  190.410004\n",
       "2023-03-27  191.809998\n",
       "2023-03-28  189.190002\n",
       "2023-03-29  193.880005\n",
       "2023-03-30  195.279999\n",
       "\n",
       "[3211 rows x 1 columns]"
      ]
     },
     "execution_count": 7,
     "metadata": {},
     "output_type": "execute_result"
    }
   ],
   "source": [
    "data= df.filter(['Close'])\n",
    "data"
   ]
  },
  {
   "cell_type": "code",
   "execution_count": 8,
   "metadata": {},
   "outputs": [
    {
     "data": {
      "text/plain": [
       "0         1.592667\n",
       "1         1.588667\n",
       "2         1.464000\n",
       "3         1.280000\n",
       "4         1.074000\n",
       "           ...    \n",
       "3206    190.410004\n",
       "3207    191.809998\n",
       "3208    189.190002\n",
       "3209    193.880005\n",
       "3210    195.279999\n",
       "Name: Close, Length: 3211, dtype: float64"
      ]
     },
     "execution_count": 8,
     "metadata": {},
     "output_type": "execute_result"
    }
   ],
   "source": [
    "df1"
   ]
  },
  {
   "cell_type": "code",
   "execution_count": 9,
   "metadata": {},
   "outputs": [
    {
     "data": {
      "image/png": "[encoded data removed]",
      "text/plain": [
       "<Figure size 1200x600 with 1 Axes>"
      ]
     },
     "metadata": {},
     "output_type": "display_data"
    }
   ],
   "source": [
    "import matplotlib.pyplot as plt\n",
    "plt.figure(figsize=(12,6))\n",
    "plt.plot(df1,'r',label='stockprice')\n",
    "plt.legend()\n",
    "plt.show()"
   ]
  },
  {
   "cell_type": "code",
   "execution_count": 10,
   "metadata": {},
   "outputs": [],
   "source": [
    "### LSTM are sensitive to the scale of the data. so we apply MinMax scaler "
   ]
  },
  {
   "cell_type": "code",
   "execution_count": 11,
   "metadata": {},
   "outputs": [
    {
     "data": {
      "text/plain": [
       "0         1.592667\n",
       "1         1.588667\n",
       "2         1.464000\n",
       "3         1.280000\n",
       "4         1.074000\n",
       "           ...    \n",
       "3206    190.410004\n",
       "3207    191.809998\n",
       "3208    189.190002\n",
       "3209    193.880005\n",
       "3210    195.279999\n",
       "Name: Close, Length: 3211, dtype: float64"
      ]
     },
     "execution_count": 11,
     "metadata": {},
     "output_type": "execute_result"
    }
   ],
   "source": [
    "df1"
   ]
  },
  {
   "cell_type": "code",
   "execution_count": 12,
   "metadata": {},
   "outputs": [],
   "source": [
    "from sklearn.preprocessing import MinMaxScaler\n",
    "scaler=MinMaxScaler(feature_range=(0,1))\n",
    "df1=scaler.fit_transform(np.array(df1).reshape(-1,1))"
   ]
  },
  {
   "cell_type": "code",
   "execution_count": 13,
   "metadata": {},
   "outputs": [
    {
     "name": "stdout",
     "output_type": "stream",
     "text": [
      "[[0.00131893]\n",
      " [0.00130915]\n",
      " [0.00100428]\n",
      " ...\n",
      " [0.4600856 ]\n",
      " [0.47155493]\n",
      " [0.4749786 ]]\n"
     ]
    }
   ],
   "source": [
    "print(df1)"
   ]
  },
  {
   "cell_type": "code",
   "execution_count": 14,
   "metadata": {},
   "outputs": [
    {
     "data": {
      "text/plain": [
       "2087"
      ]
     },
     "execution_count": 14,
     "metadata": {},
     "output_type": "execute_result"
    }
   ],
   "source": [
    "int(len(df1)*0.65)"
   ]
  },
  {
   "cell_type": "code",
   "execution_count": 15,
   "metadata": {},
   "outputs": [],
   "source": [
    "##splitting dataset into train and test split\n",
    "training_size=int(len(df1)*0.65)\n",
    "test_size=len(df1)-training_size\n",
    "train_data,test_data=df1[0:training_size,:],df1[training_size:len(df1),:1]"
   ]
  },
  {
   "cell_type": "code",
   "execution_count": 16,
   "metadata": {},
   "outputs": [
    {
     "data": {
      "text/plain": [
       "(2087, 1124)"
      ]
     },
     "execution_count": 16,
     "metadata": {},
     "output_type": "execute_result"
    }
   ],
   "source": [
    "training_size,test_size"
   ]
  },
  {
   "cell_type": "code",
   "execution_count": 17,
   "metadata": {},
   "outputs": [
    {
     "data": {
      "text/plain": [
       "array([[0.00131893],\n",
       "       [0.00130915],\n",
       "       [0.00100428],\n",
       "       ...,\n",
       "       [0.03827349],\n",
       "       [0.04026901],\n",
       "       [0.03930385]])"
      ]
     },
     "execution_count": 17,
     "metadata": {},
     "output_type": "execute_result"
    }
   ],
   "source": [
    "train_data"
   ]
  },
  {
   "cell_type": "code",
   "execution_count": 18,
   "metadata": {},
   "outputs": [],
   "source": [
    "import numpy\n",
    "# convert an array of values into a dataset matrix\n",
    "def create_dataset(dataset, time_step=1):\n",
    "\tdataX, dataY = [], []\n",
    "\tfor i in range(len(dataset)-time_step-1):\n",
    "\t\ta = dataset[i:(i+time_step), 0]   ###i=0, 0,1,2,3-----99   100 \n",
    "\t\tdataX.append(a)\n",
    "\t\tdataY.append(dataset[i + time_step, 0])\n",
    "\treturn numpy.array(dataX), numpy.array(dataY)"
   ]
  },
  {
   "cell_type": "code",
   "execution_count": 19,
   "metadata": {},
   "outputs": [],
   "source": [
    "# reshape into X=t,t+1,t+2,t+3 and Y=t+4\n",
    "time_step = 100\n",
    "X_train, y_train = create_dataset(train_data, time_step)\n",
    "X_test, ytest = create_dataset(test_data, time_step)"
   ]
  },
  {
   "cell_type": "code",
   "execution_count": 20,
   "metadata": {},
   "outputs": [
    {
     "data": {
      "text/plain": [
       "array([[0.03854575, 0.03961362, 0.03974567, ..., 0.04250907, 0.04246016,\n",
       "        0.04251722],\n",
       "       [0.03961362, 0.03974567, 0.04251722, ..., 0.04246016, 0.04251722,\n",
       "        0.04374812],\n",
       "       [0.03974567, 0.04251722, 0.04173304, ..., 0.04251722, 0.04374812,\n",
       "        0.04485348],\n",
       "       ...,\n",
       "       [0.55386996, 0.55455473, 0.52315467, ..., 0.46487873, 0.46749542,\n",
       "        0.46306909],\n",
       "       [0.55455473, 0.52315467, 0.52396168, ..., 0.46749542, 0.46306909,\n",
       "        0.46649276],\n",
       "       [0.52315467, 0.52396168, 0.50478908, ..., 0.46306909, 0.46649276,\n",
       "        0.4600856 ]])"
      ]
     },
     "execution_count": 20,
     "metadata": {},
     "output_type": "execute_result"
    }
   ],
   "source": [
    "X_test"
   ]
  },
  {
   "cell_type": "code",
   "execution_count": 21,
   "metadata": {},
   "outputs": [
    {
     "name": "stdout",
     "output_type": "stream",
     "text": [
      "(1986, 100)\n",
      "(1986,)\n"
     ]
    },
    {
     "data": {
      "text/plain": [
       "(None, None)"
      ]
     },
     "execution_count": 21,
     "metadata": {},
     "output_type": "execute_result"
    }
   ],
   "source": [
    "print(X_train.shape), print(y_train.shape)"
   ]
  },
  {
   "cell_type": "code",
   "execution_count": 22,
   "metadata": {},
   "outputs": [
    {
     "name": "stdout",
     "output_type": "stream",
     "text": [
      "(1023, 100)\n",
      "(1023,)\n"
     ]
    },
    {
     "data": {
      "text/plain": [
       "(None, None)"
      ]
     },
     "execution_count": 22,
     "metadata": {},
     "output_type": "execute_result"
    }
   ],
   "source": [
    "print(X_test.shape), print(ytest.shape)"
   ]
  },
  {
   "cell_type": "code",
   "execution_count": 23,
   "metadata": {},
   "outputs": [
    {
     "data": {
      "text/plain": [
       "1023"
      ]
     },
     "execution_count": 23,
     "metadata": {},
     "output_type": "execute_result"
    }
   ],
   "source": [
    "len(ytest)"
   ]
  },
  {
   "cell_type": "code",
   "execution_count": 24,
   "metadata": {},
   "outputs": [],
   "source": [
    "# reshape input to be [samples, time steps, features] which is required for LSTM\n",
    "X_train =X_train.reshape(X_train.shape[0],X_train.shape[1] , 1)\n",
    "X_test = X_test.reshape(X_test.shape[0],X_test.shape[1] , 1)"
   ]
  },
  {
   "cell_type": "code",
   "execution_count": 25,
   "metadata": {},
   "outputs": [
    {
     "data": {
      "text/plain": [
       "array([[[0.03854575],\n",
       "        [0.03961362],\n",
       "        [0.03974567],\n",
       "        ...,\n",
       "        [0.04250907],\n",
       "        [0.04246016],\n",
       "        [0.04251722]],\n",
       "\n",
       "       [[0.03961362],\n",
       "        [0.03974567],\n",
       "        [0.04251722],\n",
       "        ...,\n",
       "        [0.04246016],\n",
       "        [0.04251722],\n",
       "        [0.04374812]],\n",
       "\n",
       "       [[0.03974567],\n",
       "        [0.04251722],\n",
       "        [0.04173304],\n",
       "        ...,\n",
       "        [0.04251722],\n",
       "        [0.04374812],\n",
       "        [0.04485348]],\n",
       "\n",
       "       ...,\n",
       "\n",
       "       [[0.55386996],\n",
       "        [0.55455473],\n",
       "        [0.52315467],\n",
       "        ...,\n",
       "        [0.46487873],\n",
       "        [0.46749542],\n",
       "        [0.46306909]],\n",
       "\n",
       "       [[0.55455473],\n",
       "        [0.52315467],\n",
       "        [0.52396168],\n",
       "        ...,\n",
       "        [0.46749542],\n",
       "        [0.46306909],\n",
       "        [0.46649276]],\n",
       "\n",
       "       [[0.52315467],\n",
       "        [0.52396168],\n",
       "        [0.50478908],\n",
       "        ...,\n",
       "        [0.46306909],\n",
       "        [0.46649276],\n",
       "        [0.4600856 ]]])"
      ]
     },
     "execution_count": 25,
     "metadata": {},
     "output_type": "execute_result"
    }
   ],
   "source": [
    "X_test"
   ]
  },
  {
   "cell_type": "code",
   "execution_count": 26,
   "metadata": {},
   "outputs": [
    {
     "name": "stdout",
     "output_type": "stream",
     "text": [
      "Requirement already satisfied: tensorflow in /opt/conda/lib/python3.10/site-packages (2.12.0)\n",
      "Requirement already satisfied: tensorboard<2.13,>=2.12 in /opt/conda/lib/python3.10/site-packages (from tensorflow) (2.12.2)\n",
      "Requirement already satisfied: termcolor>=1.1.0 in /opt/conda/lib/python3.10/site-packages (from tensorflow) (2.2.0)\n",
      "Requirement already satisfied: packaging in /opt/conda/lib/python3.10/site-packages (from tensorflow) (22.0)\n",
      "Requirement already satisfied: wrapt<1.15,>=1.11.0 in /opt/conda/lib/python3.10/site-packages (from tensorflow) (1.14.1)\n",
      "Requirement already satisfied: h5py>=2.9.0 in /opt/conda/lib/python3.10/site-packages (from tensorflow) (3.7.0)\n",
      "Requirement already satisfied: tensorflow-estimator<2.13,>=2.12.0 in /opt/conda/lib/python3.10/site-packages (from tensorflow) (2.12.0)\n",
      "Requirement already satisfied: flatbuffers>=2.0 in /opt/conda/lib/python3.10/site-packages (from tensorflow) (23.3.3)\n",
      "Requirement already satisfied: tensorflow-io-gcs-filesystem>=0.23.1 in /opt/conda/lib/python3.10/site-packages (from tensorflow) (0.32.0)\n",
      "Requirement already satisfied: keras<2.13,>=2.12.0 in /opt/conda/lib/python3.10/site-packages (from tensorflow) (2.12.0)\n",
      "Requirement already satisfied: absl-py>=1.0.0 in /opt/conda/lib/python3.10/site-packages (from tensorflow) (1.4.0)\n",
      "Requirement already satisfied: setuptools in /opt/conda/lib/python3.10/site-packages (from tensorflow) (65.5.1)\n",
      "Requirement already satisfied: typing-extensions>=3.6.6 in /opt/conda/lib/python3.10/site-packages (from tensorflow) (4.4.0)\n",
      "Requirement already satisfied: numpy<1.24,>=1.22 in /opt/conda/lib/python3.10/site-packages (from tensorflow) (1.23.5)\n",
      "Requirement already satisfied: six>=1.12.0 in /opt/conda/lib/python3.10/site-packages (from tensorflow) (1.16.0)\n",
      "Requirement already satisfied: gast<=0.4.0,>=0.2.1 in /opt/conda/lib/python3.10/site-packages (from tensorflow) (0.4.0)\n",
      "Requirement already satisfied: opt-einsum>=2.3.2 in /opt/conda/lib/python3.10/site-packages (from tensorflow) (3.3.0)\n",
      "Requirement already satisfied: jax>=0.3.15 in /opt/conda/lib/python3.10/site-packages (from tensorflow) (0.4.8)\n",
      "Requirement already satisfied: libclang>=13.0.0 in /opt/conda/lib/python3.10/site-packages (from tensorflow) (16.0.0)\n",
      "Requirement already satisfied: grpcio<2.0,>=1.24.3 in /opt/conda/lib/python3.10/site-packages (from tensorflow) (1.54.0)\n",
      "Requirement already satisfied: protobuf!=4.21.0,!=4.21.1,!=4.21.2,!=4.21.3,!=4.21.4,!=4.21.5,<5.0.0dev,>=3.20.3 in /opt/conda/lib/python3.10/site-packages (from tensorflow) (4.21.11)\n",
      "Requirement already satisfied: google-pasta>=0.1.1 in /opt/conda/lib/python3.10/site-packages (from tensorflow) (0.2.0)\n",
      "Requirement already satisfied: astunparse>=1.6.0 in /opt/conda/lib/python3.10/site-packages (from tensorflow) (1.6.3)\n",
      "Requirement already satisfied: wheel<1.0,>=0.23.0 in /opt/conda/lib/python3.10/site-packages (from astunparse>=1.6.0->tensorflow) (0.38.4)\n",
      "Requirement already satisfied: scipy>=1.7 in /opt/conda/lib/python3.10/site-packages (from jax>=0.3.15->tensorflow) (1.9.3)\n",
      "Requirement already satisfied: ml-dtypes>=0.0.3 in /opt/conda/lib/python3.10/site-packages (from jax>=0.3.15->tensorflow) (0.1.0)\n",
      "Requirement already satisfied: markdown>=2.6.8 in /opt/conda/lib/python3.10/site-packages (from tensorboard<2.13,>=2.12->tensorflow) (3.4.3)\n",
      "Requirement already satisfied: requests<3,>=2.21.0 in /opt/conda/lib/python3.10/site-packages (from tensorboard<2.13,>=2.12->tensorflow) (2.28.1)\n",
      "Requirement already satisfied: werkzeug>=1.0.1 in /opt/conda/lib/python3.10/site-packages (from tensorboard<2.13,>=2.12->tensorflow) (2.2.3)\n",
      "Requirement already satisfied: google-auth<3,>=1.6.3 in /opt/conda/lib/python3.10/site-packages (from tensorboard<2.13,>=2.12->tensorflow) (2.17.3)\n",
      "Requirement already satisfied: google-auth-oauthlib<1.1,>=0.5 in /opt/conda/lib/python3.10/site-packages (from tensorboard<2.13,>=2.12->tensorflow) (1.0.0)\n",
      "Requirement already satisfied: tensorboard-plugin-wit>=1.6.0 in /opt/conda/lib/python3.10/site-packages (from tensorboard<2.13,>=2.12->tensorflow) (1.8.1)\n",
      "Requirement already satisfied: tensorboard-data-server<0.8.0,>=0.7.0 in /opt/conda/lib/python3.10/site-packages (from tensorboard<2.13,>=2.12->tensorflow) (0.7.0)\n",
      "Requirement already satisfied: cachetools<6.0,>=2.0.0 in /opt/conda/lib/python3.10/site-packages (from google-auth<3,>=1.6.3->tensorboard<2.13,>=2.12->tensorflow) (5.3.0)\n",
      "Requirement already satisfied: pyasn1-modules>=0.2.1 in /opt/conda/lib/python3.10/site-packages (from google-auth<3,>=1.6.3->tensorboard<2.13,>=2.12->tensorflow) (0.3.0)\n",
      "Requirement already satisfied: rsa<5,>=3.1.4 in /opt/conda/lib/python3.10/site-packages (from google-auth<3,>=1.6.3->tensorboard<2.13,>=2.12->tensorflow) (4.9)\n",
      "Requirement already satisfied: requests-oauthlib>=0.7.0 in /opt/conda/lib/python3.10/site-packages (from google-auth-oauthlib<1.1,>=0.5->tensorboard<2.13,>=2.12->tensorflow) (1.3.1)\n",
      "Requirement already satisfied: idna<4,>=2.5 in /opt/conda/lib/python3.10/site-packages (from requests<3,>=2.21.0->tensorboard<2.13,>=2.12->tensorflow) (3.4)\n",
      "Requirement already satisfied: charset-normalizer<3,>=2 in /opt/conda/lib/python3.10/site-packages (from requests<3,>=2.21.0->tensorboard<2.13,>=2.12->tensorflow) (2.1.1)\n",
      "Requirement already satisfied: certifi>=2017.4.17 in /opt/conda/lib/python3.10/site-packages (from requests<3,>=2.21.0->tensorboard<2.13,>=2.12->tensorflow) (2022.12.7)\n",
      "Requirement already satisfied: urllib3<1.27,>=1.21.1 in /opt/conda/lib/python3.10/site-packages (from requests<3,>=2.21.0->tensorboard<2.13,>=2.12->tensorflow) (1.26.13)\n",
      "Requirement already satisfied: MarkupSafe>=2.1.1 in /opt/conda/lib/python3.10/site-packages (from werkzeug>=1.0.1->tensorboard<2.13,>=2.12->tensorflow) (2.1.1)\n",
      "Requirement already satisfied: pyasn1<0.6.0,>=0.4.6 in /opt/conda/lib/python3.10/site-packages (from pyasn1-modules>=0.2.1->google-auth<3,>=1.6.3->tensorboard<2.13,>=2.12->tensorflow) (0.5.0)\n",
      "Requirement already satisfied: oauthlib>=3.0.0 in /opt/conda/lib/python3.10/site-packages (from requests-oauthlib>=0.7.0->google-auth-oauthlib<1.1,>=0.5->tensorboard<2.13,>=2.12->tensorflow) (3.2.2)\n",
      "Note: you may need to restart the kernel to use updated packages.\n"
     ]
    }
   ],
   "source": [
    "pip install tensorflow"
   ]
  },
  {
   "cell_type": "code",
   "execution_count": 27,
   "metadata": {},
   "outputs": [
    {
     "name": "stderr",
     "output_type": "stream",
     "text": [
      "2023-04-20 08:45:24.265243: I tensorflow/tsl/cuda/cudart_stub.cc:28] Could not find cuda drivers on your machine, GPU will not be used.\n",
      "2023-04-20 08:45:24.335379: I tensorflow/tsl/cuda/cudart_stub.cc:28] Could not find cuda drivers on your machine, GPU will not be used.\n",
      "2023-04-20 08:45:24.336849: I tensorflow/core/platform/cpu_feature_guard.cc:182] This TensorFlow binary is optimized to use available CPU instructions in performance-critical operations.\n",
      "To enable the following instructions: AVX2 FMA, in other operations, rebuild TensorFlow with the appropriate compiler flags.\n",
      "2023-04-20 08:45:25.382101: W tensorflow/compiler/tf2tensorrt/utils/py_utils.cc:38] TF-TRT Warning: Could not find TensorRT\n"
     ]
    }
   ],
   "source": [
    "### Create the Stacked LSTM model\n",
    "from tensorflow.keras.models import Sequential\n",
    "from tensorflow.keras.layers import Dense\n",
    "from tensorflow.keras.layers import LSTM"
   ]
  },
  {
   "cell_type": "code",
   "execution_count": 28,
   "metadata": {},
   "outputs": [
    {
     "name": "stderr",
     "output_type": "stream",
     "text": [
      "2023-04-20 08:45:26.556179: I tensorflow/core/common_runtime/executor.cc:1197] [/device:CPU:0] (DEBUG INFO) Executor start aborting (this does not indicate an error and you can ignore this message): INVALID_ARGUMENT: You must feed a value for placeholder tensor 'gradients/split_2_grad/concat/split_2/split_dim' with dtype int32\n",
      "\t [[{{node gradients/split_2_grad/concat/split_2/split_dim}}]]\n",
      "2023-04-20 08:45:26.558472: I tensorflow/core/common_runtime/executor.cc:1197] [/device:CPU:0] (DEBUG INFO) Executor start aborting (this does not indicate an error and you can ignore this message): INVALID_ARGUMENT: You must feed a value for placeholder tensor 'gradients/split_grad/concat/split/split_dim' with dtype int32\n",
      "\t [[{{node gradients/split_grad/concat/split/split_dim}}]]\n",
      "2023-04-20 08:45:26.559856: I tensorflow/core/common_runtime/executor.cc:1197] [/device:CPU:0] (DEBUG INFO) Executor start aborting (this does not indicate an error and you can ignore this message): INVALID_ARGUMENT: You must feed a value for placeholder tensor 'gradients/split_1_grad/concat/split_1/split_dim' with dtype int32\n",
      "\t [[{{node gradients/split_1_grad/concat/split_1/split_dim}}]]\n",
      "2023-04-20 08:45:26.814756: I tensorflow/core/common_runtime/executor.cc:1197] [/device:CPU:0] (DEBUG INFO) Executor start aborting (this does not indicate an error and you can ignore this message): INVALID_ARGUMENT: You must feed a value for placeholder tensor 'gradients/split_2_grad/concat/split_2/split_dim' with dtype int32\n",
      "\t [[{{node gradients/split_2_grad/concat/split_2/split_dim}}]]\n",
      "2023-04-20 08:45:26.816884: I tensorflow/core/common_runtime/executor.cc:1197] [/device:CPU:0] (DEBUG INFO) Executor start aborting (this does not indicate an error and you can ignore this message): INVALID_ARGUMENT: You must feed a value for placeholder tensor 'gradients/split_grad/concat/split/split_dim' with dtype int32\n",
      "\t [[{{node gradients/split_grad/concat/split/split_dim}}]]\n",
      "2023-04-20 08:45:26.818669: I tensorflow/core/common_runtime/executor.cc:1197] [/device:CPU:0] (DEBUG INFO) Executor start aborting (this does not indicate an error and you can ignore this message): INVALID_ARGUMENT: You must feed a value for placeholder tensor 'gradients/split_1_grad/concat/split_1/split_dim' with dtype int32\n",
      "\t [[{{node gradients/split_1_grad/concat/split_1/split_dim}}]]\n",
      "2023-04-20 08:45:27.254407: I tensorflow/core/common_runtime/executor.cc:1197] [/device:CPU:0] (DEBUG INFO) Executor start aborting (this does not indicate an error and you can ignore this message): INVALID_ARGUMENT: You must feed a value for placeholder tensor 'gradients/split_2_grad/concat/split_2/split_dim' with dtype int32\n",
      "\t [[{{node gradients/split_2_grad/concat/split_2/split_dim}}]]\n",
      "2023-04-20 08:45:27.256778: I tensorflow/core/common_runtime/executor.cc:1197] [/device:CPU:0] (DEBUG INFO) Executor start aborting (this does not indicate an error and you can ignore this message): INVALID_ARGUMENT: You must feed a value for placeholder tensor 'gradients/split_grad/concat/split/split_dim' with dtype int32\n",
      "\t [[{{node gradients/split_grad/concat/split/split_dim}}]]\n",
      "2023-04-20 08:45:27.258892: I tensorflow/core/common_runtime/executor.cc:1197] [/device:CPU:0] (DEBUG INFO) Executor start aborting (this does not indicate an error and you can ignore this message): INVALID_ARGUMENT: You must feed a value for placeholder tensor 'gradients/split_1_grad/concat/split_1/split_dim' with dtype int32\n",
      "\t [[{{node gradients/split_1_grad/concat/split_1/split_dim}}]]\n",
      "2023-04-20 08:45:27.502860: I tensorflow/core/common_runtime/executor.cc:1197] [/device:CPU:0] (DEBUG INFO) Executor start aborting (this does not indicate an error and you can ignore this message): INVALID_ARGUMENT: You must feed a value for placeholder tensor 'gradients/split_2_grad/concat/split_2/split_dim' with dtype int32\n",
      "\t [[{{node gradients/split_2_grad/concat/split_2/split_dim}}]]\n",
      "2023-04-20 08:45:27.505156: I tensorflow/core/common_runtime/executor.cc:1197] [/device:CPU:0] (DEBUG INFO) Executor start aborting (this does not indicate an error and you can ignore this message): INVALID_ARGUMENT: You must feed a value for placeholder tensor 'gradients/split_grad/concat/split/split_dim' with dtype int32\n",
      "\t [[{{node gradients/split_grad/concat/split/split_dim}}]]\n",
      "2023-04-20 08:45:27.507244: I tensorflow/core/common_runtime/executor.cc:1197] [/device:CPU:0] (DEBUG INFO) Executor start aborting (this does not indicate an error and you can ignore this message): INVALID_ARGUMENT: You must feed a value for placeholder tensor 'gradients/split_1_grad/concat/split_1/split_dim' with dtype int32\n",
      "\t [[{{node gradients/split_1_grad/concat/split_1/split_dim}}]]\n",
      "2023-04-20 08:45:28.459045: I tensorflow/core/common_runtime/executor.cc:1197] [/device:CPU:0] (DEBUG INFO) Executor start aborting (this does not indicate an error and you can ignore this message): INVALID_ARGUMENT: You must feed a value for placeholder tensor 'gradients/split_2_grad/concat/split_2/split_dim' with dtype int32\n",
      "\t [[{{node gradients/split_2_grad/concat/split_2/split_dim}}]]\n",
      "2023-04-20 08:45:28.461470: I tensorflow/core/common_runtime/executor.cc:1197] [/device:CPU:0] (DEBUG INFO) Executor start aborting (this does not indicate an error and you can ignore this message): INVALID_ARGUMENT: You must feed a value for placeholder tensor 'gradients/split_grad/concat/split/split_dim' with dtype int32\n",
      "\t [[{{node gradients/split_grad/concat/split/split_dim}}]]\n",
      "2023-04-20 08:45:28.463178: I tensorflow/core/common_runtime/executor.cc:1197] [/device:CPU:0] (DEBUG INFO) Executor start aborting (this does not indicate an error and you can ignore this message): INVALID_ARGUMENT: You must feed a value for placeholder tensor 'gradients/split_1_grad/concat/split_1/split_dim' with dtype int32\n",
      "\t [[{{node gradients/split_1_grad/concat/split_1/split_dim}}]]\n",
      "2023-04-20 08:45:28.705942: I tensorflow/core/common_runtime/executor.cc:1197] [/device:CPU:0] (DEBUG INFO) Executor start aborting (this does not indicate an error and you can ignore this message): INVALID_ARGUMENT: You must feed a value for placeholder tensor 'gradients/split_2_grad/concat/split_2/split_dim' with dtype int32\n",
      "\t [[{{node gradients/split_2_grad/concat/split_2/split_dim}}]]\n",
      "2023-04-20 08:45:28.708285: I tensorflow/core/common_runtime/executor.cc:1197] [/device:CPU:0] (DEBUG INFO) Executor start aborting (this does not indicate an error and you can ignore this message): INVALID_ARGUMENT: You must feed a value for placeholder tensor 'gradients/split_grad/concat/split/split_dim' with dtype int32\n",
      "\t [[{{node gradients/split_grad/concat/split/split_dim}}]]\n",
      "2023-04-20 08:45:28.709812: I tensorflow/core/common_runtime/executor.cc:1197] [/device:CPU:0] (DEBUG INFO) Executor start aborting (this does not indicate an error and you can ignore this message): INVALID_ARGUMENT: You must feed a value for placeholder tensor 'gradients/split_1_grad/concat/split_1/split_dim' with dtype int32\n",
      "\t [[{{node gradients/split_1_grad/concat/split_1/split_dim}}]]\n"
     ]
    },
    {
     "name": "stdout",
     "output_type": "stream",
     "text": [
      "1986/1986 [==============================] - ETA: 0s - loss: 2.5787e-05"
     ]
    },
    {
     "name": "stderr",
     "output_type": "stream",
     "text": [
      "2023-04-20 08:47:02.158649: I tensorflow/core/common_runtime/executor.cc:1197] [/device:CPU:0] (DEBUG INFO) Executor start aborting (this does not indicate an error and you can ignore this message): INVALID_ARGUMENT: You must feed a value for placeholder tensor 'gradients/split_2_grad/concat/split_2/split_dim' with dtype int32\n",
      "\t [[{{node gradients/split_2_grad/concat/split_2/split_dim}}]]\n",
      "2023-04-20 08:47:02.161211: I tensorflow/core/common_runtime/executor.cc:1197] [/device:CPU:0] (DEBUG INFO) Executor start aborting (this does not indicate an error and you can ignore this message): INVALID_ARGUMENT: You must feed a value for placeholder tensor 'gradients/split_grad/concat/split/split_dim' with dtype int32\n",
      "\t [[{{node gradients/split_grad/concat/split/split_dim}}]]\n",
      "2023-04-20 08:47:02.162765: I tensorflow/core/common_runtime/executor.cc:1197] [/device:CPU:0] (DEBUG INFO) Executor start aborting (this does not indicate an error and you can ignore this message): INVALID_ARGUMENT: You must feed a value for placeholder tensor 'gradients/split_1_grad/concat/split_1/split_dim' with dtype int32\n",
      "\t [[{{node gradients/split_1_grad/concat/split_1/split_dim}}]]\n",
      "2023-04-20 08:47:02.401041: I tensorflow/core/common_runtime/executor.cc:1197] [/device:CPU:0] (DEBUG INFO) Executor start aborting (this does not indicate an error and you can ignore this message): INVALID_ARGUMENT: You must feed a value for placeholder tensor 'gradients/split_2_grad/concat/split_2/split_dim' with dtype int32\n",
      "\t [[{{node gradients/split_2_grad/concat/split_2/split_dim}}]]\n",
      "2023-04-20 08:47:02.403215: I tensorflow/core/common_runtime/executor.cc:1197] [/device:CPU:0] (DEBUG INFO) Executor start aborting (this does not indicate an error and you can ignore this message): INVALID_ARGUMENT: You must feed a value for placeholder tensor 'gradients/split_grad/concat/split/split_dim' with dtype int32\n",
      "\t [[{{node gradients/split_grad/concat/split/split_dim}}]]\n",
      "2023-04-20 08:47:02.404793: I tensorflow/core/common_runtime/executor.cc:1197] [/device:CPU:0] (DEBUG INFO) Executor start aborting (this does not indicate an error and you can ignore this message): INVALID_ARGUMENT: You must feed a value for placeholder tensor 'gradients/split_1_grad/concat/split_1/split_dim' with dtype int32\n",
      "\t [[{{node gradients/split_1_grad/concat/split_1/split_dim}}]]\n"
     ]
    },
    {
     "name": "stdout",
     "output_type": "stream",
     "text": [
      "1986/1986 [==============================] - 112s 55ms/step - loss: 2.5787e-05 - val_loss: 0.0013\n"
     ]
    },
    {
     "data": {
      "text/plain": [
       "<keras.callbacks.History at 0x7f89f41474c0>"
      ]
     },
     "execution_count": 28,
     "metadata": {},
     "output_type": "execute_result"
    }
   ],
   "source": [
    "model=Sequential()\n",
    "model.add(LSTM(128,return_sequences=True,input_shape=(X_train.shape[1],1)))\n",
    "model.add(LSTM(64,return_sequences=False))\n",
    "model.add(Dense(25))\n",
    "model.add(Dense(1))\n",
    "#compilig\n",
    "model.compile(loss='mean_squared_error',optimizer='adam')\n",
    "\n",
    "#trai model\n",
    "model.fit(X_train,y_train,validation_data=(X_test,ytest),epochs=1,batch_size=1)"
   ]
  },
  {
   "cell_type": "code",
   "execution_count": 29,
   "metadata": {},
   "outputs": [
    {
     "name": "stdout",
     "output_type": "stream",
     "text": [
      "Model: \"sequential\"\n",
      "_________________________________________________________________\n",
      " Layer (type)                Output Shape              Param #   \n",
      "=================================================================\n",
      " lstm (LSTM)                 (None, 100, 128)          66560     \n",
      "                                                                 \n",
      " lstm_1 (LSTM)               (None, 64)                49408     \n",
      "                                                                 \n",
      " dense (Dense)               (None, 25)                1625      \n",
      "                                                                 \n",
      " dense_1 (Dense)             (None, 1)                 26        \n",
      "                                                                 \n",
      "=================================================================\n",
      "Total params: 117,619\n",
      "Trainable params: 117,619\n",
      "Non-trainable params: 0\n",
      "_________________________________________________________________\n"
     ]
    }
   ],
   "source": [
    "model.summary()"
   ]
  },
  {
   "cell_type": "code",
   "execution_count": 30,
   "metadata": {},
   "outputs": [],
   "source": [
    "import tensorflow as tf"
   ]
  },
  {
   "cell_type": "code",
   "execution_count": 31,
   "metadata": {},
   "outputs": [
    {
     "data": {
      "text/plain": [
       "'2.12.0'"
      ]
     },
     "execution_count": 31,
     "metadata": {},
     "output_type": "execute_result"
    }
   ],
   "source": [
    "tf.__version__"
   ]
  },
  {
   "cell_type": "code",
   "execution_count": 32,
   "metadata": {},
   "outputs": [
    {
     "name": "stderr",
     "output_type": "stream",
     "text": [
      "2023-04-20 08:47:19.172977: I tensorflow/core/common_runtime/executor.cc:1197] [/device:CPU:0] (DEBUG INFO) Executor start aborting (this does not indicate an error and you can ignore this message): INVALID_ARGUMENT: You must feed a value for placeholder tensor 'gradients/split_2_grad/concat/split_2/split_dim' with dtype int32\n",
      "\t [[{{node gradients/split_2_grad/concat/split_2/split_dim}}]]\n",
      "2023-04-20 08:47:19.175014: I tensorflow/core/common_runtime/executor.cc:1197] [/device:CPU:0] (DEBUG INFO) Executor start aborting (this does not indicate an error and you can ignore this message): INVALID_ARGUMENT: You must feed a value for placeholder tensor 'gradients/split_grad/concat/split/split_dim' with dtype int32\n",
      "\t [[{{node gradients/split_grad/concat/split/split_dim}}]]\n",
      "2023-04-20 08:47:19.176589: I tensorflow/core/common_runtime/executor.cc:1197] [/device:CPU:0] (DEBUG INFO) Executor start aborting (this does not indicate an error and you can ignore this message): INVALID_ARGUMENT: You must feed a value for placeholder tensor 'gradients/split_1_grad/concat/split_1/split_dim' with dtype int32\n",
      "\t [[{{node gradients/split_1_grad/concat/split_1/split_dim}}]]\n",
      "2023-04-20 08:47:19.422187: I tensorflow/core/common_runtime/executor.cc:1197] [/device:CPU:0] (DEBUG INFO) Executor start aborting (this does not indicate an error and you can ignore this message): INVALID_ARGUMENT: You must feed a value for placeholder tensor 'gradients/split_2_grad/concat/split_2/split_dim' with dtype int32\n",
      "\t [[{{node gradients/split_2_grad/concat/split_2/split_dim}}]]\n",
      "2023-04-20 08:47:19.424495: I tensorflow/core/common_runtime/executor.cc:1197] [/device:CPU:0] (DEBUG INFO) Executor start aborting (this does not indicate an error and you can ignore this message): INVALID_ARGUMENT: You must feed a value for placeholder tensor 'gradients/split_grad/concat/split/split_dim' with dtype int32\n",
      "\t [[{{node gradients/split_grad/concat/split/split_dim}}]]\n",
      "2023-04-20 08:47:19.426158: I tensorflow/core/common_runtime/executor.cc:1197] [/device:CPU:0] (DEBUG INFO) Executor start aborting (this does not indicate an error and you can ignore this message): INVALID_ARGUMENT: You must feed a value for placeholder tensor 'gradients/split_1_grad/concat/split_1/split_dim' with dtype int32\n",
      "\t [[{{node gradients/split_1_grad/concat/split_1/split_dim}}]]\n"
     ]
    },
    {
     "name": "stdout",
     "output_type": "stream",
     "text": [
      "32/32 [==============================] - 3s 58ms/step\n",
      "63/63 [==============================] - 4s 60ms/step\n"
     ]
    }
   ],
   "source": [
    "### Lets Do the prediction and check performance metrics\n",
    "test_predict=model.predict(X_test)\n",
    "train_predict=model.predict(X_train)"
   ]
  },
  {
   "cell_type": "code",
   "execution_count": 33,
   "metadata": {},
   "outputs": [],
   "source": [
    "##Transformback to original form\n",
    "train_predict=scaler.inverse_transform(train_predict)\n",
    "test_predict=scaler.inverse_transform(test_predict)"
   ]
  },
  {
   "cell_type": "code",
   "execution_count": 34,
   "metadata": {},
   "outputs": [
    {
     "data": {
      "text/plain": [
       "1023"
      ]
     },
     "execution_count": 34,
     "metadata": {},
     "output_type": "execute_result"
    }
   ],
   "source": [
    "len(test_predict)"
   ]
  },
  {
   "cell_type": "code",
   "execution_count": 35,
   "metadata": {},
   "outputs": [
    {
     "data": {
      "text/plain": [
       "192.02812526636146"
      ]
     },
     "execution_count": 35,
     "metadata": {},
     "output_type": "execute_result"
    }
   ],
   "source": [
    "### Calculate RMSE performance metrics\n",
    "import math\n",
    "from sklearn.metrics import mean_squared_error\n",
    "rmse= np.sqrt(np.mean(((test_predict-ytest)**2)))\n",
    "rmse"
   ]
  },
  {
   "cell_type": "code",
   "execution_count": 36,
   "metadata": {},
   "outputs": [
    {
     "data": {
      "text/plain": [
       "191.87757539177338"
      ]
     },
     "execution_count": 36,
     "metadata": {},
     "output_type": "execute_result"
    }
   ],
   "source": [
    "### Test Data RMSE\n",
    "math.sqrt(mean_squared_error(ytest,test_predict))"
   ]
  },
  {
   "cell_type": "code",
   "execution_count": 37,
   "metadata": {},
   "outputs": [
    {
     "name": "stderr",
     "output_type": "stream",
     "text": [
      "/tmp/ipykernel_5486/1671767707.py:4: SettingWithCopyWarning: \n",
      "A value is trying to be set on a copy of a slice from a DataFrame.\n",
      "Try using .loc[row_indexer,col_indexer] = value instead\n",
      "\n",
      "See the caveats in the documentation: https://pandas.pydata.org/pandas-docs/stable/user_guide/indexing.html#returning-a-view-versus-a-copy\n",
      "  valid['Prediction']= test_predict\n"
     ]
    },
    {
     "data": {
      "image/png": "[encoded data removed]",
      "text/plain": [
       "<Figure size 1600x600 with 1 Axes>"
      ]
     },
     "metadata": {},
     "output_type": "display_data"
    }
   ],
   "source": [
    "train= data[:training_size]\n",
    "valid= data[(training_size+100+1):]\n",
    "\n",
    "valid['Prediction']= test_predict\n",
    "\n",
    "#visualize\n",
    "\n",
    "plt.figure(figsize=(16,6))\n",
    "plt.title('Model')\n",
    "plt.xlabel('Date', fontsize=18)\n",
    "plt.ylabel('Close Price USD ($)', fontsize=18)\n",
    "#plt.plot(train['Close'])\n",
    "plt.plot(valid[['Close', 'Prediction']])\n",
    "plt.legend([ 'Val', 'Prediction'], loc='lower right')\n",
    "plt.show()"
   ]
  },
  {
   "cell_type": "code",
   "execution_count": 38,
   "metadata": {},
   "outputs": [
    {
     "data": {
      "text/html": [
       "<div>\n",
       "<style scoped>\n",
       "    .dataframe tbody tr th:only-of-type {\n",
       "        vertical-align: middle;\n",
       "    }\n",
       "\n",
       "    .dataframe tbody tr th {\n",
       "        vertical-align: top;\n",
       "    }\n",
       "\n",
       "    .dataframe thead th {\n",
       "        text-align: right;\n",
       "    }\n",
       "</style>\n",
       "<table border=\"1\" class=\"dataframe\">\n",
       "  <thead>\n",
       "    <tr style=\"text-align: right;\">\n",
       "      <th></th>\n",
       "      <th>Prediction</th>\n",
       "      <th>Close</th>\n",
       "    </tr>\n",
       "    <tr>\n",
       "      <th>Date</th>\n",
       "      <th></th>\n",
       "      <th></th>\n",
       "    </tr>\n",
       "  </thead>\n",
       "  <tbody>\n",
       "    <tr>\n",
       "      <th>2019-03-11</th>\n",
       "      <td>18.788946</td>\n",
       "      <td>19.394667</td>\n",
       "    </tr>\n",
       "    <tr>\n",
       "      <th>2019-03-12</th>\n",
       "      <td>18.612305</td>\n",
       "      <td>18.890667</td>\n",
       "    </tr>\n",
       "    <tr>\n",
       "      <th>2019-03-13</th>\n",
       "      <td>18.587559</td>\n",
       "      <td>19.264000</td>\n",
       "    </tr>\n",
       "    <tr>\n",
       "      <th>2019-03-14</th>\n",
       "      <td>18.567619</td>\n",
       "      <td>19.330667</td>\n",
       "    </tr>\n",
       "    <tr>\n",
       "      <th>2019-03-15</th>\n",
       "      <td>18.605364</td>\n",
       "      <td>18.362000</td>\n",
       "    </tr>\n",
       "    <tr>\n",
       "      <th>...</th>\n",
       "      <td>...</td>\n",
       "      <td>...</td>\n",
       "    </tr>\n",
       "    <tr>\n",
       "      <th>2023-03-24</th>\n",
       "      <td>182.776566</td>\n",
       "      <td>190.410004</td>\n",
       "    </tr>\n",
       "    <tr>\n",
       "      <th>2023-03-27</th>\n",
       "      <td>184.688782</td>\n",
       "      <td>191.809998</td>\n",
       "    </tr>\n",
       "    <tr>\n",
       "      <th>2023-03-28</th>\n",
       "      <td>185.922592</td>\n",
       "      <td>189.190002</td>\n",
       "    </tr>\n",
       "    <tr>\n",
       "      <th>2023-03-29</th>\n",
       "      <td>186.845520</td>\n",
       "      <td>193.880005</td>\n",
       "    </tr>\n",
       "    <tr>\n",
       "      <th>2023-03-30</th>\n",
       "      <td>187.130692</td>\n",
       "      <td>195.279999</td>\n",
       "    </tr>\n",
       "  </tbody>\n",
       "</table>\n",
       "<p>1023 rows × 2 columns</p>\n",
       "</div>"
      ],
      "text/plain": [
       "            Prediction       Close\n",
       "Date                              \n",
       "2019-03-11   18.788946   19.394667\n",
       "2019-03-12   18.612305   18.890667\n",
       "2019-03-13   18.587559   19.264000\n",
       "2019-03-14   18.567619   19.330667\n",
       "2019-03-15   18.605364   18.362000\n",
       "...                ...         ...\n",
       "2023-03-24  182.776566  190.410004\n",
       "2023-03-27  184.688782  191.809998\n",
       "2023-03-28  185.922592  189.190002\n",
       "2023-03-29  186.845520  193.880005\n",
       "2023-03-30  187.130692  195.279999\n",
       "\n",
       "[1023 rows x 2 columns]"
      ]
     },
     "execution_count": 38,
     "metadata": {},
     "output_type": "execute_result"
    }
   ],
   "source": [
    "valid[['Prediction','Close']]"
   ]
  },
  {
   "cell_type": "code",
   "execution_count": 39,
   "metadata": {},
   "outputs": [
    {
     "data": {
      "text/plain": [
       "\"\\n### Plotting \\n# shift train predictions for plotting\\nlook_back=100\\ntrainPredictPlot = numpy.empty_like(df1)\\ntrainPredictPlot[:, :] = np.nan\\ntrainPredictPlot[look_back:len(train_predict)+look_back, :] = train_predict\\n# shift test predictions for plotting\\ntestPredictPlot = numpy.empty_like(df1)\\ntestPredictPlot[:, :] = numpy.nan\\ntestPredictPlot[len(train_predict)+(look_back*2)+1:len(df1)-1, :] = test_predict\\n#testPredictPlot['Close']= data['Close']\\n# plot baseline and predictions\\nplt.figure(figsize=(12,6))\\nplt.plot(scaler.inverse_transform(df1),'r',label='original')\\nplt.plot(trainPredictPlot,'b',label='train data')\\nplt.plot(testPredictPlot,'g',label= 'test data')\\n\\nplt.legend()\\nplt.show() \""
      ]
     },
     "execution_count": 39,
     "metadata": {},
     "output_type": "execute_result"
    }
   ],
   "source": [
    "\"\"\"\n",
    "### Plotting \n",
    "# shift train predictions for plotting\n",
    "look_back=100\n",
    "trainPredictPlot = numpy.empty_like(df1)\n",
    "trainPredictPlot[:, :] = np.nan\n",
    "trainPredictPlot[look_back:len(train_predict)+look_back, :] = train_predict\n",
    "# shift test predictions for plotting\n",
    "testPredictPlot = numpy.empty_like(df1)\n",
    "testPredictPlot[:, :] = numpy.nan\n",
    "testPredictPlot[len(train_predict)+(look_back*2)+1:len(df1)-1, :] = test_predict\n",
    "#testPredictPlot['Close']= data['Close']\n",
    "# plot baseline and predictions\n",
    "plt.figure(figsize=(12,6))\n",
    "plt.plot(scaler.inverse_transform(df1),'r',label='original')\n",
    "plt.plot(trainPredictPlot,'b',label='train data')\n",
    "plt.plot(testPredictPlot,'g',label= 'test data')\n",
    "\n",
    "plt.legend()\n",
    "plt.show() \"\"\""
   ]
  },
  {
   "cell_type": "code",
   "execution_count": null,
   "metadata": {},
   "outputs": [],
   "source": []
  },
  {
   "cell_type": "code",
   "execution_count": 40,
   "metadata": {},
   "outputs": [],
   "source": [
    "#model.save('my_model.h5') "
   ]
  },
  {
   "cell_type": "code",
   "execution_count": 41,
   "metadata": {},
   "outputs": [
    {
     "data": {
      "text/plain": [
       "1124"
      ]
     },
     "execution_count": 41,
     "metadata": {},
     "output_type": "execute_result"
    }
   ],
   "source": [
    "len(test_data)"
   ]
  },
  {
   "cell_type": "code",
   "execution_count": 48,
   "metadata": {},
   "outputs": [
    {
     "data": {
      "text/plain": [
       "(1, 100)"
      ]
     },
     "execution_count": 48,
     "metadata": {},
     "output_type": "execute_result"
    }
   ],
   "source": [
    "x_input=test_data[len(test_data)-100:].reshape(1,-1)\n",
    "x_input.shape\n"
   ]
  },
  {
   "cell_type": "code",
   "execution_count": 49,
   "metadata": {},
   "outputs": [
    {
     "data": {
      "text/plain": [
       "1124"
      ]
     },
     "execution_count": 49,
     "metadata": {},
     "output_type": "execute_result"
    }
   ],
   "source": [
    "len(test_data)"
   ]
  },
  {
   "cell_type": "code",
   "execution_count": 50,
   "metadata": {},
   "outputs": [
    {
     "data": {
      "text/plain": [
       "array([[0.50478908, 0.47938048, 0.46524557, 0.43171794, 0.46382719,\n",
       "        0.47666599, 0.46438964, 0.47287548, 0.45453433, 0.44536376,\n",
       "        0.43807622, 0.40794782, 0.41293663, 0.44543712, 0.44460567,\n",
       "        0.44475239, 0.43964133, 0.47356021, 0.47356021, 0.4739515 ,\n",
       "        0.44360301, 0.4371714 , 0.42303646, 0.42156919, 0.43528837,\n",
       "        0.40782557, 0.39102506, 0.38087631, 0.38300387, 0.36480944,\n",
       "        0.36392907, 0.33441207, 0.33384962, 0.30396576, 0.2985857 ,\n",
       "        0.26422661, 0.27305482, 0.2953332 , 0.29865906, 0.26178113,\n",
       "        0.27532912, 0.26725901, 0.27391073, 0.29031994, 0.2880701 ,\n",
       "        0.29875688, 0.29958834, 0.29675158, 0.31898106, 0.31235378,\n",
       "        0.30841654, 0.32370083, 0.34896271, 0.34930507, 0.35062562,\n",
       "        0.38936215, 0.43247604, 0.4049888 , 0.42103118, 0.44105972,\n",
       "        0.45783575, 0.46201751, 0.47370693, 0.47872019, 0.48967596,\n",
       "        0.50442227, 0.47891583, 0.47341349, 0.50914204, 0.52134503,\n",
       "        0.49151007, 0.50684328, 0.48008965, 0.48862441, 0.49158347,\n",
       "        0.47889139, 0.50518037, 0.50048504, 0.4932953 , 0.46426736,\n",
       "        0.48111675, 0.47138373, 0.45646629, 0.44250255, 0.42029753,\n",
       "        0.42156919, 0.42411248, 0.44558385, 0.43871204, 0.44771144,\n",
       "        0.4379295 , 0.4455594 , 0.48060322, 0.46487873, 0.46749542,\n",
       "        0.46306909, 0.46649276, 0.4600856 , 0.47155493, 0.4749786 ]])"
      ]
     },
     "execution_count": 50,
     "metadata": {},
     "output_type": "execute_result"
    }
   ],
   "source": [
    "x_input"
   ]
  },
  {
   "cell_type": "code",
   "execution_count": 51,
   "metadata": {},
   "outputs": [],
   "source": [
    "temp_input=list(x_input)\n",
    "temp_input=temp_input[0].tolist()"
   ]
  },
  {
   "cell_type": "code",
   "execution_count": 52,
   "metadata": {},
   "outputs": [
    {
     "data": {
      "text/plain": [
       "100"
      ]
     },
     "execution_count": 52,
     "metadata": {},
     "output_type": "execute_result"
    }
   ],
   "source": [
    "len(temp_input)"
   ]
  },
  {
   "cell_type": "code",
   "execution_count": 53,
   "metadata": {},
   "outputs": [
    {
     "name": "stdout",
     "output_type": "stream",
     "text": [
      "[0.45844537]\n",
      "101\n",
      "1 day input [0.47938048 0.46524557 0.43171794 0.46382719 0.47666599 0.46438964\n",
      " 0.47287548 0.45453433 0.44536376 0.43807622 0.40794782 0.41293663\n",
      " 0.44543712 0.44460567 0.44475239 0.43964133 0.47356021 0.47356021\n",
      " 0.4739515  0.44360301 0.4371714  0.42303646 0.42156919 0.43528837\n",
      " 0.40782557 0.39102506 0.38087631 0.38300387 0.36480944 0.36392907\n",
      " 0.33441207 0.33384962 0.30396576 0.2985857  0.26422661 0.27305482\n",
      " 0.2953332  0.29865906 0.26178113 0.27532912 0.26725901 0.27391073\n",
      " 0.29031994 0.2880701  0.29875688 0.29958834 0.29675158 0.31898106\n",
      " 0.31235378 0.30841654 0.32370083 0.34896271 0.34930507 0.35062562\n",
      " 0.38936215 0.43247604 0.4049888  0.42103118 0.44105972 0.45783575\n",
      " 0.46201751 0.47370693 0.47872019 0.48967596 0.50442227 0.47891583\n",
      " 0.47341349 0.50914204 0.52134503 0.49151007 0.50684328 0.48008965\n",
      " 0.48862441 0.49158347 0.47889139 0.50518037 0.50048504 0.4932953\n",
      " 0.46426736 0.48111675 0.47138373 0.45646629 0.44250255 0.42029753\n",
      " 0.42156919 0.42411248 0.44558385 0.43871204 0.44771144 0.4379295\n",
      " 0.4455594  0.48060322 0.46487873 0.46749542 0.46306909 0.46649276\n",
      " 0.4600856  0.47155493 0.4749786  0.45844537]\n",
      "1 day output [[0.45818597]]\n",
      "2 day input [0.46524557 0.43171794 0.46382719 0.47666599 0.46438964 0.47287548\n",
      " 0.45453433 0.44536376 0.43807622 0.40794782 0.41293663 0.44543712\n",
      " 0.44460567 0.44475239 0.43964133 0.47356021 0.47356021 0.4739515\n",
      " 0.44360301 0.4371714  0.42303646 0.42156919 0.43528837 0.40782557\n",
      " 0.39102506 0.38087631 0.38300387 0.36480944 0.36392907 0.33441207\n",
      " 0.33384962 0.30396576 0.2985857  0.26422661 0.27305482 0.2953332\n",
      " 0.29865906 0.26178113 0.27532912 0.26725901 0.27391073 0.29031994\n",
      " 0.2880701  0.29875688 0.29958834 0.29675158 0.31898106 0.31235378\n",
      " 0.30841654 0.32370083 0.34896271 0.34930507 0.35062562 0.38936215\n",
      " 0.43247604 0.4049888  0.42103118 0.44105972 0.45783575 0.46201751\n",
      " 0.47370693 0.47872019 0.48967596 0.50442227 0.47891583 0.47341349\n",
      " 0.50914204 0.52134503 0.49151007 0.50684328 0.48008965 0.48862441\n",
      " 0.49158347 0.47889139 0.50518037 0.50048504 0.4932953  0.46426736\n",
      " 0.48111675 0.47138373 0.45646629 0.44250255 0.42029753 0.42156919\n",
      " 0.42411248 0.44558385 0.43871204 0.44771144 0.4379295  0.4455594\n",
      " 0.48060322 0.46487873 0.46749542 0.46306909 0.46649276 0.4600856\n",
      " 0.47155493 0.4749786  0.45844537 0.45818597]\n",
      "2 day output [[0.45688778]]\n",
      "3 day input [0.43171794 0.46382719 0.47666599 0.46438964 0.47287548 0.45453433\n",
      " 0.44536376 0.43807622 0.40794782 0.41293663 0.44543712 0.44460567\n",
      " 0.44475239 0.43964133 0.47356021 0.47356021 0.4739515  0.44360301\n",
      " 0.4371714  0.42303646 0.42156919 0.43528837 0.40782557 0.39102506\n",
      " 0.38087631 0.38300387 0.36480944 0.36392907 0.33441207 0.33384962\n",
      " 0.30396576 0.2985857  0.26422661 0.27305482 0.2953332  0.29865906\n",
      " 0.26178113 0.27532912 0.26725901 0.27391073 0.29031994 0.2880701\n",
      " 0.29875688 0.29958834 0.29675158 0.31898106 0.31235378 0.30841654\n",
      " 0.32370083 0.34896271 0.34930507 0.35062562 0.38936215 0.43247604\n",
      " 0.4049888  0.42103118 0.44105972 0.45783575 0.46201751 0.47370693\n",
      " 0.47872019 0.48967596 0.50442227 0.47891583 0.47341349 0.50914204\n",
      " 0.52134503 0.49151007 0.50684328 0.48008965 0.48862441 0.49158347\n",
      " 0.47889139 0.50518037 0.50048504 0.4932953  0.46426736 0.48111675\n",
      " 0.47138373 0.45646629 0.44250255 0.42029753 0.42156919 0.42411248\n",
      " 0.44558385 0.43871204 0.44771144 0.4379295  0.4455594  0.48060322\n",
      " 0.46487873 0.46749542 0.46306909 0.46649276 0.4600856  0.47155493\n",
      " 0.4749786  0.45844537 0.45818597 0.45688778]\n",
      "3 day output [[0.45511332]]\n",
      "4 day input [0.46382719 0.47666599 0.46438964 0.47287548 0.45453433 0.44536376\n",
      " 0.43807622 0.40794782 0.41293663 0.44543712 0.44460567 0.44475239\n",
      " 0.43964133 0.47356021 0.47356021 0.4739515  0.44360301 0.4371714\n",
      " 0.42303646 0.42156919 0.43528837 0.40782557 0.39102506 0.38087631\n",
      " 0.38300387 0.36480944 0.36392907 0.33441207 0.33384962 0.30396576\n",
      " 0.2985857  0.26422661 0.27305482 0.2953332  0.29865906 0.26178113\n",
      " 0.27532912 0.26725901 0.27391073 0.29031994 0.2880701  0.29875688\n",
      " 0.29958834 0.29675158 0.31898106 0.31235378 0.30841654 0.32370083\n",
      " 0.34896271 0.34930507 0.35062562 0.38936215 0.43247604 0.4049888\n",
      " 0.42103118 0.44105972 0.45783575 0.46201751 0.47370693 0.47872019\n",
      " 0.48967596 0.50442227 0.47891583 0.47341349 0.50914204 0.52134503\n",
      " 0.49151007 0.50684328 0.48008965 0.48862441 0.49158347 0.47889139\n",
      " 0.50518037 0.50048504 0.4932953  0.46426736 0.48111675 0.47138373\n",
      " 0.45646629 0.44250255 0.42029753 0.42156919 0.42411248 0.44558385\n",
      " 0.43871204 0.44771144 0.4379295  0.4455594  0.48060322 0.46487873\n",
      " 0.46749542 0.46306909 0.46649276 0.4600856  0.47155493 0.4749786\n",
      " 0.45844537 0.45818597 0.45688778 0.45511332]\n",
      "4 day output [[0.45313326]]\n",
      "5 day input [0.47666599 0.46438964 0.47287548 0.45453433 0.44536376 0.43807622\n",
      " 0.40794782 0.41293663 0.44543712 0.44460567 0.44475239 0.43964133\n",
      " 0.47356021 0.47356021 0.4739515  0.44360301 0.4371714  0.42303646\n",
      " 0.42156919 0.43528837 0.40782557 0.39102506 0.38087631 0.38300387\n",
      " 0.36480944 0.36392907 0.33441207 0.33384962 0.30396576 0.2985857\n",
      " 0.26422661 0.27305482 0.2953332  0.29865906 0.26178113 0.27532912\n",
      " 0.26725901 0.27391073 0.29031994 0.2880701  0.29875688 0.29958834\n",
      " 0.29675158 0.31898106 0.31235378 0.30841654 0.32370083 0.34896271\n",
      " 0.34930507 0.35062562 0.38936215 0.43247604 0.4049888  0.42103118\n",
      " 0.44105972 0.45783575 0.46201751 0.47370693 0.47872019 0.48967596\n",
      " 0.50442227 0.47891583 0.47341349 0.50914204 0.52134503 0.49151007\n",
      " 0.50684328 0.48008965 0.48862441 0.49158347 0.47889139 0.50518037\n",
      " 0.50048504 0.4932953  0.46426736 0.48111675 0.47138373 0.45646629\n",
      " 0.44250255 0.42029753 0.42156919 0.42411248 0.44558385 0.43871204\n",
      " 0.44771144 0.4379295  0.4455594  0.48060322 0.46487873 0.46749542\n",
      " 0.46306909 0.46649276 0.4600856  0.47155493 0.4749786  0.45844537\n",
      " 0.45818597 0.45688778 0.45511332 0.45313326]\n",
      "5 day output [[0.45107853]]\n",
      "6 day input [0.46438964 0.47287548 0.45453433 0.44536376 0.43807622 0.40794782\n",
      " 0.41293663 0.44543712 0.44460567 0.44475239 0.43964133 0.47356021\n",
      " 0.47356021 0.4739515  0.44360301 0.4371714  0.42303646 0.42156919\n",
      " 0.43528837 0.40782557 0.39102506 0.38087631 0.38300387 0.36480944\n",
      " 0.36392907 0.33441207 0.33384962 0.30396576 0.2985857  0.26422661\n",
      " 0.27305482 0.2953332  0.29865906 0.26178113 0.27532912 0.26725901\n",
      " 0.27391073 0.29031994 0.2880701  0.29875688 0.29958834 0.29675158\n",
      " 0.31898106 0.31235378 0.30841654 0.32370083 0.34896271 0.34930507\n",
      " 0.35062562 0.38936215 0.43247604 0.4049888  0.42103118 0.44105972\n",
      " 0.45783575 0.46201751 0.47370693 0.47872019 0.48967596 0.50442227\n",
      " 0.47891583 0.47341349 0.50914204 0.52134503 0.49151007 0.50684328\n",
      " 0.48008965 0.48862441 0.49158347 0.47889139 0.50518037 0.50048504\n",
      " 0.4932953  0.46426736 0.48111675 0.47138373 0.45646629 0.44250255\n",
      " 0.42029753 0.42156919 0.42411248 0.44558385 0.43871204 0.44771144\n",
      " 0.4379295  0.4455594  0.48060322 0.46487873 0.46749542 0.46306909\n",
      " 0.46649276 0.4600856  0.47155493 0.4749786  0.45844537 0.45818597\n",
      " 0.45688778 0.45511332 0.45313326 0.45107853]\n",
      "6 day output [[0.4490125]]\n",
      "7 day input [0.47287548 0.45453433 0.44536376 0.43807622 0.40794782 0.41293663\n",
      " 0.44543712 0.44460567 0.44475239 0.43964133 0.47356021 0.47356021\n",
      " 0.4739515  0.44360301 0.4371714  0.42303646 0.42156919 0.43528837\n",
      " 0.40782557 0.39102506 0.38087631 0.38300387 0.36480944 0.36392907\n",
      " 0.33441207 0.33384962 0.30396576 0.2985857  0.26422661 0.27305482\n",
      " 0.2953332  0.29865906 0.26178113 0.27532912 0.26725901 0.27391073\n",
      " 0.29031994 0.2880701  0.29875688 0.29958834 0.29675158 0.31898106\n",
      " 0.31235378 0.30841654 0.32370083 0.34896271 0.34930507 0.35062562\n",
      " 0.38936215 0.43247604 0.4049888  0.42103118 0.44105972 0.45783575\n",
      " 0.46201751 0.47370693 0.47872019 0.48967596 0.50442227 0.47891583\n",
      " 0.47341349 0.50914204 0.52134503 0.49151007 0.50684328 0.48008965\n",
      " 0.48862441 0.49158347 0.47889139 0.50518037 0.50048504 0.4932953\n",
      " 0.46426736 0.48111675 0.47138373 0.45646629 0.44250255 0.42029753\n",
      " 0.42156919 0.42411248 0.44558385 0.43871204 0.44771144 0.4379295\n",
      " 0.4455594  0.48060322 0.46487873 0.46749542 0.46306909 0.46649276\n",
      " 0.4600856  0.47155493 0.4749786  0.45844537 0.45818597 0.45688778\n",
      " 0.45511332 0.45313326 0.45107853 0.44901249]\n",
      "7 day output [[0.4469649]]\n",
      "8 day input [0.45453433 0.44536376 0.43807622 0.40794782 0.41293663 0.44543712\n",
      " 0.44460567 0.44475239 0.43964133 0.47356021 0.47356021 0.4739515\n",
      " 0.44360301 0.4371714  0.42303646 0.42156919 0.43528837 0.40782557\n",
      " 0.39102506 0.38087631 0.38300387 0.36480944 0.36392907 0.33441207\n",
      " 0.33384962 0.30396576 0.2985857  0.26422661 0.27305482 0.2953332\n",
      " 0.29865906 0.26178113 0.27532912 0.26725901 0.27391073 0.29031994\n",
      " 0.2880701  0.29875688 0.29958834 0.29675158 0.31898106 0.31235378\n",
      " 0.30841654 0.32370083 0.34896271 0.34930507 0.35062562 0.38936215\n",
      " 0.43247604 0.4049888  0.42103118 0.44105972 0.45783575 0.46201751\n",
      " 0.47370693 0.47872019 0.48967596 0.50442227 0.47891583 0.47341349\n",
      " 0.50914204 0.52134503 0.49151007 0.50684328 0.48008965 0.48862441\n",
      " 0.49158347 0.47889139 0.50518037 0.50048504 0.4932953  0.46426736\n",
      " 0.48111675 0.47138373 0.45646629 0.44250255 0.42029753 0.42156919\n",
      " 0.42411248 0.44558385 0.43871204 0.44771144 0.4379295  0.4455594\n",
      " 0.48060322 0.46487873 0.46749542 0.46306909 0.46649276 0.4600856\n",
      " 0.47155493 0.4749786  0.45844537 0.45818597 0.45688778 0.45511332\n",
      " 0.45313326 0.45107853 0.44901249 0.44696489]\n",
      "8 day output [[0.44494906]]\n",
      "9 day input [0.44536376 0.43807622 0.40794782 0.41293663 0.44543712 0.44460567\n",
      " 0.44475239 0.43964133 0.47356021 0.47356021 0.4739515  0.44360301\n",
      " 0.4371714  0.42303646 0.42156919 0.43528837 0.40782557 0.39102506\n",
      " 0.38087631 0.38300387 0.36480944 0.36392907 0.33441207 0.33384962\n",
      " 0.30396576 0.2985857  0.26422661 0.27305482 0.2953332  0.29865906\n",
      " 0.26178113 0.27532912 0.26725901 0.27391073 0.29031994 0.2880701\n",
      " 0.29875688 0.29958834 0.29675158 0.31898106 0.31235378 0.30841654\n",
      " 0.32370083 0.34896271 0.34930507 0.35062562 0.38936215 0.43247604\n",
      " 0.4049888  0.42103118 0.44105972 0.45783575 0.46201751 0.47370693\n",
      " 0.47872019 0.48967596 0.50442227 0.47891583 0.47341349 0.50914204\n",
      " 0.52134503 0.49151007 0.50684328 0.48008965 0.48862441 0.49158347\n",
      " 0.47889139 0.50518037 0.50048504 0.4932953  0.46426736 0.48111675\n",
      " 0.47138373 0.45646629 0.44250255 0.42029753 0.42156919 0.42411248\n",
      " 0.44558385 0.43871204 0.44771144 0.4379295  0.4455594  0.48060322\n",
      " 0.46487873 0.46749542 0.46306909 0.46649276 0.4600856  0.47155493\n",
      " 0.4749786  0.45844537 0.45818597 0.45688778 0.45511332 0.45313326\n",
      " 0.45107853 0.44901249 0.44696489 0.44494906]\n",
      "9 day output [[0.44297034]]\n",
      "10 day input [0.43807622 0.40794782 0.41293663 0.44543712 0.44460567 0.44475239\n",
      " 0.43964133 0.47356021 0.47356021 0.4739515  0.44360301 0.4371714\n",
      " 0.42303646 0.42156919 0.43528837 0.40782557 0.39102506 0.38087631\n",
      " 0.38300387 0.36480944 0.36392907 0.33441207 0.33384962 0.30396576\n",
      " 0.2985857  0.26422661 0.27305482 0.2953332  0.29865906 0.26178113\n",
      " 0.27532912 0.26725901 0.27391073 0.29031994 0.2880701  0.29875688\n",
      " 0.29958834 0.29675158 0.31898106 0.31235378 0.30841654 0.32370083\n",
      " 0.34896271 0.34930507 0.35062562 0.38936215 0.43247604 0.4049888\n",
      " 0.42103118 0.44105972 0.45783575 0.46201751 0.47370693 0.47872019\n",
      " 0.48967596 0.50442227 0.47891583 0.47341349 0.50914204 0.52134503\n",
      " 0.49151007 0.50684328 0.48008965 0.48862441 0.49158347 0.47889139\n",
      " 0.50518037 0.50048504 0.4932953  0.46426736 0.48111675 0.47138373\n",
      " 0.45646629 0.44250255 0.42029753 0.42156919 0.42411248 0.44558385\n",
      " 0.43871204 0.44771144 0.4379295  0.4455594  0.48060322 0.46487873\n",
      " 0.46749542 0.46306909 0.46649276 0.4600856  0.47155493 0.4749786\n",
      " 0.45844537 0.45818597 0.45688778 0.45511332 0.45313326 0.45107853\n",
      " 0.44901249 0.44696489 0.44494906 0.44297034]\n",
      "10 day output [[0.4410297]]\n",
      "11 day input [0.40794782 0.41293663 0.44543712 0.44460567 0.44475239 0.43964133\n",
      " 0.47356021 0.47356021 0.4739515  0.44360301 0.4371714  0.42303646\n",
      " 0.42156919 0.43528837 0.40782557 0.39102506 0.38087631 0.38300387\n",
      " 0.36480944 0.36392907 0.33441207 0.33384962 0.30396576 0.2985857\n",
      " 0.26422661 0.27305482 0.2953332  0.29865906 0.26178113 0.27532912\n",
      " 0.26725901 0.27391073 0.29031994 0.2880701  0.29875688 0.29958834\n",
      " 0.29675158 0.31898106 0.31235378 0.30841654 0.32370083 0.34896271\n",
      " 0.34930507 0.35062562 0.38936215 0.43247604 0.4049888  0.42103118\n",
      " 0.44105972 0.45783575 0.46201751 0.47370693 0.47872019 0.48967596\n",
      " 0.50442227 0.47891583 0.47341349 0.50914204 0.52134503 0.49151007\n",
      " 0.50684328 0.48008965 0.48862441 0.49158347 0.47889139 0.50518037\n",
      " 0.50048504 0.4932953  0.46426736 0.48111675 0.47138373 0.45646629\n",
      " 0.44250255 0.42029753 0.42156919 0.42411248 0.44558385 0.43871204\n",
      " 0.44771144 0.4379295  0.4455594  0.48060322 0.46487873 0.46749542\n",
      " 0.46306909 0.46649276 0.4600856  0.47155493 0.4749786  0.45844537\n",
      " 0.45818597 0.45688778 0.45511332 0.45313326 0.45107853 0.44901249\n",
      " 0.44696489 0.44494906 0.44297034 0.4410297 ]\n",
      "11 day output [[0.4391265]]\n",
      "12 day input [0.41293663 0.44543712 0.44460567 0.44475239 0.43964133 0.47356021\n",
      " 0.47356021 0.4739515  0.44360301 0.4371714  0.42303646 0.42156919\n",
      " 0.43528837 0.40782557 0.39102506 0.38087631 0.38300387 0.36480944\n",
      " 0.36392907 0.33441207 0.33384962 0.30396576 0.2985857  0.26422661\n",
      " 0.27305482 0.2953332  0.29865906 0.26178113 0.27532912 0.26725901\n",
      " 0.27391073 0.29031994 0.2880701  0.29875688 0.29958834 0.29675158\n",
      " 0.31898106 0.31235378 0.30841654 0.32370083 0.34896271 0.34930507\n",
      " 0.35062562 0.38936215 0.43247604 0.4049888  0.42103118 0.44105972\n",
      " 0.45783575 0.46201751 0.47370693 0.47872019 0.48967596 0.50442227\n",
      " 0.47891583 0.47341349 0.50914204 0.52134503 0.49151007 0.50684328\n",
      " 0.48008965 0.48862441 0.49158347 0.47889139 0.50518037 0.50048504\n",
      " 0.4932953  0.46426736 0.48111675 0.47138373 0.45646629 0.44250255\n",
      " 0.42029753 0.42156919 0.42411248 0.44558385 0.43871204 0.44771144\n",
      " 0.4379295  0.4455594  0.48060322 0.46487873 0.46749542 0.46306909\n",
      " 0.46649276 0.4600856  0.47155493 0.4749786  0.45844537 0.45818597\n",
      " 0.45688778 0.45511332 0.45313326 0.45107853 0.44901249 0.44696489\n",
      " 0.44494906 0.44297034 0.4410297  0.43912649]\n",
      "12 day output [[0.43725884]]\n",
      "13 day input [0.44543712 0.44460567 0.44475239 0.43964133 0.47356021 0.47356021\n",
      " 0.4739515  0.44360301 0.4371714  0.42303646 0.42156919 0.43528837\n",
      " 0.40782557 0.39102506 0.38087631 0.38300387 0.36480944 0.36392907\n",
      " 0.33441207 0.33384962 0.30396576 0.2985857  0.26422661 0.27305482\n",
      " 0.2953332  0.29865906 0.26178113 0.27532912 0.26725901 0.27391073\n",
      " 0.29031994 0.2880701  0.29875688 0.29958834 0.29675158 0.31898106\n",
      " 0.31235378 0.30841654 0.32370083 0.34896271 0.34930507 0.35062562\n",
      " 0.38936215 0.43247604 0.4049888  0.42103118 0.44105972 0.45783575\n",
      " 0.46201751 0.47370693 0.47872019 0.48967596 0.50442227 0.47891583\n",
      " 0.47341349 0.50914204 0.52134503 0.49151007 0.50684328 0.48008965\n",
      " 0.48862441 0.49158347 0.47889139 0.50518037 0.50048504 0.4932953\n",
      " 0.46426736 0.48111675 0.47138373 0.45646629 0.44250255 0.42029753\n",
      " 0.42156919 0.42411248 0.44558385 0.43871204 0.44771144 0.4379295\n",
      " 0.4455594  0.48060322 0.46487873 0.46749542 0.46306909 0.46649276\n",
      " 0.4600856  0.47155493 0.4749786  0.45844537 0.45818597 0.45688778\n",
      " 0.45511332 0.45313326 0.45107853 0.44901249 0.44696489 0.44494906\n",
      " 0.44297034 0.4410297  0.43912649 0.43725884]\n",
      "13 day output [[0.4354249]]\n",
      "14 day input [0.44460567 0.44475239 0.43964133 0.47356021 0.47356021 0.4739515\n",
      " 0.44360301 0.4371714  0.42303646 0.42156919 0.43528837 0.40782557\n",
      " 0.39102506 0.38087631 0.38300387 0.36480944 0.36392907 0.33441207\n",
      " 0.33384962 0.30396576 0.2985857  0.26422661 0.27305482 0.2953332\n",
      " 0.29865906 0.26178113 0.27532912 0.26725901 0.27391073 0.29031994\n",
      " 0.2880701  0.29875688 0.29958834 0.29675158 0.31898106 0.31235378\n",
      " 0.30841654 0.32370083 0.34896271 0.34930507 0.35062562 0.38936215\n",
      " 0.43247604 0.4049888  0.42103118 0.44105972 0.45783575 0.46201751\n",
      " 0.47370693 0.47872019 0.48967596 0.50442227 0.47891583 0.47341349\n",
      " 0.50914204 0.52134503 0.49151007 0.50684328 0.48008965 0.48862441\n",
      " 0.49158347 0.47889139 0.50518037 0.50048504 0.4932953  0.46426736\n",
      " 0.48111675 0.47138373 0.45646629 0.44250255 0.42029753 0.42156919\n",
      " 0.42411248 0.44558385 0.43871204 0.44771144 0.4379295  0.4455594\n",
      " 0.48060322 0.46487873 0.46749542 0.46306909 0.46649276 0.4600856\n",
      " 0.47155493 0.4749786  0.45844537 0.45818597 0.45688778 0.45511332\n",
      " 0.45313326 0.45107853 0.44901249 0.44696489 0.44494906 0.44297034\n",
      " 0.4410297  0.43912649 0.43725884 0.43542489]\n",
      "14 day output [[0.43362254]]\n",
      "15 day input [0.44475239 0.43964133 0.47356021 0.47356021 0.4739515  0.44360301\n",
      " 0.4371714  0.42303646 0.42156919 0.43528837 0.40782557 0.39102506\n",
      " 0.38087631 0.38300387 0.36480944 0.36392907 0.33441207 0.33384962\n",
      " 0.30396576 0.2985857  0.26422661 0.27305482 0.2953332  0.29865906\n",
      " 0.26178113 0.27532912 0.26725901 0.27391073 0.29031994 0.2880701\n",
      " 0.29875688 0.29958834 0.29675158 0.31898106 0.31235378 0.30841654\n",
      " 0.32370083 0.34896271 0.34930507 0.35062562 0.38936215 0.43247604\n",
      " 0.4049888  0.42103118 0.44105972 0.45783575 0.46201751 0.47370693\n",
      " 0.47872019 0.48967596 0.50442227 0.47891583 0.47341349 0.50914204\n",
      " 0.52134503 0.49151007 0.50684328 0.48008965 0.48862441 0.49158347\n",
      " 0.47889139 0.50518037 0.50048504 0.4932953  0.46426736 0.48111675\n",
      " 0.47138373 0.45646629 0.44250255 0.42029753 0.42156919 0.42411248\n",
      " 0.44558385 0.43871204 0.44771144 0.4379295  0.4455594  0.48060322\n",
      " 0.46487873 0.46749542 0.46306909 0.46649276 0.4600856  0.47155493\n",
      " 0.4749786  0.45844537 0.45818597 0.45688778 0.45511332 0.45313326\n",
      " 0.45107853 0.44901249 0.44696489 0.44494906 0.44297034 0.4410297\n",
      " 0.43912649 0.43725884 0.43542489 0.43362254]\n",
      "15 day output [[0.4318498]]\n",
      "16 day input [0.43964133 0.47356021 0.47356021 0.4739515  0.44360301 0.4371714\n",
      " 0.42303646 0.42156919 0.43528837 0.40782557 0.39102506 0.38087631\n",
      " 0.38300387 0.36480944 0.36392907 0.33441207 0.33384962 0.30396576\n",
      " 0.2985857  0.26422661 0.27305482 0.2953332  0.29865906 0.26178113\n",
      " 0.27532912 0.26725901 0.27391073 0.29031994 0.2880701  0.29875688\n",
      " 0.29958834 0.29675158 0.31898106 0.31235378 0.30841654 0.32370083\n",
      " 0.34896271 0.34930507 0.35062562 0.38936215 0.43247604 0.4049888\n",
      " 0.42103118 0.44105972 0.45783575 0.46201751 0.47370693 0.47872019\n",
      " 0.48967596 0.50442227 0.47891583 0.47341349 0.50914204 0.52134503\n",
      " 0.49151007 0.50684328 0.48008965 0.48862441 0.49158347 0.47889139\n",
      " 0.50518037 0.50048504 0.4932953  0.46426736 0.48111675 0.47138373\n",
      " 0.45646629 0.44250255 0.42029753 0.42156919 0.42411248 0.44558385\n",
      " 0.43871204 0.44771144 0.4379295  0.4455594  0.48060322 0.46487873\n",
      " 0.46749542 0.46306909 0.46649276 0.4600856  0.47155493 0.4749786\n",
      " 0.45844537 0.45818597 0.45688778 0.45511332 0.45313326 0.45107853\n",
      " 0.44901249 0.44696489 0.44494906 0.44297034 0.4410297  0.43912649\n",
      " 0.43725884 0.43542489 0.43362254 0.43184981]\n",
      "16 day output [[0.43010497]]\n",
      "17 day input [0.47356021 0.47356021 0.4739515  0.44360301 0.4371714  0.42303646\n",
      " 0.42156919 0.43528837 0.40782557 0.39102506 0.38087631 0.38300387\n",
      " 0.36480944 0.36392907 0.33441207 0.33384962 0.30396576 0.2985857\n",
      " 0.26422661 0.27305482 0.2953332  0.29865906 0.26178113 0.27532912\n",
      " 0.26725901 0.27391073 0.29031994 0.2880701  0.29875688 0.29958834\n",
      " 0.29675158 0.31898106 0.31235378 0.30841654 0.32370083 0.34896271\n",
      " 0.34930507 0.35062562 0.38936215 0.43247604 0.4049888  0.42103118\n",
      " 0.44105972 0.45783575 0.46201751 0.47370693 0.47872019 0.48967596\n",
      " 0.50442227 0.47891583 0.47341349 0.50914204 0.52134503 0.49151007\n",
      " 0.50684328 0.48008965 0.48862441 0.49158347 0.47889139 0.50518037\n",
      " 0.50048504 0.4932953  0.46426736 0.48111675 0.47138373 0.45646629\n",
      " 0.44250255 0.42029753 0.42156919 0.42411248 0.44558385 0.43871204\n",
      " 0.44771144 0.4379295  0.4455594  0.48060322 0.46487873 0.46749542\n",
      " 0.46306909 0.46649276 0.4600856  0.47155493 0.4749786  0.45844537\n",
      " 0.45818597 0.45688778 0.45511332 0.45313326 0.45107853 0.44901249\n",
      " 0.44696489 0.44494906 0.44297034 0.4410297  0.43912649 0.43725884\n",
      " 0.43542489 0.43362254 0.43184981 0.43010497]\n",
      "17 day output [[0.42838633]]\n",
      "18 day input [0.47356021 0.4739515  0.44360301 0.4371714  0.42303646 0.42156919\n",
      " 0.43528837 0.40782557 0.39102506 0.38087631 0.38300387 0.36480944\n",
      " 0.36392907 0.33441207 0.33384962 0.30396576 0.2985857  0.26422661\n",
      " 0.27305482 0.2953332  0.29865906 0.26178113 0.27532912 0.26725901\n",
      " 0.27391073 0.29031994 0.2880701  0.29875688 0.29958834 0.29675158\n",
      " 0.31898106 0.31235378 0.30841654 0.32370083 0.34896271 0.34930507\n",
      " 0.35062562 0.38936215 0.43247604 0.4049888  0.42103118 0.44105972\n",
      " 0.45783575 0.46201751 0.47370693 0.47872019 0.48967596 0.50442227\n",
      " 0.47891583 0.47341349 0.50914204 0.52134503 0.49151007 0.50684328\n",
      " 0.48008965 0.48862441 0.49158347 0.47889139 0.50518037 0.50048504\n",
      " 0.4932953  0.46426736 0.48111675 0.47138373 0.45646629 0.44250255\n",
      " 0.42029753 0.42156919 0.42411248 0.44558385 0.43871204 0.44771144\n",
      " 0.4379295  0.4455594  0.48060322 0.46487873 0.46749542 0.46306909\n",
      " 0.46649276 0.4600856  0.47155493 0.4749786  0.45844537 0.45818597\n",
      " 0.45688778 0.45511332 0.45313326 0.45107853 0.44901249 0.44696489\n",
      " 0.44494906 0.44297034 0.4410297  0.43912649 0.43725884 0.43542489\n",
      " 0.43362254 0.43184981 0.43010497 0.42838633]\n",
      "18 day output [[0.42669272]]\n",
      "19 day input [0.4739515  0.44360301 0.4371714  0.42303646 0.42156919 0.43528837\n",
      " 0.40782557 0.39102506 0.38087631 0.38300387 0.36480944 0.36392907\n",
      " 0.33441207 0.33384962 0.30396576 0.2985857  0.26422661 0.27305482\n",
      " 0.2953332  0.29865906 0.26178113 0.27532912 0.26725901 0.27391073\n",
      " 0.29031994 0.2880701  0.29875688 0.29958834 0.29675158 0.31898106\n",
      " 0.31235378 0.30841654 0.32370083 0.34896271 0.34930507 0.35062562\n",
      " 0.38936215 0.43247604 0.4049888  0.42103118 0.44105972 0.45783575\n",
      " 0.46201751 0.47370693 0.47872019 0.48967596 0.50442227 0.47891583\n",
      " 0.47341349 0.50914204 0.52134503 0.49151007 0.50684328 0.48008965\n",
      " 0.48862441 0.49158347 0.47889139 0.50518037 0.50048504 0.4932953\n",
      " 0.46426736 0.48111675 0.47138373 0.45646629 0.44250255 0.42029753\n",
      " 0.42156919 0.42411248 0.44558385 0.43871204 0.44771144 0.4379295\n",
      " 0.4455594  0.48060322 0.46487873 0.46749542 0.46306909 0.46649276\n",
      " 0.4600856  0.47155493 0.4749786  0.45844537 0.45818597 0.45688778\n",
      " 0.45511332 0.45313326 0.45107853 0.44901249 0.44696489 0.44494906\n",
      " 0.44297034 0.4410297  0.43912649 0.43725884 0.43542489 0.43362254\n",
      " 0.43184981 0.43010497 0.42838633 0.42669272]\n",
      "19 day output [[0.42502266]]\n",
      "20 day input [0.44360301 0.4371714  0.42303646 0.42156919 0.43528837 0.40782557\n",
      " 0.39102506 0.38087631 0.38300387 0.36480944 0.36392907 0.33441207\n",
      " 0.33384962 0.30396576 0.2985857  0.26422661 0.27305482 0.2953332\n",
      " 0.29865906 0.26178113 0.27532912 0.26725901 0.27391073 0.29031994\n",
      " 0.2880701  0.29875688 0.29958834 0.29675158 0.31898106 0.31235378\n",
      " 0.30841654 0.32370083 0.34896271 0.34930507 0.35062562 0.38936215\n",
      " 0.43247604 0.4049888  0.42103118 0.44105972 0.45783575 0.46201751\n",
      " 0.47370693 0.47872019 0.48967596 0.50442227 0.47891583 0.47341349\n",
      " 0.50914204 0.52134503 0.49151007 0.50684328 0.48008965 0.48862441\n",
      " 0.49158347 0.47889139 0.50518037 0.50048504 0.4932953  0.46426736\n",
      " 0.48111675 0.47138373 0.45646629 0.44250255 0.42029753 0.42156919\n",
      " 0.42411248 0.44558385 0.43871204 0.44771144 0.4379295  0.4455594\n",
      " 0.48060322 0.46487873 0.46749542 0.46306909 0.46649276 0.4600856\n",
      " 0.47155493 0.4749786  0.45844537 0.45818597 0.45688778 0.45511332\n",
      " 0.45313326 0.45107853 0.44901249 0.44696489 0.44494906 0.44297034\n",
      " 0.4410297  0.43912649 0.43725884 0.43542489 0.43362254 0.43184981\n",
      " 0.43010497 0.42838633 0.42669272 0.42502266]\n",
      "20 day output [[0.4233752]]\n",
      "21 day input [0.4371714  0.42303646 0.42156919 0.43528837 0.40782557 0.39102506\n",
      " 0.38087631 0.38300387 0.36480944 0.36392907 0.33441207 0.33384962\n",
      " 0.30396576 0.2985857  0.26422661 0.27305482 0.2953332  0.29865906\n",
      " 0.26178113 0.27532912 0.26725901 0.27391073 0.29031994 0.2880701\n",
      " 0.29875688 0.29958834 0.29675158 0.31898106 0.31235378 0.30841654\n",
      " 0.32370083 0.34896271 0.34930507 0.35062562 0.38936215 0.43247604\n",
      " 0.4049888  0.42103118 0.44105972 0.45783575 0.46201751 0.47370693\n",
      " 0.47872019 0.48967596 0.50442227 0.47891583 0.47341349 0.50914204\n",
      " 0.52134503 0.49151007 0.50684328 0.48008965 0.48862441 0.49158347\n",
      " 0.47889139 0.50518037 0.50048504 0.4932953  0.46426736 0.48111675\n",
      " 0.47138373 0.45646629 0.44250255 0.42029753 0.42156919 0.42411248\n",
      " 0.44558385 0.43871204 0.44771144 0.4379295  0.4455594  0.48060322\n",
      " 0.46487873 0.46749542 0.46306909 0.46649276 0.4600856  0.47155493\n",
      " 0.4749786  0.45844537 0.45818597 0.45688778 0.45511332 0.45313326\n",
      " 0.45107853 0.44901249 0.44696489 0.44494906 0.44297034 0.4410297\n",
      " 0.43912649 0.43725884 0.43542489 0.43362254 0.43184981 0.43010497\n",
      " 0.42838633 0.42669272 0.42502266 0.42337519]\n",
      "21 day output [[0.42174947]]\n",
      "22 day input [0.42303646 0.42156919 0.43528837 0.40782557 0.39102506 0.38087631\n",
      " 0.38300387 0.36480944 0.36392907 0.33441207 0.33384962 0.30396576\n",
      " 0.2985857  0.26422661 0.27305482 0.2953332  0.29865906 0.26178113\n",
      " 0.27532912 0.26725901 0.27391073 0.29031994 0.2880701  0.29875688\n",
      " 0.29958834 0.29675158 0.31898106 0.31235378 0.30841654 0.32370083\n",
      " 0.34896271 0.34930507 0.35062562 0.38936215 0.43247604 0.4049888\n",
      " 0.42103118 0.44105972 0.45783575 0.46201751 0.47370693 0.47872019\n",
      " 0.48967596 0.50442227 0.47891583 0.47341349 0.50914204 0.52134503\n",
      " 0.49151007 0.50684328 0.48008965 0.48862441 0.49158347 0.47889139\n",
      " 0.50518037 0.50048504 0.4932953  0.46426736 0.48111675 0.47138373\n",
      " 0.45646629 0.44250255 0.42029753 0.42156919 0.42411248 0.44558385\n",
      " 0.43871204 0.44771144 0.4379295  0.4455594  0.48060322 0.46487873\n",
      " 0.46749542 0.46306909 0.46649276 0.4600856  0.47155493 0.4749786\n",
      " 0.45844537 0.45818597 0.45688778 0.45511332 0.45313326 0.45107853\n",
      " 0.44901249 0.44696489 0.44494906 0.44297034 0.4410297  0.43912649\n",
      " 0.43725884 0.43542489 0.43362254 0.43184981 0.43010497 0.42838633\n",
      " 0.42669272 0.42502266 0.42337519 0.42174947]\n",
      "22 day output [[0.4201447]]\n",
      "23 day input [0.42156919 0.43528837 0.40782557 0.39102506 0.38087631 0.38300387\n",
      " 0.36480944 0.36392907 0.33441207 0.33384962 0.30396576 0.2985857\n",
      " 0.26422661 0.27305482 0.2953332  0.29865906 0.26178113 0.27532912\n",
      " 0.26725901 0.27391073 0.29031994 0.2880701  0.29875688 0.29958834\n",
      " 0.29675158 0.31898106 0.31235378 0.30841654 0.32370083 0.34896271\n",
      " 0.34930507 0.35062562 0.38936215 0.43247604 0.4049888  0.42103118\n",
      " 0.44105972 0.45783575 0.46201751 0.47370693 0.47872019 0.48967596\n",
      " 0.50442227 0.47891583 0.47341349 0.50914204 0.52134503 0.49151007\n",
      " 0.50684328 0.48008965 0.48862441 0.49158347 0.47889139 0.50518037\n",
      " 0.50048504 0.4932953  0.46426736 0.48111675 0.47138373 0.45646629\n",
      " 0.44250255 0.42029753 0.42156919 0.42411248 0.44558385 0.43871204\n",
      " 0.44771144 0.4379295  0.4455594  0.48060322 0.46487873 0.46749542\n",
      " 0.46306909 0.46649276 0.4600856  0.47155493 0.4749786  0.45844537\n",
      " 0.45818597 0.45688778 0.45511332 0.45313326 0.45107853 0.44901249\n",
      " 0.44696489 0.44494906 0.44297034 0.4410297  0.43912649 0.43725884\n",
      " 0.43542489 0.43362254 0.43184981 0.43010497 0.42838633 0.42669272\n",
      " 0.42502266 0.42337519 0.42174947 0.42014471]\n",
      "23 day output [[0.4185599]]\n",
      "24 day input [0.43528837 0.40782557 0.39102506 0.38087631 0.38300387 0.36480944\n",
      " 0.36392907 0.33441207 0.33384962 0.30396576 0.2985857  0.26422661\n",
      " 0.27305482 0.2953332  0.29865906 0.26178113 0.27532912 0.26725901\n",
      " 0.27391073 0.29031994 0.2880701  0.29875688 0.29958834 0.29675158\n",
      " 0.31898106 0.31235378 0.30841654 0.32370083 0.34896271 0.34930507\n",
      " 0.35062562 0.38936215 0.43247604 0.4049888  0.42103118 0.44105972\n",
      " 0.45783575 0.46201751 0.47370693 0.47872019 0.48967596 0.50442227\n",
      " 0.47891583 0.47341349 0.50914204 0.52134503 0.49151007 0.50684328\n",
      " 0.48008965 0.48862441 0.49158347 0.47889139 0.50518037 0.50048504\n",
      " 0.4932953  0.46426736 0.48111675 0.47138373 0.45646629 0.44250255\n",
      " 0.42029753 0.42156919 0.42411248 0.44558385 0.43871204 0.44771144\n",
      " 0.4379295  0.4455594  0.48060322 0.46487873 0.46749542 0.46306909\n",
      " 0.46649276 0.4600856  0.47155493 0.4749786  0.45844537 0.45818597\n",
      " 0.45688778 0.45511332 0.45313326 0.45107853 0.44901249 0.44696489\n",
      " 0.44494906 0.44297034 0.4410297  0.43912649 0.43725884 0.43542489\n",
      " 0.43362254 0.43184981 0.43010497 0.42838633 0.42669272 0.42502266\n",
      " 0.42337519 0.42174947 0.42014471 0.41855991]\n",
      "24 day output [[0.41699484]]\n",
      "25 day input [0.40782557 0.39102506 0.38087631 0.38300387 0.36480944 0.36392907\n",
      " 0.33441207 0.33384962 0.30396576 0.2985857  0.26422661 0.27305482\n",
      " 0.2953332  0.29865906 0.26178113 0.27532912 0.26725901 0.27391073\n",
      " 0.29031994 0.2880701  0.29875688 0.29958834 0.29675158 0.31898106\n",
      " 0.31235378 0.30841654 0.32370083 0.34896271 0.34930507 0.35062562\n",
      " 0.38936215 0.43247604 0.4049888  0.42103118 0.44105972 0.45783575\n",
      " 0.46201751 0.47370693 0.47872019 0.48967596 0.50442227 0.47891583\n",
      " 0.47341349 0.50914204 0.52134503 0.49151007 0.50684328 0.48008965\n",
      " 0.48862441 0.49158347 0.47889139 0.50518037 0.50048504 0.4932953\n",
      " 0.46426736 0.48111675 0.47138373 0.45646629 0.44250255 0.42029753\n",
      " 0.42156919 0.42411248 0.44558385 0.43871204 0.44771144 0.4379295\n",
      " 0.4455594  0.48060322 0.46487873 0.46749542 0.46306909 0.46649276\n",
      " 0.4600856  0.47155493 0.4749786  0.45844537 0.45818597 0.45688778\n",
      " 0.45511332 0.45313326 0.45107853 0.44901249 0.44696489 0.44494906\n",
      " 0.44297034 0.4410297  0.43912649 0.43725884 0.43542489 0.43362254\n",
      " 0.43184981 0.43010497 0.42838633 0.42669272 0.42502266 0.42337519\n",
      " 0.42174947 0.42014471 0.41855991 0.41699484]\n",
      "25 day output [[0.4154486]]\n",
      "26 day input [0.39102506 0.38087631 0.38300387 0.36480944 0.36392907 0.33441207\n",
      " 0.33384962 0.30396576 0.2985857  0.26422661 0.27305482 0.2953332\n",
      " 0.29865906 0.26178113 0.27532912 0.26725901 0.27391073 0.29031994\n",
      " 0.2880701  0.29875688 0.29958834 0.29675158 0.31898106 0.31235378\n",
      " 0.30841654 0.32370083 0.34896271 0.34930507 0.35062562 0.38936215\n",
      " 0.43247604 0.4049888  0.42103118 0.44105972 0.45783575 0.46201751\n",
      " 0.47370693 0.47872019 0.48967596 0.50442227 0.47891583 0.47341349\n",
      " 0.50914204 0.52134503 0.49151007 0.50684328 0.48008965 0.48862441\n",
      " 0.49158347 0.47889139 0.50518037 0.50048504 0.4932953  0.46426736\n",
      " 0.48111675 0.47138373 0.45646629 0.44250255 0.42029753 0.42156919\n",
      " 0.42411248 0.44558385 0.43871204 0.44771144 0.4379295  0.4455594\n",
      " 0.48060322 0.46487873 0.46749542 0.46306909 0.46649276 0.4600856\n",
      " 0.47155493 0.4749786  0.45844537 0.45818597 0.45688778 0.45511332\n",
      " 0.45313326 0.45107853 0.44901249 0.44696489 0.44494906 0.44297034\n",
      " 0.4410297  0.43912649 0.43725884 0.43542489 0.43362254 0.43184981\n",
      " 0.43010497 0.42838633 0.42669272 0.42502266 0.42337519 0.42174947\n",
      " 0.42014471 0.41855991 0.41699484 0.41544861]\n",
      "26 day output [[0.41392094]]\n",
      "27 day input [0.38087631 0.38300387 0.36480944 0.36392907 0.33441207 0.33384962\n",
      " 0.30396576 0.2985857  0.26422661 0.27305482 0.2953332  0.29865906\n",
      " 0.26178113 0.27532912 0.26725901 0.27391073 0.29031994 0.2880701\n",
      " 0.29875688 0.29958834 0.29675158 0.31898106 0.31235378 0.30841654\n",
      " 0.32370083 0.34896271 0.34930507 0.35062562 0.38936215 0.43247604\n",
      " 0.4049888  0.42103118 0.44105972 0.45783575 0.46201751 0.47370693\n",
      " 0.47872019 0.48967596 0.50442227 0.47891583 0.47341349 0.50914204\n",
      " 0.52134503 0.49151007 0.50684328 0.48008965 0.48862441 0.49158347\n",
      " 0.47889139 0.50518037 0.50048504 0.4932953  0.46426736 0.48111675\n",
      " 0.47138373 0.45646629 0.44250255 0.42029753 0.42156919 0.42411248\n",
      " 0.44558385 0.43871204 0.44771144 0.4379295  0.4455594  0.48060322\n",
      " 0.46487873 0.46749542 0.46306909 0.46649276 0.4600856  0.47155493\n",
      " 0.4749786  0.45844537 0.45818597 0.45688778 0.45511332 0.45313326\n",
      " 0.45107853 0.44901249 0.44696489 0.44494906 0.44297034 0.4410297\n",
      " 0.43912649 0.43725884 0.43542489 0.43362254 0.43184981 0.43010497\n",
      " 0.42838633 0.42669272 0.42502266 0.42337519 0.42174947 0.42014471\n",
      " 0.41855991 0.41699484 0.41544861 0.41392094]\n",
      "27 day output [[0.4124112]]\n",
      "28 day input [0.38300387 0.36480944 0.36392907 0.33441207 0.33384962 0.30396576\n",
      " 0.2985857  0.26422661 0.27305482 0.2953332  0.29865906 0.26178113\n",
      " 0.27532912 0.26725901 0.27391073 0.29031994 0.2880701  0.29875688\n",
      " 0.29958834 0.29675158 0.31898106 0.31235378 0.30841654 0.32370083\n",
      " 0.34896271 0.34930507 0.35062562 0.38936215 0.43247604 0.4049888\n",
      " 0.42103118 0.44105972 0.45783575 0.46201751 0.47370693 0.47872019\n",
      " 0.48967596 0.50442227 0.47891583 0.47341349 0.50914204 0.52134503\n",
      " 0.49151007 0.50684328 0.48008965 0.48862441 0.49158347 0.47889139\n",
      " 0.50518037 0.50048504 0.4932953  0.46426736 0.48111675 0.47138373\n",
      " 0.45646629 0.44250255 0.42029753 0.42156919 0.42411248 0.44558385\n",
      " 0.43871204 0.44771144 0.4379295  0.4455594  0.48060322 0.46487873\n",
      " 0.46749542 0.46306909 0.46649276 0.4600856  0.47155493 0.4749786\n",
      " 0.45844537 0.45818597 0.45688778 0.45511332 0.45313326 0.45107853\n",
      " 0.44901249 0.44696489 0.44494906 0.44297034 0.4410297  0.43912649\n",
      " 0.43725884 0.43542489 0.43362254 0.43184981 0.43010497 0.42838633\n",
      " 0.42669272 0.42502266 0.42337519 0.42174947 0.42014471 0.41855991\n",
      " 0.41699484 0.41544861 0.41392094 0.41241121]\n",
      "28 day output [[0.41091922]]\n",
      "29 day input [0.36480944 0.36392907 0.33441207 0.33384962 0.30396576 0.2985857\n",
      " 0.26422661 0.27305482 0.2953332  0.29865906 0.26178113 0.27532912\n",
      " 0.26725901 0.27391073 0.29031994 0.2880701  0.29875688 0.29958834\n",
      " 0.29675158 0.31898106 0.31235378 0.30841654 0.32370083 0.34896271\n",
      " 0.34930507 0.35062562 0.38936215 0.43247604 0.4049888  0.42103118\n",
      " 0.44105972 0.45783575 0.46201751 0.47370693 0.47872019 0.48967596\n",
      " 0.50442227 0.47891583 0.47341349 0.50914204 0.52134503 0.49151007\n",
      " 0.50684328 0.48008965 0.48862441 0.49158347 0.47889139 0.50518037\n",
      " 0.50048504 0.4932953  0.46426736 0.48111675 0.47138373 0.45646629\n",
      " 0.44250255 0.42029753 0.42156919 0.42411248 0.44558385 0.43871204\n",
      " 0.44771144 0.4379295  0.4455594  0.48060322 0.46487873 0.46749542\n",
      " 0.46306909 0.46649276 0.4600856  0.47155493 0.4749786  0.45844537\n",
      " 0.45818597 0.45688778 0.45511332 0.45313326 0.45107853 0.44901249\n",
      " 0.44696489 0.44494906 0.44297034 0.4410297  0.43912649 0.43725884\n",
      " 0.43542489 0.43362254 0.43184981 0.43010497 0.42838633 0.42669272\n",
      " 0.42502266 0.42337519 0.42174947 0.42014471 0.41855991 0.41699484\n",
      " 0.41544861 0.41392094 0.41241121 0.41091922]\n",
      "29 day output [[0.4094443]]\n",
      "[[0.45844537019729614], [0.45818597078323364], [0.45688778162002563], [0.45511332154273987], [0.4531332552433014], [0.45107853412628174], [0.44901248812675476], [0.44696488976478577], [0.44494906067848206], [0.442970335483551], [0.44102969765663147], [0.43912649154663086], [0.43725883960723877], [0.43542489409446716], [0.4336225390434265], [0.43184980750083923], [0.43010497093200684], [0.4283863306045532], [0.4266927242279053], [0.4250226616859436], [0.4233751893043518], [0.421749472618103], [0.4201447069644928], [0.4185599088668823], [0.4169948399066925], [0.4154486060142517], [0.41392093896865845], [0.4124112129211426], [0.4109192192554474], [0.40944430232048035]]\n"
     ]
    }
   ],
   "source": [
    "# demonstrate prediction for next 10 days\n",
    "from numpy import array\n",
    "\n",
    "lst_output=[]\n",
    "n_steps=100\n",
    "i=0\n",
    "while(i<30):\n",
    "    \n",
    "    if(len(temp_input)>100):\n",
    "        #print(temp_input)\n",
    "        x_input=np.array(temp_input[1:])\n",
    "        print(\"{} day input {}\".format(i,x_input))\n",
    "        x_input=x_input.reshape(1,-1)\n",
    "        x_input = x_input.reshape((1, n_steps, 1))\n",
    "        #print(x_input)\n",
    "        yhat = model.predict(x_input, verbose=0)\n",
    "        print(\"{} day output {}\".format(i,yhat))\n",
    "        temp_input.extend(yhat[0].tolist())\n",
    "        temp_input=temp_input[1:]\n",
    "        #print(temp_input)\n",
    "        lst_output.extend(yhat.tolist())\n",
    "        i=i+1\n",
    "    else:\n",
    "        x_input = x_input.reshape((1, n_steps,1))\n",
    "        yhat = model.predict(x_input, verbose=0)\n",
    "        print(yhat[0])\n",
    "        temp_input.extend(yhat[0].tolist())\n",
    "        print(len(temp_input))\n",
    "        lst_output.extend(yhat.tolist())\n",
    "        i=i+1\n",
    "    \n",
    "\n",
    "print(lst_output)"
   ]
  },
  {
   "cell_type": "code",
   "execution_count": 54,
   "metadata": {},
   "outputs": [
    {
     "data": {
      "text/plain": [
       "(1, 100, 1)"
      ]
     },
     "execution_count": 54,
     "metadata": {},
     "output_type": "execute_result"
    }
   ],
   "source": [
    "x_input.shape"
   ]
  },
  {
   "cell_type": "code",
   "execution_count": 55,
   "metadata": {},
   "outputs": [],
   "source": [
    "day_new=np.arange(1,101)\n",
    "day_pred=np.arange(101,131)"
   ]
  },
  {
   "cell_type": "code",
   "execution_count": 56,
   "metadata": {},
   "outputs": [
    {
     "data": {
      "text/plain": [
       "3211"
      ]
     },
     "execution_count": 56,
     "metadata": {},
     "output_type": "execute_result"
    }
   ],
   "source": [
    "len(df1)"
   ]
  },
  {
   "cell_type": "code",
   "execution_count": 58,
   "metadata": {},
   "outputs": [
    {
     "data": {
      "text/plain": [
       "[<matplotlib.lines.Line2D at 0x7f88f03effa0>]"
      ]
     },
     "execution_count": 58,
     "metadata": {},
     "output_type": "execute_result"
    },
    {
     "data": {
      "image/png": "[encoded data removed]",
      "text/plain": [
       "<Figure size 640x480 with 1 Axes>"
      ]
     },
     "metadata": {},
     "output_type": "display_data"
    }
   ],
   "source": [
    "plt.plot(day_new,scaler.inverse_transform(df1[len(df1)-100:]))\n",
    "plt.plot(day_pred,scaler.inverse_transform(lst_output))"
   ]
  },
  {
   "cell_type": "code",
   "execution_count": 59,
   "metadata": {},
   "outputs": [
    {
     "data": {
      "text/plain": [
       "[<matplotlib.lines.Line2D at 0x7f88f01cae60>]"
      ]
     },
     "execution_count": 59,
     "metadata": {},
     "output_type": "execute_result"
    },
    {
     "data": {
      "image/png": "[encoded data removed]",
      "text/plain": [
       "<Figure size 640x480 with 1 Axes>"
      ]
     },
     "metadata": {},
     "output_type": "display_data"
    }
   ],
   "source": [
    "df3=df1.tolist()\n",
    "df3.extend(lst_output)\n",
    "plt.plot(df3[3000:])"
   ]
  },
  {
   "cell_type": "code",
   "execution_count": null,
   "metadata": {},
   "outputs": [],
   "source": [
    "df3=scaler.inverse_transform(df3).tolist()"
   ]
  },
  {
   "cell_type": "code",
   "execution_count": null,
   "metadata": {},
   "outputs": [],
   "source": [
    "plt.plot(df3)"
   ]
  },
  {
   "cell_type": "code",
   "execution_count": null,
   "metadata": {},
   "outputs": [],
   "source": []
  }
 ],
 "metadata": {
  "kernelspec": {
   "display_name": "Python 3 (ipykernel)",
   "language": "python",
   "name": "python3"
  },
  "language_info": {
   "codemirror_mode": {
    "name": "ipython",
    "version": 3
   },
   "file_extension": ".py",
   "mimetype": "text/x-python",
   "name": "python",
   "nbconvert_exporter": "python",
   "pygments_lexer": "ipython3",
   "version": "3.10.8"
  }
 },
 "nbformat": 4,
 "nbformat_minor": 4
}
