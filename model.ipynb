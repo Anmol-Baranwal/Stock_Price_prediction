{
 "cells": [
  {
   "cell_type": "markdown",
   "metadata": {},
   "source": [
    "### Stock Market Prediction And Forecasting Using Stacked LSTM|"
   ]
  },
  {
   "cell_type": "code",
   "execution_count": 1,
   "metadata": {},
   "outputs": [],
   "source": [
    "### Keras and Tensorflow >2.0\n",
    "\n",
    "import numpy as np\n",
    "import pandas as pd"
   ]
  },
  {
   "cell_type": "code",
   "execution_count": 2,
   "metadata": {},
   "outputs": [
    {
     "name": "stdout",
     "output_type": "stream",
     "text": [
      "Requirement already satisfied: pandas_datareader in /opt/conda/lib/python3.10/site-packages (0.10.0)\n",
      "Requirement already satisfied: requests>=2.19.0 in /opt/conda/lib/python3.10/site-packages (from pandas_datareader) (2.28.1)\n",
      "Requirement already satisfied: pandas>=0.23 in /opt/conda/lib/python3.10/site-packages (from pandas_datareader) (1.5.2)\n",
      "Requirement already satisfied: lxml in /opt/conda/lib/python3.10/site-packages (from pandas_datareader) (4.9.2)\n",
      "Requirement already satisfied: python-dateutil>=2.8.1 in /opt/conda/lib/python3.10/site-packages (from pandas>=0.23->pandas_datareader) (2.8.2)\n",
      "Requirement already satisfied: pytz>=2020.1 in /opt/conda/lib/python3.10/site-packages (from pandas>=0.23->pandas_datareader) (2022.6)\n",
      "Requirement already satisfied: numpy>=1.21.0 in /opt/conda/lib/python3.10/site-packages (from pandas>=0.23->pandas_datareader) (1.23.5)\n",
      "Requirement already satisfied: urllib3<1.27,>=1.21.1 in /opt/conda/lib/python3.10/site-packages (from requests>=2.19.0->pandas_datareader) (1.26.13)\n",
      "Requirement already satisfied: idna<4,>=2.5 in /opt/conda/lib/python3.10/site-packages (from requests>=2.19.0->pandas_datareader) (3.4)\n",
      "Requirement already satisfied: certifi>=2017.4.17 in /opt/conda/lib/python3.10/site-packages (from requests>=2.19.0->pandas_datareader) (2022.12.7)\n",
      "Requirement already satisfied: charset-normalizer<3,>=2 in /opt/conda/lib/python3.10/site-packages (from requests>=2.19.0->pandas_datareader) (2.1.1)\n",
      "Requirement already satisfied: six>=1.5 in /opt/conda/lib/python3.10/site-packages (from python-dateutil>=2.8.1->pandas>=0.23->pandas_datareader) (1.16.0)\n",
      "Note: you may need to restart the kernel to use updated packages.\n"
     ]
    }
   ],
   "source": [
    "pip install pandas_datareader\n"
   ]
  },
  {
   "cell_type": "code",
   "execution_count": 3,
   "metadata": {},
   "outputs": [
    {
     "name": "stdout",
     "output_type": "stream",
     "text": [
      "Requirement already satisfied: yfinance in /opt/conda/lib/python3.10/site-packages (0.2.18)\n",
      "Requirement already satisfied: html5lib>=1.1 in /opt/conda/lib/python3.10/site-packages (from yfinance) (1.1)\n",
      "Requirement already satisfied: appdirs>=1.4.4 in /opt/conda/lib/python3.10/site-packages (from yfinance) (1.4.4)\n",
      "Requirement already satisfied: requests>=2.26 in /opt/conda/lib/python3.10/site-packages (from yfinance) (2.28.1)\n",
      "Requirement already satisfied: pandas>=1.3.0 in /opt/conda/lib/python3.10/site-packages (from yfinance) (1.5.2)\n",
      "Requirement already satisfied: numpy>=1.16.5 in /opt/conda/lib/python3.10/site-packages (from yfinance) (1.23.5)\n",
      "Requirement already satisfied: pytz>=2022.5 in /opt/conda/lib/python3.10/site-packages (from yfinance) (2022.6)\n",
      "Requirement already satisfied: frozendict>=2.3.4 in /opt/conda/lib/python3.10/site-packages (from yfinance) (2.3.8)\n",
      "Requirement already satisfied: cryptography>=3.3.2 in /opt/conda/lib/python3.10/site-packages (from yfinance) (38.0.4)\n",
      "Requirement already satisfied: beautifulsoup4>=4.11.1 in /opt/conda/lib/python3.10/site-packages (from yfinance) (4.11.1)\n",
      "Requirement already satisfied: lxml>=4.9.1 in /opt/conda/lib/python3.10/site-packages (from yfinance) (4.9.2)\n",
      "Requirement already satisfied: multitasking>=0.0.7 in /opt/conda/lib/python3.10/site-packages (from yfinance) (0.0.11)\n",
      "Requirement already satisfied: soupsieve>1.2 in /opt/conda/lib/python3.10/site-packages (from beautifulsoup4>=4.11.1->yfinance) (2.3.2.post1)\n",
      "Requirement already satisfied: cffi>=1.12 in /opt/conda/lib/python3.10/site-packages (from cryptography>=3.3.2->yfinance) (1.15.1)\n",
      "Requirement already satisfied: six>=1.9 in /opt/conda/lib/python3.10/site-packages (from html5lib>=1.1->yfinance) (1.16.0)\n",
      "Requirement already satisfied: webencodings in /opt/conda/lib/python3.10/site-packages (from html5lib>=1.1->yfinance) (0.5.1)\n",
      "Requirement already satisfied: python-dateutil>=2.8.1 in /opt/conda/lib/python3.10/site-packages (from pandas>=1.3.0->yfinance) (2.8.2)\n",
      "Requirement already satisfied: certifi>=2017.4.17 in /opt/conda/lib/python3.10/site-packages (from requests>=2.26->yfinance) (2022.12.7)\n",
      "Requirement already satisfied: urllib3<1.27,>=1.21.1 in /opt/conda/lib/python3.10/site-packages (from requests>=2.26->yfinance) (1.26.13)\n",
      "Requirement already satisfied: charset-normalizer<3,>=2 in /opt/conda/lib/python3.10/site-packages (from requests>=2.26->yfinance) (2.1.1)\n",
      "Requirement already satisfied: idna<4,>=2.5 in /opt/conda/lib/python3.10/site-packages (from requests>=2.26->yfinance) (3.4)\n",
      "Requirement already satisfied: pycparser in /opt/conda/lib/python3.10/site-packages (from cffi>=1.12->cryptography>=3.3.2->yfinance) (2.21)\n",
      "Note: you may need to restart the kernel to use updated packages.\n"
     ]
    }
   ],
   "source": [
    "pip install yfinance"
   ]
  },
  {
   "cell_type": "code",
   "execution_count": 4,
   "metadata": {},
   "outputs": [],
   "source": [
    "### Data Collection\n",
    "\n",
    "import pandas_datareader.data as pdr\n",
    "#pip install yfinance\n",
    "import yfinance as yf\n",
    "yf.pdr_override()"
   ]
  },
  {
   "cell_type": "code",
   "execution_count": 5,
   "metadata": {},
   "outputs": [
    {
     "name": "stdout",
     "output_type": "stream",
     "text": [
      "[*********************100%***********************]  1 of 1 completed\n"
     ]
    },
    {
     "data": {
      "text/html": [
       "<div>\n",
       "<style scoped>\n",
       "    .dataframe tbody tr th:only-of-type {\n",
       "        vertical-align: middle;\n",
       "    }\n",
       "\n",
       "    .dataframe tbody tr th {\n",
       "        vertical-align: top;\n",
       "    }\n",
       "\n",
       "    .dataframe thead th {\n",
       "        text-align: right;\n",
       "    }\n",
       "</style>\n",
       "<table border=\"1\" class=\"dataframe\">\n",
       "  <thead>\n",
       "    <tr style=\"text-align: right;\">\n",
       "      <th></th>\n",
       "      <th>Open</th>\n",
       "      <th>High</th>\n",
       "      <th>Low</th>\n",
       "      <th>Close</th>\n",
       "      <th>Adj Close</th>\n",
       "      <th>Volume</th>\n",
       "    </tr>\n",
       "    <tr>\n",
       "      <th>Date</th>\n",
       "      <th></th>\n",
       "      <th></th>\n",
       "      <th></th>\n",
       "      <th></th>\n",
       "      <th></th>\n",
       "      <th></th>\n",
       "    </tr>\n",
       "  </thead>\n",
       "  <tbody>\n",
       "    <tr>\n",
       "      <th>2010-01-04</th>\n",
       "      <td>7.622500</td>\n",
       "      <td>7.660714</td>\n",
       "      <td>7.585000</td>\n",
       "      <td>7.643214</td>\n",
       "      <td>6.505281</td>\n",
       "      <td>493729600</td>\n",
       "    </tr>\n",
       "    <tr>\n",
       "      <th>2010-01-05</th>\n",
       "      <td>7.664286</td>\n",
       "      <td>7.699643</td>\n",
       "      <td>7.616071</td>\n",
       "      <td>7.656429</td>\n",
       "      <td>6.516527</td>\n",
       "      <td>601904800</td>\n",
       "    </tr>\n",
       "    <tr>\n",
       "      <th>2010-01-06</th>\n",
       "      <td>7.656429</td>\n",
       "      <td>7.686786</td>\n",
       "      <td>7.526786</td>\n",
       "      <td>7.534643</td>\n",
       "      <td>6.412875</td>\n",
       "      <td>552160000</td>\n",
       "    </tr>\n",
       "    <tr>\n",
       "      <th>2010-01-07</th>\n",
       "      <td>7.562500</td>\n",
       "      <td>7.571429</td>\n",
       "      <td>7.466071</td>\n",
       "      <td>7.520714</td>\n",
       "      <td>6.401018</td>\n",
       "      <td>477131200</td>\n",
       "    </tr>\n",
       "    <tr>\n",
       "      <th>2010-01-08</th>\n",
       "      <td>7.510714</td>\n",
       "      <td>7.571429</td>\n",
       "      <td>7.466429</td>\n",
       "      <td>7.570714</td>\n",
       "      <td>6.443573</td>\n",
       "      <td>447610800</td>\n",
       "    </tr>\n",
       "    <tr>\n",
       "      <th>...</th>\n",
       "      <td>...</td>\n",
       "      <td>...</td>\n",
       "      <td>...</td>\n",
       "      <td>...</td>\n",
       "      <td>...</td>\n",
       "      <td>...</td>\n",
       "    </tr>\n",
       "    <tr>\n",
       "      <th>2023-04-24</th>\n",
       "      <td>165.000000</td>\n",
       "      <td>165.600006</td>\n",
       "      <td>163.889999</td>\n",
       "      <td>165.330002</td>\n",
       "      <td>165.330002</td>\n",
       "      <td>41949600</td>\n",
       "    </tr>\n",
       "    <tr>\n",
       "      <th>2023-04-25</th>\n",
       "      <td>165.190002</td>\n",
       "      <td>166.309998</td>\n",
       "      <td>163.729996</td>\n",
       "      <td>163.770004</td>\n",
       "      <td>163.770004</td>\n",
       "      <td>48714100</td>\n",
       "    </tr>\n",
       "    <tr>\n",
       "      <th>2023-04-26</th>\n",
       "      <td>163.059998</td>\n",
       "      <td>165.279999</td>\n",
       "      <td>162.800003</td>\n",
       "      <td>163.759995</td>\n",
       "      <td>163.759995</td>\n",
       "      <td>45498800</td>\n",
       "    </tr>\n",
       "    <tr>\n",
       "      <th>2023-04-27</th>\n",
       "      <td>165.190002</td>\n",
       "      <td>168.559998</td>\n",
       "      <td>165.190002</td>\n",
       "      <td>168.410004</td>\n",
       "      <td>168.410004</td>\n",
       "      <td>64902300</td>\n",
       "    </tr>\n",
       "    <tr>\n",
       "      <th>2023-04-28</th>\n",
       "      <td>168.490005</td>\n",
       "      <td>169.850006</td>\n",
       "      <td>167.880005</td>\n",
       "      <td>169.679993</td>\n",
       "      <td>169.679993</td>\n",
       "      <td>55209200</td>\n",
       "    </tr>\n",
       "  </tbody>\n",
       "</table>\n",
       "<p>3353 rows × 6 columns</p>\n",
       "</div>"
      ],
      "text/plain": [
       "                  Open        High         Low       Close   Adj Close  \\\n",
       "Date                                                                     \n",
       "2010-01-04    7.622500    7.660714    7.585000    7.643214    6.505281   \n",
       "2010-01-05    7.664286    7.699643    7.616071    7.656429    6.516527   \n",
       "2010-01-06    7.656429    7.686786    7.526786    7.534643    6.412875   \n",
       "2010-01-07    7.562500    7.571429    7.466071    7.520714    6.401018   \n",
       "2010-01-08    7.510714    7.571429    7.466429    7.570714    6.443573   \n",
       "...                ...         ...         ...         ...         ...   \n",
       "2023-04-24  165.000000  165.600006  163.889999  165.330002  165.330002   \n",
       "2023-04-25  165.190002  166.309998  163.729996  163.770004  163.770004   \n",
       "2023-04-26  163.059998  165.279999  162.800003  163.759995  163.759995   \n",
       "2023-04-27  165.190002  168.559998  165.190002  168.410004  168.410004   \n",
       "2023-04-28  168.490005  169.850006  167.880005  169.679993  169.679993   \n",
       "\n",
       "               Volume  \n",
       "Date                   \n",
       "2010-01-04  493729600  \n",
       "2010-01-05  601904800  \n",
       "2010-01-06  552160000  \n",
       "2010-01-07  477131200  \n",
       "2010-01-08  447610800  \n",
       "...               ...  \n",
       "2023-04-24   41949600  \n",
       "2023-04-25   48714100  \n",
       "2023-04-26   45498800  \n",
       "2023-04-27   64902300  \n",
       "2023-04-28   55209200  \n",
       "\n",
       "[3353 rows x 6 columns]"
      ]
     },
     "execution_count": 5,
     "metadata": {},
     "output_type": "execute_result"
    }
   ],
   "source": [
    "start='2010-01-01'\n",
    "end= '2023-04-30'\n",
    "df = pdr.get_data_yahoo('AAPL',start,end)\n",
    "df"
   ]
  },
  {
   "cell_type": "code",
   "execution_count": 6,
   "metadata": {},
   "outputs": [],
   "source": [
    "df1=df.reset_index()['Close']"
   ]
  },
  {
   "cell_type": "code",
   "execution_count": 7,
   "metadata": {},
   "outputs": [
    {
     "data": {
      "text/html": [
       "<div>\n",
       "<style scoped>\n",
       "    .dataframe tbody tr th:only-of-type {\n",
       "        vertical-align: middle;\n",
       "    }\n",
       "\n",
       "    .dataframe tbody tr th {\n",
       "        vertical-align: top;\n",
       "    }\n",
       "\n",
       "    .dataframe thead th {\n",
       "        text-align: right;\n",
       "    }\n",
       "</style>\n",
       "<table border=\"1\" class=\"dataframe\">\n",
       "  <thead>\n",
       "    <tr style=\"text-align: right;\">\n",
       "      <th></th>\n",
       "      <th>Close</th>\n",
       "    </tr>\n",
       "    <tr>\n",
       "      <th>Date</th>\n",
       "      <th></th>\n",
       "    </tr>\n",
       "  </thead>\n",
       "  <tbody>\n",
       "    <tr>\n",
       "      <th>2010-01-04</th>\n",
       "      <td>7.643214</td>\n",
       "    </tr>\n",
       "    <tr>\n",
       "      <th>2010-01-05</th>\n",
       "      <td>7.656429</td>\n",
       "    </tr>\n",
       "    <tr>\n",
       "      <th>2010-01-06</th>\n",
       "      <td>7.534643</td>\n",
       "    </tr>\n",
       "    <tr>\n",
       "      <th>2010-01-07</th>\n",
       "      <td>7.520714</td>\n",
       "    </tr>\n",
       "    <tr>\n",
       "      <th>2010-01-08</th>\n",
       "      <td>7.570714</td>\n",
       "    </tr>\n",
       "    <tr>\n",
       "      <th>...</th>\n",
       "      <td>...</td>\n",
       "    </tr>\n",
       "    <tr>\n",
       "      <th>2023-04-24</th>\n",
       "      <td>165.330002</td>\n",
       "    </tr>\n",
       "    <tr>\n",
       "      <th>2023-04-25</th>\n",
       "      <td>163.770004</td>\n",
       "    </tr>\n",
       "    <tr>\n",
       "      <th>2023-04-26</th>\n",
       "      <td>163.759995</td>\n",
       "    </tr>\n",
       "    <tr>\n",
       "      <th>2023-04-27</th>\n",
       "      <td>168.410004</td>\n",
       "    </tr>\n",
       "    <tr>\n",
       "      <th>2023-04-28</th>\n",
       "      <td>169.679993</td>\n",
       "    </tr>\n",
       "  </tbody>\n",
       "</table>\n",
       "<p>3353 rows × 1 columns</p>\n",
       "</div>"
      ],
      "text/plain": [
       "                 Close\n",
       "Date                  \n",
       "2010-01-04    7.643214\n",
       "2010-01-05    7.656429\n",
       "2010-01-06    7.534643\n",
       "2010-01-07    7.520714\n",
       "2010-01-08    7.570714\n",
       "...                ...\n",
       "2023-04-24  165.330002\n",
       "2023-04-25  163.770004\n",
       "2023-04-26  163.759995\n",
       "2023-04-27  168.410004\n",
       "2023-04-28  169.679993\n",
       "\n",
       "[3353 rows x 1 columns]"
      ]
     },
     "execution_count": 7,
     "metadata": {},
     "output_type": "execute_result"
    }
   ],
   "source": [
    "data= df.filter(['Close'])\n",
    "data"
   ]
  },
  {
   "cell_type": "code",
   "execution_count": 8,
   "metadata": {},
   "outputs": [
    {
     "data": {
      "text/plain": [
       "0         7.643214\n",
       "1         7.656429\n",
       "2         7.534643\n",
       "3         7.520714\n",
       "4         7.570714\n",
       "           ...    \n",
       "3318    148.500000\n",
       "3319    150.470001\n",
       "3320    152.589996\n",
       "3321    152.990005\n",
       "3322    155.850006\n",
       "Name: Close, Length: 3323, dtype: float64"
      ]
     },
     "execution_count": 8,
     "metadata": {},
     "output_type": "execute_result"
    }
   ],
   "source": [
    "df1= df1[0:len(df1)-30]\n",
    "df1"
   ]
  },
  {
   "cell_type": "code",
   "execution_count": 9,
   "metadata": {},
   "outputs": [
    {
     "data": {
      "image/png": "[encoded data removed]",
      "text/plain": [
       "<Figure size 1200x600 with 1 Axes>"
      ]
     },
     "metadata": {},
     "output_type": "display_data"
    }
   ],
   "source": [
    "import matplotlib.pyplot as plt\n",
    "plt.figure(figsize=(12,6))\n",
    "plt.plot(df1,'r',label='stockprice')\n",
    "plt.legend()\n",
    "plt.show()"
   ]
  },
  {
   "cell_type": "code",
   "execution_count": 10,
   "metadata": {},
   "outputs": [],
   "source": [
    "### LSTM are sensitive to the scale of the data. so we apply MinMax scaler "
   ]
  },
  {
   "cell_type": "code",
   "execution_count": 11,
   "metadata": {},
   "outputs": [],
   "source": [
    "from sklearn.preprocessing import MinMaxScaler\n",
    "scaler=MinMaxScaler(feature_range=(0,1))\n",
    "df1=scaler.fit_transform(np.array(df1).reshape(-1,1))"
   ]
  },
  {
   "cell_type": "code",
   "execution_count": 12,
   "metadata": {},
   "outputs": [
    {
     "data": {
      "text/plain": [
       "array([[0.00447776],\n",
       "       [0.00455321],\n",
       "       [0.00385789],\n",
       "       ...,\n",
       "       [0.83203072],\n",
       "       [0.83431452],\n",
       "       [0.85064328]])"
      ]
     },
     "execution_count": 12,
     "metadata": {},
     "output_type": "execute_result"
    }
   ],
   "source": [
    "df1"
   ]
  },
  {
   "cell_type": "code",
   "execution_count": 13,
   "metadata": {},
   "outputs": [
    {
     "data": {
      "text/plain": [
       "2326"
      ]
     },
     "execution_count": 13,
     "metadata": {},
     "output_type": "execute_result"
    }
   ],
   "source": [
    "int(len(df1)*0.70)"
   ]
  },
  {
   "cell_type": "code",
   "execution_count": 14,
   "metadata": {},
   "outputs": [],
   "source": [
    "##splitting dataset into train and test split\n",
    "training_size=int(len(df1)*0.70)\n",
    "test_size=len(df1)-training_size\n",
    "train_data,test_data=df1[0:training_size,:],df1[training_size:len(df1),:1]"
   ]
  },
  {
   "cell_type": "code",
   "execution_count": 15,
   "metadata": {},
   "outputs": [
    {
     "data": {
      "text/plain": [
       "(2326, 997)"
      ]
     },
     "execution_count": 15,
     "metadata": {},
     "output_type": "execute_result"
    }
   ],
   "source": [
    "training_size,test_size"
   ]
  },
  {
   "cell_type": "code",
   "execution_count": 16,
   "metadata": {},
   "outputs": [
    {
     "data": {
      "text/plain": [
       "array([[0.00447776],\n",
       "       [0.00455321],\n",
       "       [0.00385789],\n",
       "       ...,\n",
       "       [0.2302074 ],\n",
       "       [0.23196302],\n",
       "       [0.2338043 ]])"
      ]
     },
     "execution_count": 16,
     "metadata": {},
     "output_type": "execute_result"
    }
   ],
   "source": [
    "train_data"
   ]
  },
  {
   "cell_type": "code",
   "execution_count": 17,
   "metadata": {},
   "outputs": [],
   "source": [
    "import numpy\n",
    "# convert an array of values into a dataset matrix\n",
    "def create_dataset(dataset, time_step=1):\n",
    "\tdataX, dataY = [], []\n",
    "\tfor i in range(len(dataset)-time_step-1):\n",
    "\t\ta = dataset[i:(i+time_step), 0]   ###i=0, 0,1,2,3-----99   100 \n",
    "\t\tdataX.append(a)\n",
    "\t\tdataY.append(dataset[i + time_step, 0])\n",
    "\treturn numpy.array(dataX), numpy.array(dataY)"
   ]
  },
  {
   "cell_type": "code",
   "execution_count": 18,
   "metadata": {},
   "outputs": [],
   "source": [
    "# reshape into X=t,t+1,t+2,t+3 and Y=t+4\n",
    "time_step = 100\n",
    "X_train, y_train = create_dataset(train_data, time_step)\n",
    "X_test, ytest = create_dataset(test_data, time_step)"
   ]
  },
  {
   "cell_type": "code",
   "execution_count": 19,
   "metadata": {},
   "outputs": [
    {
     "data": {
      "text/plain": [
       "array([[0.2377723 , 0.23967067, 0.24015596, ..., 0.26109502, 0.26434935,\n",
       "        0.26409244],\n",
       "       [0.23967067, 0.24015596, 0.24202577, ..., 0.26434935, 0.26409244,\n",
       "        0.25007596],\n",
       "       [0.24015596, 0.24202577, 0.24645053, ..., 0.26409244, 0.25007596,\n",
       "        0.25557122],\n",
       "       ...,\n",
       "       [0.77390951, 0.78156002, 0.78218806, ..., 0.83362933, 0.82061201,\n",
       "        0.80867947],\n",
       "       [0.78156002, 0.78218806, 0.77950465, ..., 0.82061201, 0.80867947,\n",
       "        0.81992691],\n",
       "       [0.78218806, 0.77950465, 0.80165699, ..., 0.80867947, 0.81992691,\n",
       "        0.83203072]])"
      ]
     },
     "execution_count": 19,
     "metadata": {},
     "output_type": "execute_result"
    }
   ],
   "source": [
    "X_test"
   ]
  },
  {
   "cell_type": "code",
   "execution_count": 20,
   "metadata": {},
   "outputs": [
    {
     "name": "stdout",
     "output_type": "stream",
     "text": [
      "(2225, 100)\n",
      "(2225,)\n"
     ]
    },
    {
     "data": {
      "text/plain": [
       "(None, None)"
      ]
     },
     "execution_count": 20,
     "metadata": {},
     "output_type": "execute_result"
    }
   ],
   "source": [
    "print(X_train.shape), print(y_train.shape)"
   ]
  },
  {
   "cell_type": "code",
   "execution_count": 21,
   "metadata": {},
   "outputs": [
    {
     "name": "stdout",
     "output_type": "stream",
     "text": [
      "(896, 100)\n",
      "(896,)\n"
     ]
    },
    {
     "data": {
      "text/plain": [
       "(None, None)"
      ]
     },
     "execution_count": 21,
     "metadata": {},
     "output_type": "execute_result"
    }
   ],
   "source": [
    "print(X_test.shape), print(ytest.shape)"
   ]
  },
  {
   "cell_type": "code",
   "execution_count": 22,
   "metadata": {},
   "outputs": [
    {
     "data": {
      "text/plain": [
       "896"
      ]
     },
     "execution_count": 22,
     "metadata": {},
     "output_type": "execute_result"
    }
   ],
   "source": [
    "len(ytest)"
   ]
  },
  {
   "cell_type": "code",
   "execution_count": 23,
   "metadata": {},
   "outputs": [],
   "source": [
    "# reshape input to be [samples, time steps, features] which is required for LSTM\n",
    "X_train =X_train.reshape(X_train.shape[0],X_train.shape[1] , 1)\n",
    "X_test = X_test.reshape(X_test.shape[0],X_test.shape[1] , 1)"
   ]
  },
  {
   "cell_type": "code",
   "execution_count": 24,
   "metadata": {},
   "outputs": [
    {
     "data": {
      "text/plain": [
       "array([[[0.2377723 ],\n",
       "        [0.23967067],\n",
       "        [0.24015596],\n",
       "        ...,\n",
       "        [0.26109502],\n",
       "        [0.26434935],\n",
       "        [0.26409244]],\n",
       "\n",
       "       [[0.23967067],\n",
       "        [0.24015596],\n",
       "        [0.24202577],\n",
       "        ...,\n",
       "        [0.26434935],\n",
       "        [0.26409244],\n",
       "        [0.25007596]],\n",
       "\n",
       "       [[0.24015596],\n",
       "        [0.24202577],\n",
       "        [0.24645053],\n",
       "        ...,\n",
       "        [0.26409244],\n",
       "        [0.25007596],\n",
       "        [0.25557122]],\n",
       "\n",
       "       ...,\n",
       "\n",
       "       [[0.77390951],\n",
       "        [0.78156002],\n",
       "        [0.78218806],\n",
       "        ...,\n",
       "        [0.83362933],\n",
       "        [0.82061201],\n",
       "        [0.80867947]],\n",
       "\n",
       "       [[0.78156002],\n",
       "        [0.78218806],\n",
       "        [0.77950465],\n",
       "        ...,\n",
       "        [0.82061201],\n",
       "        [0.80867947],\n",
       "        [0.81992691]],\n",
       "\n",
       "       [[0.78218806],\n",
       "        [0.77950465],\n",
       "        [0.80165699],\n",
       "        ...,\n",
       "        [0.80867947],\n",
       "        [0.81992691],\n",
       "        [0.83203072]]])"
      ]
     },
     "execution_count": 24,
     "metadata": {},
     "output_type": "execute_result"
    }
   ],
   "source": [
    "X_test"
   ]
  },
  {
   "cell_type": "code",
   "execution_count": 25,
   "metadata": {},
   "outputs": [
    {
     "name": "stdout",
     "output_type": "stream",
     "text": [
      "Requirement already satisfied: tensorflow in /opt/conda/lib/python3.10/site-packages (2.12.0)\n",
      "Requirement already satisfied: astunparse>=1.6.0 in /opt/conda/lib/python3.10/site-packages (from tensorflow) (1.6.3)\n",
      "Requirement already satisfied: tensorflow-io-gcs-filesystem>=0.23.1 in /opt/conda/lib/python3.10/site-packages (from tensorflow) (0.32.0)\n",
      "Requirement already satisfied: flatbuffers>=2.0 in /opt/conda/lib/python3.10/site-packages (from tensorflow) (23.3.3)\n",
      "Requirement already satisfied: numpy<1.24,>=1.22 in /opt/conda/lib/python3.10/site-packages (from tensorflow) (1.23.5)\n",
      "Requirement already satisfied: tensorflow-estimator<2.13,>=2.12.0 in /opt/conda/lib/python3.10/site-packages (from tensorflow) (2.12.0)\n",
      "Requirement already satisfied: h5py>=2.9.0 in /opt/conda/lib/python3.10/site-packages (from tensorflow) (3.7.0)\n",
      "Requirement already satisfied: protobuf!=4.21.0,!=4.21.1,!=4.21.2,!=4.21.3,!=4.21.4,!=4.21.5,<5.0.0dev,>=3.20.3 in /opt/conda/lib/python3.10/site-packages (from tensorflow) (4.21.11)\n",
      "Requirement already satisfied: gast<=0.4.0,>=0.2.1 in /opt/conda/lib/python3.10/site-packages (from tensorflow) (0.4.0)\n",
      "Requirement already satisfied: grpcio<2.0,>=1.24.3 in /opt/conda/lib/python3.10/site-packages (from tensorflow) (1.54.0)\n",
      "Requirement already satisfied: opt-einsum>=2.3.2 in /opt/conda/lib/python3.10/site-packages (from tensorflow) (3.3.0)\n",
      "Requirement already satisfied: keras<2.13,>=2.12.0 in /opt/conda/lib/python3.10/site-packages (from tensorflow) (2.12.0)\n",
      "Requirement already satisfied: termcolor>=1.1.0 in /opt/conda/lib/python3.10/site-packages (from tensorflow) (2.3.0)\n",
      "Requirement already satisfied: typing-extensions>=3.6.6 in /opt/conda/lib/python3.10/site-packages (from tensorflow) (4.4.0)\n",
      "Requirement already satisfied: jax>=0.3.15 in /opt/conda/lib/python3.10/site-packages (from tensorflow) (0.4.8)\n",
      "Requirement already satisfied: libclang>=13.0.0 in /opt/conda/lib/python3.10/site-packages (from tensorflow) (16.0.0)\n",
      "Requirement already satisfied: tensorboard<2.13,>=2.12 in /opt/conda/lib/python3.10/site-packages (from tensorflow) (2.12.3)\n",
      "Requirement already satisfied: six>=1.12.0 in /opt/conda/lib/python3.10/site-packages (from tensorflow) (1.16.0)\n",
      "Requirement already satisfied: google-pasta>=0.1.1 in /opt/conda/lib/python3.10/site-packages (from tensorflow) (0.2.0)\n",
      "Requirement already satisfied: setuptools in /opt/conda/lib/python3.10/site-packages (from tensorflow) (65.5.1)\n",
      "Requirement already satisfied: wrapt<1.15,>=1.11.0 in /opt/conda/lib/python3.10/site-packages (from tensorflow) (1.14.1)\n",
      "Requirement already satisfied: absl-py>=1.0.0 in /opt/conda/lib/python3.10/site-packages (from tensorflow) (1.4.0)\n",
      "Requirement already satisfied: packaging in /opt/conda/lib/python3.10/site-packages (from tensorflow) (22.0)\n",
      "Requirement already satisfied: wheel<1.0,>=0.23.0 in /opt/conda/lib/python3.10/site-packages (from astunparse>=1.6.0->tensorflow) (0.38.4)\n",
      "Requirement already satisfied: scipy>=1.7 in /opt/conda/lib/python3.10/site-packages (from jax>=0.3.15->tensorflow) (1.9.3)\n",
      "Requirement already satisfied: ml-dtypes>=0.0.3 in /opt/conda/lib/python3.10/site-packages (from jax>=0.3.15->tensorflow) (0.1.0)\n",
      "Requirement already satisfied: tensorboard-data-server<0.8.0,>=0.7.0 in /opt/conda/lib/python3.10/site-packages (from tensorboard<2.13,>=2.12->tensorflow) (0.7.0)\n",
      "Requirement already satisfied: markdown>=2.6.8 in /opt/conda/lib/python3.10/site-packages (from tensorboard<2.13,>=2.12->tensorflow) (3.4.3)\n",
      "Requirement already satisfied: werkzeug>=1.0.1 in /opt/conda/lib/python3.10/site-packages (from tensorboard<2.13,>=2.12->tensorflow) (2.3.3)\n",
      "Requirement already satisfied: google-auth<3,>=1.6.3 in /opt/conda/lib/python3.10/site-packages (from tensorboard<2.13,>=2.12->tensorflow) (2.17.3)\n",
      "Requirement already satisfied: requests<3,>=2.21.0 in /opt/conda/lib/python3.10/site-packages (from tensorboard<2.13,>=2.12->tensorflow) (2.28.1)\n",
      "Requirement already satisfied: google-auth-oauthlib<1.1,>=0.5 in /opt/conda/lib/python3.10/site-packages (from tensorboard<2.13,>=2.12->tensorflow) (1.0.0)\n",
      "Requirement already satisfied: cachetools<6.0,>=2.0.0 in /opt/conda/lib/python3.10/site-packages (from google-auth<3,>=1.6.3->tensorboard<2.13,>=2.12->tensorflow) (5.3.0)\n",
      "Requirement already satisfied: rsa<5,>=3.1.4 in /opt/conda/lib/python3.10/site-packages (from google-auth<3,>=1.6.3->tensorboard<2.13,>=2.12->tensorflow) (4.9)\n",
      "Requirement already satisfied: pyasn1-modules>=0.2.1 in /opt/conda/lib/python3.10/site-packages (from google-auth<3,>=1.6.3->tensorboard<2.13,>=2.12->tensorflow) (0.3.0)\n",
      "Requirement already satisfied: requests-oauthlib>=0.7.0 in /opt/conda/lib/python3.10/site-packages (from google-auth-oauthlib<1.1,>=0.5->tensorboard<2.13,>=2.12->tensorflow) (1.3.1)\n",
      "Requirement already satisfied: certifi>=2017.4.17 in /opt/conda/lib/python3.10/site-packages (from requests<3,>=2.21.0->tensorboard<2.13,>=2.12->tensorflow) (2022.12.7)\n",
      "Requirement already satisfied: charset-normalizer<3,>=2 in /opt/conda/lib/python3.10/site-packages (from requests<3,>=2.21.0->tensorboard<2.13,>=2.12->tensorflow) (2.1.1)\n",
      "Requirement already satisfied: idna<4,>=2.5 in /opt/conda/lib/python3.10/site-packages (from requests<3,>=2.21.0->tensorboard<2.13,>=2.12->tensorflow) (3.4)\n",
      "Requirement already satisfied: urllib3<1.27,>=1.21.1 in /opt/conda/lib/python3.10/site-packages (from requests<3,>=2.21.0->tensorboard<2.13,>=2.12->tensorflow) (1.26.13)\n",
      "Requirement already satisfied: MarkupSafe>=2.1.1 in /opt/conda/lib/python3.10/site-packages (from werkzeug>=1.0.1->tensorboard<2.13,>=2.12->tensorflow) (2.1.1)\n",
      "Requirement already satisfied: pyasn1<0.6.0,>=0.4.6 in /opt/conda/lib/python3.10/site-packages (from pyasn1-modules>=0.2.1->google-auth<3,>=1.6.3->tensorboard<2.13,>=2.12->tensorflow) (0.5.0)\n",
      "Requirement already satisfied: oauthlib>=3.0.0 in /opt/conda/lib/python3.10/site-packages (from requests-oauthlib>=0.7.0->google-auth-oauthlib<1.1,>=0.5->tensorboard<2.13,>=2.12->tensorflow) (3.2.2)\n",
      "Note: you may need to restart the kernel to use updated packages.\n"
     ]
    }
   ],
   "source": [
    "pip install tensorflow"
   ]
  },
  {
   "cell_type": "code",
   "execution_count": 26,
   "metadata": {},
   "outputs": [
    {
     "name": "stderr",
     "output_type": "stream",
     "text": [
      "2023-05-04 19:36:11.195690: I tensorflow/tsl/cuda/cudart_stub.cc:28] Could not find cuda drivers on your machine, GPU will not be used.\n",
      "2023-05-04 19:36:11.264017: I tensorflow/tsl/cuda/cudart_stub.cc:28] Could not find cuda drivers on your machine, GPU will not be used.\n",
      "2023-05-04 19:36:11.264960: I tensorflow/core/platform/cpu_feature_guard.cc:182] This TensorFlow binary is optimized to use available CPU instructions in performance-critical operations.\n",
      "To enable the following instructions: AVX2 FMA, in other operations, rebuild TensorFlow with the appropriate compiler flags.\n",
      "2023-05-04 19:36:12.303632: W tensorflow/compiler/tf2tensorrt/utils/py_utils.cc:38] TF-TRT Warning: Could not find TensorRT\n"
     ]
    }
   ],
   "source": [
    "### Create the Stacked LSTM model\n",
    "from tensorflow.keras.models import Sequential\n",
    "from tensorflow.keras.layers import Dense\n",
    "from tensorflow.keras.layers import LSTM"
   ]
  },
  {
   "cell_type": "code",
   "execution_count": 27,
   "metadata": {},
   "outputs": [
    {
     "name": "stderr",
     "output_type": "stream",
     "text": [
      "2023-05-04 19:36:13.484045: I tensorflow/core/common_runtime/executor.cc:1197] [/device:CPU:0] (DEBUG INFO) Executor start aborting (this does not indicate an error and you can ignore this message): INVALID_ARGUMENT: You must feed a value for placeholder tensor 'gradients/split_2_grad/concat/split_2/split_dim' with dtype int32\n",
      "\t [[{{node gradients/split_2_grad/concat/split_2/split_dim}}]]\n",
      "2023-05-04 19:36:13.486386: I tensorflow/core/common_runtime/executor.cc:1197] [/device:CPU:0] (DEBUG INFO) Executor start aborting (this does not indicate an error and you can ignore this message): INVALID_ARGUMENT: You must feed a value for placeholder tensor 'gradients/split_grad/concat/split/split_dim' with dtype int32\n",
      "\t [[{{node gradients/split_grad/concat/split/split_dim}}]]\n",
      "2023-05-04 19:36:13.487914: I tensorflow/core/common_runtime/executor.cc:1197] [/device:CPU:0] (DEBUG INFO) Executor start aborting (this does not indicate an error and you can ignore this message): INVALID_ARGUMENT: You must feed a value for placeholder tensor 'gradients/split_1_grad/concat/split_1/split_dim' with dtype int32\n",
      "\t [[{{node gradients/split_1_grad/concat/split_1/split_dim}}]]\n"
     ]
    },
    {
     "name": "stdout",
     "output_type": "stream",
     "text": [
      "Epoch 1/10\n"
     ]
    },
    {
     "name": "stderr",
     "output_type": "stream",
     "text": [
      "2023-05-04 19:36:13.740526: I tensorflow/core/common_runtime/executor.cc:1197] [/device:CPU:0] (DEBUG INFO) Executor start aborting (this does not indicate an error and you can ignore this message): INVALID_ARGUMENT: You must feed a value for placeholder tensor 'gradients/split_2_grad/concat/split_2/split_dim' with dtype int32\n",
      "\t [[{{node gradients/split_2_grad/concat/split_2/split_dim}}]]\n",
      "2023-05-04 19:36:13.742799: I tensorflow/core/common_runtime/executor.cc:1197] [/device:CPU:0] (DEBUG INFO) Executor start aborting (this does not indicate an error and you can ignore this message): INVALID_ARGUMENT: You must feed a value for placeholder tensor 'gradients/split_grad/concat/split/split_dim' with dtype int32\n",
      "\t [[{{node gradients/split_grad/concat/split/split_dim}}]]\n",
      "2023-05-04 19:36:13.744255: I tensorflow/core/common_runtime/executor.cc:1197] [/device:CPU:0] (DEBUG INFO) Executor start aborting (this does not indicate an error and you can ignore this message): INVALID_ARGUMENT: You must feed a value for placeholder tensor 'gradients/split_1_grad/concat/split_1/split_dim' with dtype int32\n",
      "\t [[{{node gradients/split_1_grad/concat/split_1/split_dim}}]]\n",
      "2023-05-04 19:36:14.166957: I tensorflow/core/common_runtime/executor.cc:1197] [/device:CPU:0] (DEBUG INFO) Executor start aborting (this does not indicate an error and you can ignore this message): INVALID_ARGUMENT: You must feed a value for placeholder tensor 'gradients/split_2_grad/concat/split_2/split_dim' with dtype int32\n",
      "\t [[{{node gradients/split_2_grad/concat/split_2/split_dim}}]]\n",
      "2023-05-04 19:36:14.169241: I tensorflow/core/common_runtime/executor.cc:1197] [/device:CPU:0] (DEBUG INFO) Executor start aborting (this does not indicate an error and you can ignore this message): INVALID_ARGUMENT: You must feed a value for placeholder tensor 'gradients/split_grad/concat/split/split_dim' with dtype int32\n",
      "\t [[{{node gradients/split_grad/concat/split/split_dim}}]]\n",
      "2023-05-04 19:36:14.170948: I tensorflow/core/common_runtime/executor.cc:1197] [/device:CPU:0] (DEBUG INFO) Executor start aborting (this does not indicate an error and you can ignore this message): INVALID_ARGUMENT: You must feed a value for placeholder tensor 'gradients/split_1_grad/concat/split_1/split_dim' with dtype int32\n",
      "\t [[{{node gradients/split_1_grad/concat/split_1/split_dim}}]]\n",
      "2023-05-04 19:36:14.412466: I tensorflow/core/common_runtime/executor.cc:1197] [/device:CPU:0] (DEBUG INFO) Executor start aborting (this does not indicate an error and you can ignore this message): INVALID_ARGUMENT: You must feed a value for placeholder tensor 'gradients/split_2_grad/concat/split_2/split_dim' with dtype int32\n",
      "\t [[{{node gradients/split_2_grad/concat/split_2/split_dim}}]]\n",
      "2023-05-04 19:36:14.414625: I tensorflow/core/common_runtime/executor.cc:1197] [/device:CPU:0] (DEBUG INFO) Executor start aborting (this does not indicate an error and you can ignore this message): INVALID_ARGUMENT: You must feed a value for placeholder tensor 'gradients/split_grad/concat/split/split_dim' with dtype int32\n",
      "\t [[{{node gradients/split_grad/concat/split/split_dim}}]]\n",
      "2023-05-04 19:36:14.416459: I tensorflow/core/common_runtime/executor.cc:1197] [/device:CPU:0] (DEBUG INFO) Executor start aborting (this does not indicate an error and you can ignore this message): INVALID_ARGUMENT: You must feed a value for placeholder tensor 'gradients/split_1_grad/concat/split_1/split_dim' with dtype int32\n",
      "\t [[{{node gradients/split_1_grad/concat/split_1/split_dim}}]]\n",
      "2023-05-04 19:36:15.354162: I tensorflow/core/common_runtime/executor.cc:1197] [/device:CPU:0] (DEBUG INFO) Executor start aborting (this does not indicate an error and you can ignore this message): INVALID_ARGUMENT: You must feed a value for placeholder tensor 'gradients/split_2_grad/concat/split_2/split_dim' with dtype int32\n",
      "\t [[{{node gradients/split_2_grad/concat/split_2/split_dim}}]]\n",
      "2023-05-04 19:36:15.356456: I tensorflow/core/common_runtime/executor.cc:1197] [/device:CPU:0] (DEBUG INFO) Executor start aborting (this does not indicate an error and you can ignore this message): INVALID_ARGUMENT: You must feed a value for placeholder tensor 'gradients/split_grad/concat/split/split_dim' with dtype int32\n",
      "\t [[{{node gradients/split_grad/concat/split/split_dim}}]]\n",
      "2023-05-04 19:36:15.358255: I tensorflow/core/common_runtime/executor.cc:1197] [/device:CPU:0] (DEBUG INFO) Executor start aborting (this does not indicate an error and you can ignore this message): INVALID_ARGUMENT: You must feed a value for placeholder tensor 'gradients/split_1_grad/concat/split_1/split_dim' with dtype int32\n",
      "\t [[{{node gradients/split_1_grad/concat/split_1/split_dim}}]]\n",
      "2023-05-04 19:36:15.600750: I tensorflow/core/common_runtime/executor.cc:1197] [/device:CPU:0] (DEBUG INFO) Executor start aborting (this does not indicate an error and you can ignore this message): INVALID_ARGUMENT: You must feed a value for placeholder tensor 'gradients/split_2_grad/concat/split_2/split_dim' with dtype int32\n",
      "\t [[{{node gradients/split_2_grad/concat/split_2/split_dim}}]]\n",
      "2023-05-04 19:36:15.602901: I tensorflow/core/common_runtime/executor.cc:1197] [/device:CPU:0] (DEBUG INFO) Executor start aborting (this does not indicate an error and you can ignore this message): INVALID_ARGUMENT: You must feed a value for placeholder tensor 'gradients/split_grad/concat/split/split_dim' with dtype int32\n",
      "\t [[{{node gradients/split_grad/concat/split/split_dim}}]]\n",
      "2023-05-04 19:36:15.604584: I tensorflow/core/common_runtime/executor.cc:1197] [/device:CPU:0] (DEBUG INFO) Executor start aborting (this does not indicate an error and you can ignore this message): INVALID_ARGUMENT: You must feed a value for placeholder tensor 'gradients/split_1_grad/concat/split_1/split_dim' with dtype int32\n",
      "\t [[{{node gradients/split_1_grad/concat/split_1/split_dim}}]]\n"
     ]
    },
    {
     "name": "stdout",
     "output_type": "stream",
     "text": [
      "2225/2225 [==============================] - ETA: 0s - loss: 1.3451e-04"
     ]
    },
    {
     "name": "stderr",
     "output_type": "stream",
     "text": [
      "2023-05-04 19:38:03.295421: I tensorflow/core/common_runtime/executor.cc:1197] [/device:CPU:0] (DEBUG INFO) Executor start aborting (this does not indicate an error and you can ignore this message): INVALID_ARGUMENT: You must feed a value for placeholder tensor 'gradients/split_2_grad/concat/split_2/split_dim' with dtype int32\n",
      "\t [[{{node gradients/split_2_grad/concat/split_2/split_dim}}]]\n",
      "2023-05-04 19:38:03.297827: I tensorflow/core/common_runtime/executor.cc:1197] [/device:CPU:0] (DEBUG INFO) Executor start aborting (this does not indicate an error and you can ignore this message): INVALID_ARGUMENT: You must feed a value for placeholder tensor 'gradients/split_grad/concat/split/split_dim' with dtype int32\n",
      "\t [[{{node gradients/split_grad/concat/split/split_dim}}]]\n",
      "2023-05-04 19:38:03.299259: I tensorflow/core/common_runtime/executor.cc:1197] [/device:CPU:0] (DEBUG INFO) Executor start aborting (this does not indicate an error and you can ignore this message): INVALID_ARGUMENT: You must feed a value for placeholder tensor 'gradients/split_1_grad/concat/split_1/split_dim' with dtype int32\n",
      "\t [[{{node gradients/split_1_grad/concat/split_1/split_dim}}]]\n",
      "2023-05-04 19:38:03.538069: I tensorflow/core/common_runtime/executor.cc:1197] [/device:CPU:0] (DEBUG INFO) Executor start aborting (this does not indicate an error and you can ignore this message): INVALID_ARGUMENT: You must feed a value for placeholder tensor 'gradients/split_2_grad/concat/split_2/split_dim' with dtype int32\n",
      "\t [[{{node gradients/split_2_grad/concat/split_2/split_dim}}]]\n",
      "2023-05-04 19:38:03.540184: I tensorflow/core/common_runtime/executor.cc:1197] [/device:CPU:0] (DEBUG INFO) Executor start aborting (this does not indicate an error and you can ignore this message): INVALID_ARGUMENT: You must feed a value for placeholder tensor 'gradients/split_grad/concat/split/split_dim' with dtype int32\n",
      "\t [[{{node gradients/split_grad/concat/split/split_dim}}]]\n",
      "2023-05-04 19:38:03.541585: I tensorflow/core/common_runtime/executor.cc:1197] [/device:CPU:0] (DEBUG INFO) Executor start aborting (this does not indicate an error and you can ignore this message): INVALID_ARGUMENT: You must feed a value for placeholder tensor 'gradients/split_1_grad/concat/split_1/split_dim' with dtype int32\n",
      "\t [[{{node gradients/split_1_grad/concat/split_1/split_dim}}]]\n"
     ]
    },
    {
     "name": "stdout",
     "output_type": "stream",
     "text": [
      "2225/2225 [==============================] - 124s 54ms/step - loss: 1.3451e-04 - val_loss: 0.0050\n",
      "Epoch 2/10\n",
      "2225/2225 [==============================] - 116s 52ms/step - loss: 5.2459e-05 - val_loss: 0.0082\n",
      "Epoch 3/10\n",
      "2225/2225 [==============================] - 117s 53ms/step - loss: 4.0216e-05 - val_loss: 0.0035\n",
      "Epoch 4/10\n",
      "2225/2225 [==============================] - 117s 53ms/step - loss: 4.2412e-05 - val_loss: 0.0019\n",
      "Epoch 5/10\n",
      "2225/2225 [==============================] - 116s 52ms/step - loss: 3.2436e-05 - val_loss: 8.0342e-04\n",
      "Epoch 6/10\n",
      "2225/2225 [==============================] - 116s 52ms/step - loss: 2.5584e-05 - val_loss: 3.9988e-04\n",
      "Epoch 7/10\n",
      "2225/2225 [==============================] - 116s 52ms/step - loss: 2.8621e-05 - val_loss: 0.0029\n",
      "Epoch 8/10\n",
      "2225/2225 [==============================] - 116s 52ms/step - loss: 2.3705e-05 - val_loss: 0.0054\n",
      "Epoch 9/10\n",
      "2225/2225 [==============================] - 117s 53ms/step - loss: 2.4246e-05 - val_loss: 0.0059\n",
      "Epoch 10/10\n",
      "2225/2225 [==============================] - 119s 53ms/step - loss: 2.2388e-05 - val_loss: 0.0037\n"
     ]
    },
    {
     "data": {
      "text/plain": [
       "<keras.callbacks.History at 0x7fa2c31a30a0>"
      ]
     },
     "execution_count": 27,
     "metadata": {},
     "output_type": "execute_result"
    }
   ],
   "source": [
    "model=Sequential()\n",
    "model.add(LSTM(128,return_sequences=True,input_shape=(X_train.shape[1],1)))\n",
    "model.add(LSTM(64,return_sequences=False))\n",
    "model.add(Dense(25))\n",
    "model.add(Dense(1))\n",
    "#compilig\n",
    "model.compile(loss='mean_squared_error',optimizer='adam')\n",
    "\n",
    "#trai model\n",
    "model.fit(X_train,y_train,validation_data=(X_test,ytest),epochs=10,batch_size=1)"
   ]
  },
  {
   "cell_type": "code",
   "execution_count": 28,
   "metadata": {},
   "outputs": [
    {
     "name": "stdout",
     "output_type": "stream",
     "text": [
      "Model: \"sequential\"\n",
      "_________________________________________________________________\n",
      " Layer (type)                Output Shape              Param #   \n",
      "=================================================================\n",
      " lstm (LSTM)                 (None, 100, 128)          66560     \n",
      "                                                                 \n",
      " lstm_1 (LSTM)               (None, 64)                49408     \n",
      "                                                                 \n",
      " dense (Dense)               (None, 25)                1625      \n",
      "                                                                 \n",
      " dense_1 (Dense)             (None, 1)                 26        \n",
      "                                                                 \n",
      "=================================================================\n",
      "Total params: 117,619\n",
      "Trainable params: 117,619\n",
      "Non-trainable params: 0\n",
      "_________________________________________________________________\n"
     ]
    }
   ],
   "source": [
    "model.summary()"
   ]
  },
  {
   "cell_type": "code",
   "execution_count": 29,
   "metadata": {},
   "outputs": [],
   "source": [
    "import tensorflow as tf"
   ]
  },
  {
   "cell_type": "code",
   "execution_count": 30,
   "metadata": {},
   "outputs": [
    {
     "data": {
      "text/plain": [
       "'2.12.0'"
      ]
     },
     "execution_count": 30,
     "metadata": {},
     "output_type": "execute_result"
    }
   ],
   "source": [
    "tf.__version__"
   ]
  },
  {
   "cell_type": "code",
   "execution_count": 31,
   "metadata": {},
   "outputs": [
    {
     "name": "stderr",
     "output_type": "stream",
     "text": [
      "2023-05-04 19:55:48.546446: I tensorflow/core/common_runtime/executor.cc:1197] [/device:CPU:0] (DEBUG INFO) Executor start aborting (this does not indicate an error and you can ignore this message): INVALID_ARGUMENT: You must feed a value for placeholder tensor 'gradients/split_2_grad/concat/split_2/split_dim' with dtype int32\n",
      "\t [[{{node gradients/split_2_grad/concat/split_2/split_dim}}]]\n",
      "2023-05-04 19:55:48.548839: I tensorflow/core/common_runtime/executor.cc:1197] [/device:CPU:0] (DEBUG INFO) Executor start aborting (this does not indicate an error and you can ignore this message): INVALID_ARGUMENT: You must feed a value for placeholder tensor 'gradients/split_grad/concat/split/split_dim' with dtype int32\n",
      "\t [[{{node gradients/split_grad/concat/split/split_dim}}]]\n",
      "2023-05-04 19:55:48.550515: I tensorflow/core/common_runtime/executor.cc:1197] [/device:CPU:0] (DEBUG INFO) Executor start aborting (this does not indicate an error and you can ignore this message): INVALID_ARGUMENT: You must feed a value for placeholder tensor 'gradients/split_1_grad/concat/split_1/split_dim' with dtype int32\n",
      "\t [[{{node gradients/split_1_grad/concat/split_1/split_dim}}]]\n",
      "2023-05-04 19:55:48.788588: I tensorflow/core/common_runtime/executor.cc:1197] [/device:CPU:0] (DEBUG INFO) Executor start aborting (this does not indicate an error and you can ignore this message): INVALID_ARGUMENT: You must feed a value for placeholder tensor 'gradients/split_2_grad/concat/split_2/split_dim' with dtype int32\n",
      "\t [[{{node gradients/split_2_grad/concat/split_2/split_dim}}]]\n",
      "2023-05-04 19:55:48.790722: I tensorflow/core/common_runtime/executor.cc:1197] [/device:CPU:0] (DEBUG INFO) Executor start aborting (this does not indicate an error and you can ignore this message): INVALID_ARGUMENT: You must feed a value for placeholder tensor 'gradients/split_grad/concat/split/split_dim' with dtype int32\n",
      "\t [[{{node gradients/split_grad/concat/split/split_dim}}]]\n",
      "2023-05-04 19:55:48.792396: I tensorflow/core/common_runtime/executor.cc:1197] [/device:CPU:0] (DEBUG INFO) Executor start aborting (this does not indicate an error and you can ignore this message): INVALID_ARGUMENT: You must feed a value for placeholder tensor 'gradients/split_1_grad/concat/split_1/split_dim' with dtype int32\n",
      "\t [[{{node gradients/split_1_grad/concat/split_1/split_dim}}]]\n"
     ]
    },
    {
     "name": "stdout",
     "output_type": "stream",
     "text": [
      "28/28 [==============================] - 3s 61ms/step\n"
     ]
    },
    {
     "name": "stderr",
     "output_type": "stream",
     "text": [
      "2023-05-04 19:55:51.089402: I tensorflow/core/common_runtime/executor.cc:1197] [/device:CPU:0] (DEBUG INFO) Executor start aborting (this does not indicate an error and you can ignore this message): INVALID_ARGUMENT: You must feed a value for placeholder tensor 'gradients/split_2_grad/concat/split_2/split_dim' with dtype int32\n",
      "\t [[{{node gradients/split_2_grad/concat/split_2/split_dim}}]]\n",
      "2023-05-04 19:55:51.091312: I tensorflow/core/common_runtime/executor.cc:1197] [/device:CPU:0] (DEBUG INFO) Executor start aborting (this does not indicate an error and you can ignore this message): INVALID_ARGUMENT: You must feed a value for placeholder tensor 'gradients/split_grad/concat/split/split_dim' with dtype int32\n",
      "\t [[{{node gradients/split_grad/concat/split/split_dim}}]]\n",
      "2023-05-04 19:55:51.093026: I tensorflow/core/common_runtime/executor.cc:1197] [/device:CPU:0] (DEBUG INFO) Executor start aborting (this does not indicate an error and you can ignore this message): INVALID_ARGUMENT: You must feed a value for placeholder tensor 'gradients/split_1_grad/concat/split_1/split_dim' with dtype int32\n",
      "\t [[{{node gradients/split_1_grad/concat/split_1/split_dim}}]]\n",
      "2023-05-04 19:55:51.329781: I tensorflow/core/common_runtime/executor.cc:1197] [/device:CPU:0] (DEBUG INFO) Executor start aborting (this does not indicate an error and you can ignore this message): INVALID_ARGUMENT: You must feed a value for placeholder tensor 'gradients/split_2_grad/concat/split_2/split_dim' with dtype int32\n",
      "\t [[{{node gradients/split_2_grad/concat/split_2/split_dim}}]]\n",
      "2023-05-04 19:55:51.332066: I tensorflow/core/common_runtime/executor.cc:1197] [/device:CPU:0] (DEBUG INFO) Executor start aborting (this does not indicate an error and you can ignore this message): INVALID_ARGUMENT: You must feed a value for placeholder tensor 'gradients/split_grad/concat/split/split_dim' with dtype int32\n",
      "\t [[{{node gradients/split_grad/concat/split/split_dim}}]]\n",
      "2023-05-04 19:55:51.333654: I tensorflow/core/common_runtime/executor.cc:1197] [/device:CPU:0] (DEBUG INFO) Executor start aborting (this does not indicate an error and you can ignore this message): INVALID_ARGUMENT: You must feed a value for placeholder tensor 'gradients/split_1_grad/concat/split_1/split_dim' with dtype int32\n",
      "\t [[{{node gradients/split_1_grad/concat/split_1/split_dim}}]]\n"
     ]
    },
    {
     "name": "stdout",
     "output_type": "stream",
     "text": [
      "70/70 [==============================] - 5s 63ms/step\n"
     ]
    }
   ],
   "source": [
    "### Lets Do the prediction and check performance metrics\n",
    "test_predict=model.predict(X_test)\n",
    "train_predict=model.predict(X_train)"
   ]
  },
  {
   "cell_type": "code",
   "execution_count": 32,
   "metadata": {},
   "outputs": [],
   "source": [
    "##Transformback to original form\n",
    "train_predict=scaler.inverse_transform(train_predict)\n",
    "test_predict=scaler.inverse_transform(test_predict)\n",
    "\n",
    "original_ytrain = scaler.inverse_transform(y_train.reshape(-1,1)) \n",
    "original_ytest = scaler.inverse_transform(ytest.reshape(-1,1))"
   ]
  },
  {
   "cell_type": "code",
   "execution_count": 33,
   "metadata": {},
   "outputs": [
    {
     "data": {
      "text/plain": [
       "896"
      ]
     },
     "execution_count": 33,
     "metadata": {},
     "output_type": "execute_result"
    }
   ],
   "source": [
    "len(test_predict)"
   ]
  },
  {
   "cell_type": "code",
   "execution_count": 34,
   "metadata": {},
   "outputs": [
    {
     "name": "stdout",
     "output_type": "stream",
     "text": [
      "Train data RMSE:  0.4676484462572203\n",
      "Train data MSE:  0.21869506928679228\n",
      "Test data MAE:  0.30817109440149887\n",
      "-------------------------------------------------------------------------------------\n",
      "Test data RMSE:  10.682761687005751\n",
      "Test data MSE:  114.12139726135796\n",
      "Test data MAE:  8.642772091286522\n"
     ]
    }
   ],
   "source": [
    "import math\n",
    "from sklearn.metrics import mean_squared_error\n",
    "from sklearn.metrics import mean_absolute_error\n",
    "# Evaluation metrices RMSE and MAE\n",
    "print(\"Train data RMSE: \", math.sqrt(mean_squared_error(original_ytrain,train_predict)))\n",
    "print(\"Train data MSE: \", mean_squared_error(original_ytrain,train_predict))\n",
    "print(\"Test data MAE: \", mean_absolute_error(original_ytrain,train_predict))\n",
    "print(\"-------------------------------------------------------------------------------------\")\n",
    "print(\"Test data RMSE: \", math.sqrt(mean_squared_error(original_ytest,test_predict)))\n",
    "print(\"Test data MSE: \", mean_squared_error(original_ytest,test_predict))\n",
    "print(\"Test data MAE: \", mean_absolute_error(original_ytest,test_predict))"
   ]
  },
  {
   "cell_type": "code",
   "execution_count": 35,
   "metadata": {},
   "outputs": [
    {
     "name": "stdout",
     "output_type": "stream",
     "text": [
      "Train data explained variance regression score: 0.9983650509233317\n",
      "Test data explained variance regression score: 0.9653223355646011\n"
     ]
    }
   ],
   "source": [
    "from sklearn.metrics import explained_variance_score\n",
    "print(\"Train data explained variance regression score:\", explained_variance_score(original_ytrain, train_predict))\n",
    "\n",
    "print(\"Test data explained variance regression score:\", explained_variance_score(original_ytest, test_predict))"
   ]
  },
  {
   "cell_type": "code",
   "execution_count": 36,
   "metadata": {},
   "outputs": [
    {
     "name": "stderr",
     "output_type": "stream",
     "text": [
      "/tmp/ipykernel_31099/1287230660.py:4: SettingWithCopyWarning: \n",
      "A value is trying to be set on a copy of a slice from a DataFrame.\n",
      "Try using .loc[row_indexer,col_indexer] = value instead\n",
      "\n",
      "See the caveats in the documentation: https://pandas.pydata.org/pandas-docs/stable/user_guide/indexing.html#returning-a-view-versus-a-copy\n",
      "  valid['Prediction']= test_predict\n"
     ]
    },
    {
     "data": {
      "image/png": "[encoded data removed]",
      "text/plain": [
       "<Figure size 1600x600 with 1 Axes>"
      ]
     },
     "metadata": {},
     "output_type": "display_data"
    }
   ],
   "source": [
    "train= data[:training_size]\n",
    "valid= data[training_size+100+1:len(data)-30]\n",
    "\n",
    "valid['Prediction']= test_predict\n",
    "\n",
    "#visualize\n",
    "\n",
    "plt.figure(figsize=(16,6))\n",
    "plt.title('Model')\n",
    "plt.xlabel('Date', fontsize=18)\n",
    "plt.ylabel('Close Price USD ($)', fontsize=18)\n",
    "#plt.plot(train['Close'])\n",
    "plt.plot(valid[['Close', 'Prediction']])\n",
    "plt.legend([ 'Val', 'Prediction'], loc='lower right')\n",
    "plt.show()"
   ]
  },
  {
   "cell_type": "code",
   "execution_count": 37,
   "metadata": {},
   "outputs": [
    {
     "data": {
      "text/html": [
       "<div>\n",
       "<style scoped>\n",
       "    .dataframe tbody tr th:only-of-type {\n",
       "        vertical-align: middle;\n",
       "    }\n",
       "\n",
       "    .dataframe tbody tr th {\n",
       "        vertical-align: top;\n",
       "    }\n",
       "\n",
       "    .dataframe thead th {\n",
       "        text-align: right;\n",
       "    }\n",
       "</style>\n",
       "<table border=\"1\" class=\"dataframe\">\n",
       "  <thead>\n",
       "    <tr style=\"text-align: right;\">\n",
       "      <th></th>\n",
       "      <th>Prediction</th>\n",
       "      <th>Close</th>\n",
       "    </tr>\n",
       "    <tr>\n",
       "      <th>Date</th>\n",
       "      <th></th>\n",
       "      <th></th>\n",
       "    </tr>\n",
       "  </thead>\n",
       "  <tbody>\n",
       "    <tr>\n",
       "      <th>2019-08-26</th>\n",
       "      <td>53.107578</td>\n",
       "      <td>51.622501</td>\n",
       "    </tr>\n",
       "    <tr>\n",
       "      <th>2019-08-27</th>\n",
       "      <td>50.976112</td>\n",
       "      <td>51.040001</td>\n",
       "    </tr>\n",
       "    <tr>\n",
       "      <th>2019-08-28</th>\n",
       "      <td>51.759312</td>\n",
       "      <td>51.382500</td>\n",
       "    </tr>\n",
       "    <tr>\n",
       "      <th>2019-08-29</th>\n",
       "      <td>51.202736</td>\n",
       "      <td>52.252499</td>\n",
       "    </tr>\n",
       "    <tr>\n",
       "      <th>2019-08-30</th>\n",
       "      <td>51.488670</td>\n",
       "      <td>52.185001</td>\n",
       "    </tr>\n",
       "    <tr>\n",
       "      <th>...</th>\n",
       "      <td>...</td>\n",
       "      <td>...</td>\n",
       "    </tr>\n",
       "    <tr>\n",
       "      <th>2023-03-10</th>\n",
       "      <td>139.631348</td>\n",
       "      <td>148.500000</td>\n",
       "    </tr>\n",
       "    <tr>\n",
       "      <th>2023-03-13</th>\n",
       "      <td>137.839722</td>\n",
       "      <td>150.470001</td>\n",
       "    </tr>\n",
       "    <tr>\n",
       "      <th>2023-03-14</th>\n",
       "      <td>136.327866</td>\n",
       "      <td>152.589996</td>\n",
       "    </tr>\n",
       "    <tr>\n",
       "      <th>2023-03-15</th>\n",
       "      <td>137.793137</td>\n",
       "      <td>152.990005</td>\n",
       "    </tr>\n",
       "    <tr>\n",
       "      <th>2023-03-16</th>\n",
       "      <td>139.255829</td>\n",
       "      <td>155.850006</td>\n",
       "    </tr>\n",
       "  </tbody>\n",
       "</table>\n",
       "<p>896 rows × 2 columns</p>\n",
       "</div>"
      ],
      "text/plain": [
       "            Prediction       Close\n",
       "Date                              \n",
       "2019-08-26   53.107578   51.622501\n",
       "2019-08-27   50.976112   51.040001\n",
       "2019-08-28   51.759312   51.382500\n",
       "2019-08-29   51.202736   52.252499\n",
       "2019-08-30   51.488670   52.185001\n",
       "...                ...         ...\n",
       "2023-03-10  139.631348  148.500000\n",
       "2023-03-13  137.839722  150.470001\n",
       "2023-03-14  136.327866  152.589996\n",
       "2023-03-15  137.793137  152.990005\n",
       "2023-03-16  139.255829  155.850006\n",
       "\n",
       "[896 rows x 2 columns]"
      ]
     },
     "execution_count": 37,
     "metadata": {},
     "output_type": "execute_result"
    }
   ],
   "source": [
    "valid[['Prediction','Close']]"
   ]
  },
  {
   "cell_type": "code",
   "execution_count": 38,
   "metadata": {},
   "outputs": [
    {
     "data": {
      "text/plain": [
       "\"\\n### Plotting \\n# shift train predictions for plotting\\nlook_back=100\\ntrainPredictPlot = numpy.empty_like(df1)\\ntrainPredictPlot[:, :] = np.nan\\ntrainPredictPlot[look_back:len(train_predict)+look_back, :] = train_predict\\n# shift test predictions for plotting\\ntestPredictPlot = numpy.empty_like(df1)\\ntestPredictPlot[:, :] = numpy.nan\\ntestPredictPlot[len(train_predict)+(look_back*2)+1:len(df1)-1, :] = test_predict\\n#testPredictPlot['Close']= data['Close']\\n# plot baseline and predictions\\nplt.figure(figsize=(12,6))\\nplt.plot(scaler.inverse_transform(df1),'r',label='original')\\nplt.plot(trainPredictPlot,'b',label='train data')\\nplt.plot(testPredictPlot,'g',label= 'test data')\\n\\nplt.legend()\\nplt.show() \""
      ]
     },
     "execution_count": 38,
     "metadata": {},
     "output_type": "execute_result"
    }
   ],
   "source": [
    "\"\"\"\n",
    "### Plotting \n",
    "# shift train predictions for plotting\n",
    "look_back=100\n",
    "trainPredictPlot = numpy.empty_like(df1)\n",
    "trainPredictPlot[:, :] = np.nan\n",
    "trainPredictPlot[look_back:len(train_predict)+look_back, :] = train_predict\n",
    "# shift test predictions for plotting\n",
    "testPredictPlot = numpy.empty_like(df1)\n",
    "testPredictPlot[:, :] = numpy.nan\n",
    "testPredictPlot[len(train_predict)+(look_back*2)+1:len(df1)-1, :] = test_predict\n",
    "#testPredictPlot['Close']= data['Close']\n",
    "# plot baseline and predictions\n",
    "plt.figure(figsize=(12,6))\n",
    "plt.plot(scaler.inverse_transform(df1),'r',label='original')\n",
    "plt.plot(trainPredictPlot,'b',label='train data')\n",
    "plt.plot(testPredictPlot,'g',label= 'test data')\n",
    "\n",
    "plt.legend()\n",
    "plt.show() \"\"\""
   ]
  },
  {
   "cell_type": "code",
   "execution_count": null,
   "metadata": {},
   "outputs": [],
   "source": []
  },
  {
   "cell_type": "code",
   "execution_count": 39,
   "metadata": {},
   "outputs": [],
   "source": [
    "model.save('my_model.h5') "
   ]
  },
  {
   "cell_type": "code",
   "execution_count": 40,
   "metadata": {},
   "outputs": [
    {
     "data": {
      "text/plain": [
       "997"
      ]
     },
     "execution_count": 40,
     "metadata": {},
     "output_type": "execute_result"
    }
   ],
   "source": [
    "len(test_data)"
   ]
  },
  {
   "cell_type": "code",
   "execution_count": 41,
   "metadata": {},
   "outputs": [
    {
     "data": {
      "text/plain": [
       "(1, 100)"
      ]
     },
     "execution_count": 41,
     "metadata": {},
     "output_type": "execute_result"
    }
   ],
   "source": [
    "x_input=test_data[len(test_data)-100:].reshape(1,-1)\n",
    "x_input.shape\n"
   ]
  },
  {
   "cell_type": "code",
   "execution_count": 42,
   "metadata": {},
   "outputs": [
    {
     "data": {
      "text/plain": [
       "997"
      ]
     },
     "execution_count": 42,
     "metadata": {},
     "output_type": "execute_result"
    }
   ],
   "source": [
    "len(test_data)"
   ]
  },
  {
   "cell_type": "code",
   "execution_count": 43,
   "metadata": {},
   "outputs": [
    {
     "data": {
      "text/plain": [
       "array([[0.80165699, 0.81410334, 0.83060338, 0.81353246, 0.78755487,\n",
       "        0.85001525, 0.83631274, 0.82095455, 0.78886799, 0.75375548,\n",
       "        0.7509008 , 0.75398382, 0.75729526, 0.7308609 , 0.79937319,\n",
       "        0.81553068, 0.80742341, 0.81747184, 0.81033515, 0.82135425,\n",
       "        0.82460854, 0.80588185, 0.81827115, 0.82335256, 0.80645283,\n",
       "        0.78424343, 0.76682987, 0.80599607, 0.80759468, 0.80474   ,\n",
       "        0.798003  , 0.77676418, 0.76551674, 0.7752797 , 0.77248217,\n",
       "        0.78578498, 0.79138013, 0.77847701, 0.74016718, 0.72880553,\n",
       "        0.71658751, 0.7161879 , 0.73417234, 0.7157882 , 0.71367577,\n",
       "        0.70322764, 0.68044731, 0.70082972, 0.70265667, 0.67490923,\n",
       "        0.68227431, 0.67462374, 0.70088678, 0.70391273, 0.70722417,\n",
       "        0.72298205, 0.72252529, 0.73023287, 0.73696996, 0.73280215,\n",
       "        0.7331447 , 0.74798898, 0.76648732, 0.7745946 , 0.77076934,\n",
       "        0.78275903, 0.79400638, 0.77727801, 0.78464304, 0.7911517 ,\n",
       "        0.82192522, 0.84293561, 0.82712067, 0.84379198, 0.82820546,\n",
       "        0.82221062, 0.82300993, 0.83922457, 0.83551343, 0.84767439,\n",
       "        0.83842526, 0.83180239, 0.80856526, 0.81102033, 0.81381786,\n",
       "        0.79845976, 0.80536803, 0.80245629, 0.79046661, 0.79389226,\n",
       "        0.82312414, 0.83911036, 0.82637851, 0.83362933, 0.82061201,\n",
       "        0.80867947, 0.81992691, 0.83203072, 0.83431452, 0.85064328]])"
      ]
     },
     "execution_count": 43,
     "metadata": {},
     "output_type": "execute_result"
    }
   ],
   "source": [
    "x_input"
   ]
  },
  {
   "cell_type": "code",
   "execution_count": 44,
   "metadata": {},
   "outputs": [],
   "source": [
    "temp_input=list(x_input)\n",
    "temp_input=temp_input[0].tolist()"
   ]
  },
  {
   "cell_type": "code",
   "execution_count": 45,
   "metadata": {},
   "outputs": [
    {
     "data": {
      "text/plain": [
       "100"
      ]
     },
     "execution_count": 45,
     "metadata": {},
     "output_type": "execute_result"
    }
   ],
   "source": [
    "len(temp_input)"
   ]
  },
  {
   "cell_type": "code",
   "execution_count": 46,
   "metadata": {},
   "outputs": [
    {
     "name": "stdout",
     "output_type": "stream",
     "text": [
      "[0.7692511]\n",
      "101\n",
      "1 day input [0.81410334 0.83060338 0.81353246 0.78755487 0.85001525 0.83631274\n",
      " 0.82095455 0.78886799 0.75375548 0.7509008  0.75398382 0.75729526\n",
      " 0.7308609  0.79937319 0.81553068 0.80742341 0.81747184 0.81033515\n",
      " 0.82135425 0.82460854 0.80588185 0.81827115 0.82335256 0.80645283\n",
      " 0.78424343 0.76682987 0.80599607 0.80759468 0.80474    0.798003\n",
      " 0.77676418 0.76551674 0.7752797  0.77248217 0.78578498 0.79138013\n",
      " 0.77847701 0.74016718 0.72880553 0.71658751 0.7161879  0.73417234\n",
      " 0.7157882  0.71367577 0.70322764 0.68044731 0.70082972 0.70265667\n",
      " 0.67490923 0.68227431 0.67462374 0.70088678 0.70391273 0.70722417\n",
      " 0.72298205 0.72252529 0.73023287 0.73696996 0.73280215 0.7331447\n",
      " 0.74798898 0.76648732 0.7745946  0.77076934 0.78275903 0.79400638\n",
      " 0.77727801 0.78464304 0.7911517  0.82192522 0.84293561 0.82712067\n",
      " 0.84379198 0.82820546 0.82221062 0.82300993 0.83922457 0.83551343\n",
      " 0.84767439 0.83842526 0.83180239 0.80856526 0.81102033 0.81381786\n",
      " 0.79845976 0.80536803 0.80245629 0.79046661 0.79389226 0.82312414\n",
      " 0.83911036 0.82637851 0.83362933 0.82061201 0.80867947 0.81992691\n",
      " 0.83203072 0.83431452 0.85064328 0.76925111]\n",
      "1 day output [[0.707273]]\n",
      "2 day input [0.83060338 0.81353246 0.78755487 0.85001525 0.83631274 0.82095455\n",
      " 0.78886799 0.75375548 0.7509008  0.75398382 0.75729526 0.7308609\n",
      " 0.79937319 0.81553068 0.80742341 0.81747184 0.81033515 0.82135425\n",
      " 0.82460854 0.80588185 0.81827115 0.82335256 0.80645283 0.78424343\n",
      " 0.76682987 0.80599607 0.80759468 0.80474    0.798003   0.77676418\n",
      " 0.76551674 0.7752797  0.77248217 0.78578498 0.79138013 0.77847701\n",
      " 0.74016718 0.72880553 0.71658751 0.7161879  0.73417234 0.7157882\n",
      " 0.71367577 0.70322764 0.68044731 0.70082972 0.70265667 0.67490923\n",
      " 0.68227431 0.67462374 0.70088678 0.70391273 0.70722417 0.72298205\n",
      " 0.72252529 0.73023287 0.73696996 0.73280215 0.7331447  0.74798898\n",
      " 0.76648732 0.7745946  0.77076934 0.78275903 0.79400638 0.77727801\n",
      " 0.78464304 0.7911517  0.82192522 0.84293561 0.82712067 0.84379198\n",
      " 0.82820546 0.82221062 0.82300993 0.83922457 0.83551343 0.84767439\n",
      " 0.83842526 0.83180239 0.80856526 0.81102033 0.81381786 0.79845976\n",
      " 0.80536803 0.80245629 0.79046661 0.79389226 0.82312414 0.83911036\n",
      " 0.82637851 0.83362933 0.82061201 0.80867947 0.81992691 0.83203072\n",
      " 0.83431452 0.85064328 0.76925111 0.70727301]\n",
      "2 day output [[0.6624207]]\n",
      "3 day input [0.81353246 0.78755487 0.85001525 0.83631274 0.82095455 0.78886799\n",
      " 0.75375548 0.7509008  0.75398382 0.75729526 0.7308609  0.79937319\n",
      " 0.81553068 0.80742341 0.81747184 0.81033515 0.82135425 0.82460854\n",
      " 0.80588185 0.81827115 0.82335256 0.80645283 0.78424343 0.76682987\n",
      " 0.80599607 0.80759468 0.80474    0.798003   0.77676418 0.76551674\n",
      " 0.7752797  0.77248217 0.78578498 0.79138013 0.77847701 0.74016718\n",
      " 0.72880553 0.71658751 0.7161879  0.73417234 0.7157882  0.71367577\n",
      " 0.70322764 0.68044731 0.70082972 0.70265667 0.67490923 0.68227431\n",
      " 0.67462374 0.70088678 0.70391273 0.70722417 0.72298205 0.72252529\n",
      " 0.73023287 0.73696996 0.73280215 0.7331447  0.74798898 0.76648732\n",
      " 0.7745946  0.77076934 0.78275903 0.79400638 0.77727801 0.78464304\n",
      " 0.7911517  0.82192522 0.84293561 0.82712067 0.84379198 0.82820546\n",
      " 0.82221062 0.82300993 0.83922457 0.83551343 0.84767439 0.83842526\n",
      " 0.83180239 0.80856526 0.81102033 0.81381786 0.79845976 0.80536803\n",
      " 0.80245629 0.79046661 0.79389226 0.82312414 0.83911036 0.82637851\n",
      " 0.83362933 0.82061201 0.80867947 0.81992691 0.83203072 0.83431452\n",
      " 0.85064328 0.76925111 0.70727301 0.66242069]\n",
      "3 day output [[0.6277115]]\n",
      "4 day input [0.78755487 0.85001525 0.83631274 0.82095455 0.78886799 0.75375548\n",
      " 0.7509008  0.75398382 0.75729526 0.7308609  0.79937319 0.81553068\n",
      " 0.80742341 0.81747184 0.81033515 0.82135425 0.82460854 0.80588185\n",
      " 0.81827115 0.82335256 0.80645283 0.78424343 0.76682987 0.80599607\n",
      " 0.80759468 0.80474    0.798003   0.77676418 0.76551674 0.7752797\n",
      " 0.77248217 0.78578498 0.79138013 0.77847701 0.74016718 0.72880553\n",
      " 0.71658751 0.7161879  0.73417234 0.7157882  0.71367577 0.70322764\n",
      " 0.68044731 0.70082972 0.70265667 0.67490923 0.68227431 0.67462374\n",
      " 0.70088678 0.70391273 0.70722417 0.72298205 0.72252529 0.73023287\n",
      " 0.73696996 0.73280215 0.7331447  0.74798898 0.76648732 0.7745946\n",
      " 0.77076934 0.78275903 0.79400638 0.77727801 0.78464304 0.7911517\n",
      " 0.82192522 0.84293561 0.82712067 0.84379198 0.82820546 0.82221062\n",
      " 0.82300993 0.83922457 0.83551343 0.84767439 0.83842526 0.83180239\n",
      " 0.80856526 0.81102033 0.81381786 0.79845976 0.80536803 0.80245629\n",
      " 0.79046661 0.79389226 0.82312414 0.83911036 0.82637851 0.83362933\n",
      " 0.82061201 0.80867947 0.81992691 0.83203072 0.83431452 0.85064328\n",
      " 0.76925111 0.70727301 0.66242069 0.62771147]\n",
      "4 day output [[0.6001319]]\n",
      "5 day input [0.85001525 0.83631274 0.82095455 0.78886799 0.75375548 0.7509008\n",
      " 0.75398382 0.75729526 0.7308609  0.79937319 0.81553068 0.80742341\n",
      " 0.81747184 0.81033515 0.82135425 0.82460854 0.80588185 0.81827115\n",
      " 0.82335256 0.80645283 0.78424343 0.76682987 0.80599607 0.80759468\n",
      " 0.80474    0.798003   0.77676418 0.76551674 0.7752797  0.77248217\n",
      " 0.78578498 0.79138013 0.77847701 0.74016718 0.72880553 0.71658751\n",
      " 0.7161879  0.73417234 0.7157882  0.71367577 0.70322764 0.68044731\n",
      " 0.70082972 0.70265667 0.67490923 0.68227431 0.67462374 0.70088678\n",
      " 0.70391273 0.70722417 0.72298205 0.72252529 0.73023287 0.73696996\n",
      " 0.73280215 0.7331447  0.74798898 0.76648732 0.7745946  0.77076934\n",
      " 0.78275903 0.79400638 0.77727801 0.78464304 0.7911517  0.82192522\n",
      " 0.84293561 0.82712067 0.84379198 0.82820546 0.82221062 0.82300993\n",
      " 0.83922457 0.83551343 0.84767439 0.83842526 0.83180239 0.80856526\n",
      " 0.81102033 0.81381786 0.79845976 0.80536803 0.80245629 0.79046661\n",
      " 0.79389226 0.82312414 0.83911036 0.82637851 0.83362933 0.82061201\n",
      " 0.80867947 0.81992691 0.83203072 0.83431452 0.85064328 0.76925111\n",
      " 0.70727301 0.66242069 0.62771147 0.60013193]\n",
      "5 day output [[0.5773586]]\n",
      "6 day input [0.83631274 0.82095455 0.78886799 0.75375548 0.7509008  0.75398382\n",
      " 0.75729526 0.7308609  0.79937319 0.81553068 0.80742341 0.81747184\n",
      " 0.81033515 0.82135425 0.82460854 0.80588185 0.81827115 0.82335256\n",
      " 0.80645283 0.78424343 0.76682987 0.80599607 0.80759468 0.80474\n",
      " 0.798003   0.77676418 0.76551674 0.7752797  0.77248217 0.78578498\n",
      " 0.79138013 0.77847701 0.74016718 0.72880553 0.71658751 0.7161879\n",
      " 0.73417234 0.7157882  0.71367577 0.70322764 0.68044731 0.70082972\n",
      " 0.70265667 0.67490923 0.68227431 0.67462374 0.70088678 0.70391273\n",
      " 0.70722417 0.72298205 0.72252529 0.73023287 0.73696996 0.73280215\n",
      " 0.7331447  0.74798898 0.76648732 0.7745946  0.77076934 0.78275903\n",
      " 0.79400638 0.77727801 0.78464304 0.7911517  0.82192522 0.84293561\n",
      " 0.82712067 0.84379198 0.82820546 0.82221062 0.82300993 0.83922457\n",
      " 0.83551343 0.84767439 0.83842526 0.83180239 0.80856526 0.81102033\n",
      " 0.81381786 0.79845976 0.80536803 0.80245629 0.79046661 0.79389226\n",
      " 0.82312414 0.83911036 0.82637851 0.83362933 0.82061201 0.80867947\n",
      " 0.81992691 0.83203072 0.83431452 0.85064328 0.76925111 0.70727301\n",
      " 0.66242069 0.62771147 0.60013193 0.5773586 ]\n",
      "6 day output [[0.5585138]]\n",
      "7 day input [0.82095455 0.78886799 0.75375548 0.7509008  0.75398382 0.75729526\n",
      " 0.7308609  0.79937319 0.81553068 0.80742341 0.81747184 0.81033515\n",
      " 0.82135425 0.82460854 0.80588185 0.81827115 0.82335256 0.80645283\n",
      " 0.78424343 0.76682987 0.80599607 0.80759468 0.80474    0.798003\n",
      " 0.77676418 0.76551674 0.7752797  0.77248217 0.78578498 0.79138013\n",
      " 0.77847701 0.74016718 0.72880553 0.71658751 0.7161879  0.73417234\n",
      " 0.7157882  0.71367577 0.70322764 0.68044731 0.70082972 0.70265667\n",
      " 0.67490923 0.68227431 0.67462374 0.70088678 0.70391273 0.70722417\n",
      " 0.72298205 0.72252529 0.73023287 0.73696996 0.73280215 0.7331447\n",
      " 0.74798898 0.76648732 0.7745946  0.77076934 0.78275903 0.79400638\n",
      " 0.77727801 0.78464304 0.7911517  0.82192522 0.84293561 0.82712067\n",
      " 0.84379198 0.82820546 0.82221062 0.82300993 0.83922457 0.83551343\n",
      " 0.84767439 0.83842526 0.83180239 0.80856526 0.81102033 0.81381786\n",
      " 0.79845976 0.80536803 0.80245629 0.79046661 0.79389226 0.82312414\n",
      " 0.83911036 0.82637851 0.83362933 0.82061201 0.80867947 0.81992691\n",
      " 0.83203072 0.83431452 0.85064328 0.76925111 0.70727301 0.66242069\n",
      " 0.62771147 0.60013193 0.5773586  0.55851382]\n",
      "7 day output [[0.54329383]]\n",
      "8 day input [0.78886799 0.75375548 0.7509008  0.75398382 0.75729526 0.7308609\n",
      " 0.79937319 0.81553068 0.80742341 0.81747184 0.81033515 0.82135425\n",
      " 0.82460854 0.80588185 0.81827115 0.82335256 0.80645283 0.78424343\n",
      " 0.76682987 0.80599607 0.80759468 0.80474    0.798003   0.77676418\n",
      " 0.76551674 0.7752797  0.77248217 0.78578498 0.79138013 0.77847701\n",
      " 0.74016718 0.72880553 0.71658751 0.7161879  0.73417234 0.7157882\n",
      " 0.71367577 0.70322764 0.68044731 0.70082972 0.70265667 0.67490923\n",
      " 0.68227431 0.67462374 0.70088678 0.70391273 0.70722417 0.72298205\n",
      " 0.72252529 0.73023287 0.73696996 0.73280215 0.7331447  0.74798898\n",
      " 0.76648732 0.7745946  0.77076934 0.78275903 0.79400638 0.77727801\n",
      " 0.78464304 0.7911517  0.82192522 0.84293561 0.82712067 0.84379198\n",
      " 0.82820546 0.82221062 0.82300993 0.83922457 0.83551343 0.84767439\n",
      " 0.83842526 0.83180239 0.80856526 0.81102033 0.81381786 0.79845976\n",
      " 0.80536803 0.80245629 0.79046661 0.79389226 0.82312414 0.83911036\n",
      " 0.82637851 0.83362933 0.82061201 0.80867947 0.81992691 0.83203072\n",
      " 0.83431452 0.85064328 0.76925111 0.70727301 0.66242069 0.62771147\n",
      " 0.60013193 0.5773586  0.55851382 0.54329383]\n",
      "8 day output [[0.53137666]]\n",
      "9 day input [0.75375548 0.7509008  0.75398382 0.75729526 0.7308609  0.79937319\n",
      " 0.81553068 0.80742341 0.81747184 0.81033515 0.82135425 0.82460854\n",
      " 0.80588185 0.81827115 0.82335256 0.80645283 0.78424343 0.76682987\n",
      " 0.80599607 0.80759468 0.80474    0.798003   0.77676418 0.76551674\n",
      " 0.7752797  0.77248217 0.78578498 0.79138013 0.77847701 0.74016718\n",
      " 0.72880553 0.71658751 0.7161879  0.73417234 0.7157882  0.71367577\n",
      " 0.70322764 0.68044731 0.70082972 0.70265667 0.67490923 0.68227431\n",
      " 0.67462374 0.70088678 0.70391273 0.70722417 0.72298205 0.72252529\n",
      " 0.73023287 0.73696996 0.73280215 0.7331447  0.74798898 0.76648732\n",
      " 0.7745946  0.77076934 0.78275903 0.79400638 0.77727801 0.78464304\n",
      " 0.7911517  0.82192522 0.84293561 0.82712067 0.84379198 0.82820546\n",
      " 0.82221062 0.82300993 0.83922457 0.83551343 0.84767439 0.83842526\n",
      " 0.83180239 0.80856526 0.81102033 0.81381786 0.79845976 0.80536803\n",
      " 0.80245629 0.79046661 0.79389226 0.82312414 0.83911036 0.82637851\n",
      " 0.83362933 0.82061201 0.80867947 0.81992691 0.83203072 0.83431452\n",
      " 0.85064328 0.76925111 0.70727301 0.66242069 0.62771147 0.60013193\n",
      " 0.5773586  0.55851382 0.54329383 0.53137666]\n",
      "9 day output [[0.5222401]]\n",
      "10 day input [0.7509008  0.75398382 0.75729526 0.7308609  0.79937319 0.81553068\n",
      " 0.80742341 0.81747184 0.81033515 0.82135425 0.82460854 0.80588185\n",
      " 0.81827115 0.82335256 0.80645283 0.78424343 0.76682987 0.80599607\n",
      " 0.80759468 0.80474    0.798003   0.77676418 0.76551674 0.7752797\n",
      " 0.77248217 0.78578498 0.79138013 0.77847701 0.74016718 0.72880553\n",
      " 0.71658751 0.7161879  0.73417234 0.7157882  0.71367577 0.70322764\n",
      " 0.68044731 0.70082972 0.70265667 0.67490923 0.68227431 0.67462374\n",
      " 0.70088678 0.70391273 0.70722417 0.72298205 0.72252529 0.73023287\n",
      " 0.73696996 0.73280215 0.7331447  0.74798898 0.76648732 0.7745946\n",
      " 0.77076934 0.78275903 0.79400638 0.77727801 0.78464304 0.7911517\n",
      " 0.82192522 0.84293561 0.82712067 0.84379198 0.82820546 0.82221062\n",
      " 0.82300993 0.83922457 0.83551343 0.84767439 0.83842526 0.83180239\n",
      " 0.80856526 0.81102033 0.81381786 0.79845976 0.80536803 0.80245629\n",
      " 0.79046661 0.79389226 0.82312414 0.83911036 0.82637851 0.83362933\n",
      " 0.82061201 0.80867947 0.81992691 0.83203072 0.83431452 0.85064328\n",
      " 0.76925111 0.70727301 0.66242069 0.62771147 0.60013193 0.5773586\n",
      " 0.55851382 0.54329383 0.53137666 0.5222401 ]\n",
      "10 day output [[0.5152222]]\n",
      "11 day input [0.75398382 0.75729526 0.7308609  0.79937319 0.81553068 0.80742341\n",
      " 0.81747184 0.81033515 0.82135425 0.82460854 0.80588185 0.81827115\n",
      " 0.82335256 0.80645283 0.78424343 0.76682987 0.80599607 0.80759468\n",
      " 0.80474    0.798003   0.77676418 0.76551674 0.7752797  0.77248217\n",
      " 0.78578498 0.79138013 0.77847701 0.74016718 0.72880553 0.71658751\n",
      " 0.7161879  0.73417234 0.7157882  0.71367577 0.70322764 0.68044731\n",
      " 0.70082972 0.70265667 0.67490923 0.68227431 0.67462374 0.70088678\n",
      " 0.70391273 0.70722417 0.72298205 0.72252529 0.73023287 0.73696996\n",
      " 0.73280215 0.7331447  0.74798898 0.76648732 0.7745946  0.77076934\n",
      " 0.78275903 0.79400638 0.77727801 0.78464304 0.7911517  0.82192522\n",
      " 0.84293561 0.82712067 0.84379198 0.82820546 0.82221062 0.82300993\n",
      " 0.83922457 0.83551343 0.84767439 0.83842526 0.83180239 0.80856526\n",
      " 0.81102033 0.81381786 0.79845976 0.80536803 0.80245629 0.79046661\n",
      " 0.79389226 0.82312414 0.83911036 0.82637851 0.83362933 0.82061201\n",
      " 0.80867947 0.81992691 0.83203072 0.83431452 0.85064328 0.76925111\n",
      " 0.70727301 0.66242069 0.62771147 0.60013193 0.5773586  0.55851382\n",
      " 0.54329383 0.53137666 0.5222401  0.51522219]\n",
      "11 day output [[0.50964713]]\n",
      "12 day input [0.75729526 0.7308609  0.79937319 0.81553068 0.80742341 0.81747184\n",
      " 0.81033515 0.82135425 0.82460854 0.80588185 0.81827115 0.82335256\n",
      " 0.80645283 0.78424343 0.76682987 0.80599607 0.80759468 0.80474\n",
      " 0.798003   0.77676418 0.76551674 0.7752797  0.77248217 0.78578498\n",
      " 0.79138013 0.77847701 0.74016718 0.72880553 0.71658751 0.7161879\n",
      " 0.73417234 0.7157882  0.71367577 0.70322764 0.68044731 0.70082972\n",
      " 0.70265667 0.67490923 0.68227431 0.67462374 0.70088678 0.70391273\n",
      " 0.70722417 0.72298205 0.72252529 0.73023287 0.73696996 0.73280215\n",
      " 0.7331447  0.74798898 0.76648732 0.7745946  0.77076934 0.78275903\n",
      " 0.79400638 0.77727801 0.78464304 0.7911517  0.82192522 0.84293561\n",
      " 0.82712067 0.84379198 0.82820546 0.82221062 0.82300993 0.83922457\n",
      " 0.83551343 0.84767439 0.83842526 0.83180239 0.80856526 0.81102033\n",
      " 0.81381786 0.79845976 0.80536803 0.80245629 0.79046661 0.79389226\n",
      " 0.82312414 0.83911036 0.82637851 0.83362933 0.82061201 0.80867947\n",
      " 0.81992691 0.83203072 0.83431452 0.85064328 0.76925111 0.70727301\n",
      " 0.66242069 0.62771147 0.60013193 0.5773586  0.55851382 0.54329383\n",
      " 0.53137666 0.5222401  0.51522219 0.50964713]\n",
      "12 day output [[0.50492615]]\n",
      "13 day input [0.7308609  0.79937319 0.81553068 0.80742341 0.81747184 0.81033515\n",
      " 0.82135425 0.82460854 0.80588185 0.81827115 0.82335256 0.80645283\n",
      " 0.78424343 0.76682987 0.80599607 0.80759468 0.80474    0.798003\n",
      " 0.77676418 0.76551674 0.7752797  0.77248217 0.78578498 0.79138013\n",
      " 0.77847701 0.74016718 0.72880553 0.71658751 0.7161879  0.73417234\n",
      " 0.7157882  0.71367577 0.70322764 0.68044731 0.70082972 0.70265667\n",
      " 0.67490923 0.68227431 0.67462374 0.70088678 0.70391273 0.70722417\n",
      " 0.72298205 0.72252529 0.73023287 0.73696996 0.73280215 0.7331447\n",
      " 0.74798898 0.76648732 0.7745946  0.77076934 0.78275903 0.79400638\n",
      " 0.77727801 0.78464304 0.7911517  0.82192522 0.84293561 0.82712067\n",
      " 0.84379198 0.82820546 0.82221062 0.82300993 0.83922457 0.83551343\n",
      " 0.84767439 0.83842526 0.83180239 0.80856526 0.81102033 0.81381786\n",
      " 0.79845976 0.80536803 0.80245629 0.79046661 0.79389226 0.82312414\n",
      " 0.83911036 0.82637851 0.83362933 0.82061201 0.80867947 0.81992691\n",
      " 0.83203072 0.83431452 0.85064328 0.76925111 0.70727301 0.66242069\n",
      " 0.62771147 0.60013193 0.5773586  0.55851382 0.54329383 0.53137666\n",
      " 0.5222401  0.51522219 0.50964713 0.50492615]\n",
      "13 day output [[0.5006072]]\n",
      "14 day input [0.79937319 0.81553068 0.80742341 0.81747184 0.81033515 0.82135425\n",
      " 0.82460854 0.80588185 0.81827115 0.82335256 0.80645283 0.78424343\n",
      " 0.76682987 0.80599607 0.80759468 0.80474    0.798003   0.77676418\n",
      " 0.76551674 0.7752797  0.77248217 0.78578498 0.79138013 0.77847701\n",
      " 0.74016718 0.72880553 0.71658751 0.7161879  0.73417234 0.7157882\n",
      " 0.71367577 0.70322764 0.68044731 0.70082972 0.70265667 0.67490923\n",
      " 0.68227431 0.67462374 0.70088678 0.70391273 0.70722417 0.72298205\n",
      " 0.72252529 0.73023287 0.73696996 0.73280215 0.7331447  0.74798898\n",
      " 0.76648732 0.7745946  0.77076934 0.78275903 0.79400638 0.77727801\n",
      " 0.78464304 0.7911517  0.82192522 0.84293561 0.82712067 0.84379198\n",
      " 0.82820546 0.82221062 0.82300993 0.83922457 0.83551343 0.84767439\n",
      " 0.83842526 0.83180239 0.80856526 0.81102033 0.81381786 0.79845976\n",
      " 0.80536803 0.80245629 0.79046661 0.79389226 0.82312414 0.83911036\n",
      " 0.82637851 0.83362933 0.82061201 0.80867947 0.81992691 0.83203072\n",
      " 0.83431452 0.85064328 0.76925111 0.70727301 0.66242069 0.62771147\n",
      " 0.60013193 0.5773586  0.55851382 0.54329383 0.53137666 0.5222401\n",
      " 0.51522219 0.50964713 0.50492615 0.50060719]\n",
      "14 day output [[0.49638516]]\n",
      "15 day input [0.81553068 0.80742341 0.81747184 0.81033515 0.82135425 0.82460854\n",
      " 0.80588185 0.81827115 0.82335256 0.80645283 0.78424343 0.76682987\n",
      " 0.80599607 0.80759468 0.80474    0.798003   0.77676418 0.76551674\n",
      " 0.7752797  0.77248217 0.78578498 0.79138013 0.77847701 0.74016718\n",
      " 0.72880553 0.71658751 0.7161879  0.73417234 0.7157882  0.71367577\n",
      " 0.70322764 0.68044731 0.70082972 0.70265667 0.67490923 0.68227431\n",
      " 0.67462374 0.70088678 0.70391273 0.70722417 0.72298205 0.72252529\n",
      " 0.73023287 0.73696996 0.73280215 0.7331447  0.74798898 0.76648732\n",
      " 0.7745946  0.77076934 0.78275903 0.79400638 0.77727801 0.78464304\n",
      " 0.7911517  0.82192522 0.84293561 0.82712067 0.84379198 0.82820546\n",
      " 0.82221062 0.82300993 0.83922457 0.83551343 0.84767439 0.83842526\n",
      " 0.83180239 0.80856526 0.81102033 0.81381786 0.79845976 0.80536803\n",
      " 0.80245629 0.79046661 0.79389226 0.82312414 0.83911036 0.82637851\n",
      " 0.83362933 0.82061201 0.80867947 0.81992691 0.83203072 0.83431452\n",
      " 0.85064328 0.76925111 0.70727301 0.66242069 0.62771147 0.60013193\n",
      " 0.5773586  0.55851382 0.54329383 0.53137666 0.5222401  0.51522219\n",
      " 0.50964713 0.50492615 0.50060719 0.49638516]\n",
      "15 day output [[0.49208626]]\n",
      "16 day input [0.80742341 0.81747184 0.81033515 0.82135425 0.82460854 0.80588185\n",
      " 0.81827115 0.82335256 0.80645283 0.78424343 0.76682987 0.80599607\n",
      " 0.80759468 0.80474    0.798003   0.77676418 0.76551674 0.7752797\n",
      " 0.77248217 0.78578498 0.79138013 0.77847701 0.74016718 0.72880553\n",
      " 0.71658751 0.7161879  0.73417234 0.7157882  0.71367577 0.70322764\n",
      " 0.68044731 0.70082972 0.70265667 0.67490923 0.68227431 0.67462374\n",
      " 0.70088678 0.70391273 0.70722417 0.72298205 0.72252529 0.73023287\n",
      " 0.73696996 0.73280215 0.7331447  0.74798898 0.76648732 0.7745946\n",
      " 0.77076934 0.78275903 0.79400638 0.77727801 0.78464304 0.7911517\n",
      " 0.82192522 0.84293561 0.82712067 0.84379198 0.82820546 0.82221062\n",
      " 0.82300993 0.83922457 0.83551343 0.84767439 0.83842526 0.83180239\n",
      " 0.80856526 0.81102033 0.81381786 0.79845976 0.80536803 0.80245629\n",
      " 0.79046661 0.79389226 0.82312414 0.83911036 0.82637851 0.83362933\n",
      " 0.82061201 0.80867947 0.81992691 0.83203072 0.83431452 0.85064328\n",
      " 0.76925111 0.70727301 0.66242069 0.62771147 0.60013193 0.5773586\n",
      " 0.55851382 0.54329383 0.53137666 0.5222401  0.51522219 0.50964713\n",
      " 0.50492615 0.50060719 0.49638516 0.49208626]\n",
      "16 day output [[0.48764125]]\n",
      "17 day input [0.81747184 0.81033515 0.82135425 0.82460854 0.80588185 0.81827115\n",
      " 0.82335256 0.80645283 0.78424343 0.76682987 0.80599607 0.80759468\n",
      " 0.80474    0.798003   0.77676418 0.76551674 0.7752797  0.77248217\n",
      " 0.78578498 0.79138013 0.77847701 0.74016718 0.72880553 0.71658751\n",
      " 0.7161879  0.73417234 0.7157882  0.71367577 0.70322764 0.68044731\n",
      " 0.70082972 0.70265667 0.67490923 0.68227431 0.67462374 0.70088678\n",
      " 0.70391273 0.70722417 0.72298205 0.72252529 0.73023287 0.73696996\n",
      " 0.73280215 0.7331447  0.74798898 0.76648732 0.7745946  0.77076934\n",
      " 0.78275903 0.79400638 0.77727801 0.78464304 0.7911517  0.82192522\n",
      " 0.84293561 0.82712067 0.84379198 0.82820546 0.82221062 0.82300993\n",
      " 0.83922457 0.83551343 0.84767439 0.83842526 0.83180239 0.80856526\n",
      " 0.81102033 0.81381786 0.79845976 0.80536803 0.80245629 0.79046661\n",
      " 0.79389226 0.82312414 0.83911036 0.82637851 0.83362933 0.82061201\n",
      " 0.80867947 0.81992691 0.83203072 0.83431452 0.85064328 0.76925111\n",
      " 0.70727301 0.66242069 0.62771147 0.60013193 0.5773586  0.55851382\n",
      " 0.54329383 0.53137666 0.5222401  0.51522219 0.50964713 0.50492615\n",
      " 0.50060719 0.49638516 0.49208626 0.48764125]\n",
      "17 day output [[0.4830547]]\n",
      "18 day input [0.81033515 0.82135425 0.82460854 0.80588185 0.81827115 0.82335256\n",
      " 0.80645283 0.78424343 0.76682987 0.80599607 0.80759468 0.80474\n",
      " 0.798003   0.77676418 0.76551674 0.7752797  0.77248217 0.78578498\n",
      " 0.79138013 0.77847701 0.74016718 0.72880553 0.71658751 0.7161879\n",
      " 0.73417234 0.7157882  0.71367577 0.70322764 0.68044731 0.70082972\n",
      " 0.70265667 0.67490923 0.68227431 0.67462374 0.70088678 0.70391273\n",
      " 0.70722417 0.72298205 0.72252529 0.73023287 0.73696996 0.73280215\n",
      " 0.7331447  0.74798898 0.76648732 0.7745946  0.77076934 0.78275903\n",
      " 0.79400638 0.77727801 0.78464304 0.7911517  0.82192522 0.84293561\n",
      " 0.82712067 0.84379198 0.82820546 0.82221062 0.82300993 0.83922457\n",
      " 0.83551343 0.84767439 0.83842526 0.83180239 0.80856526 0.81102033\n",
      " 0.81381786 0.79845976 0.80536803 0.80245629 0.79046661 0.79389226\n",
      " 0.82312414 0.83911036 0.82637851 0.83362933 0.82061201 0.80867947\n",
      " 0.81992691 0.83203072 0.83431452 0.85064328 0.76925111 0.70727301\n",
      " 0.66242069 0.62771147 0.60013193 0.5773586  0.55851382 0.54329383\n",
      " 0.53137666 0.5222401  0.51522219 0.50964713 0.50492615 0.50060719\n",
      " 0.49638516 0.49208626 0.48764125 0.4830547 ]\n",
      "18 day output [[0.4783774]]\n",
      "19 day input [0.82135425 0.82460854 0.80588185 0.81827115 0.82335256 0.80645283\n",
      " 0.78424343 0.76682987 0.80599607 0.80759468 0.80474    0.798003\n",
      " 0.77676418 0.76551674 0.7752797  0.77248217 0.78578498 0.79138013\n",
      " 0.77847701 0.74016718 0.72880553 0.71658751 0.7161879  0.73417234\n",
      " 0.7157882  0.71367577 0.70322764 0.68044731 0.70082972 0.70265667\n",
      " 0.67490923 0.68227431 0.67462374 0.70088678 0.70391273 0.70722417\n",
      " 0.72298205 0.72252529 0.73023287 0.73696996 0.73280215 0.7331447\n",
      " 0.74798898 0.76648732 0.7745946  0.77076934 0.78275903 0.79400638\n",
      " 0.77727801 0.78464304 0.7911517  0.82192522 0.84293561 0.82712067\n",
      " 0.84379198 0.82820546 0.82221062 0.82300993 0.83922457 0.83551343\n",
      " 0.84767439 0.83842526 0.83180239 0.80856526 0.81102033 0.81381786\n",
      " 0.79845976 0.80536803 0.80245629 0.79046661 0.79389226 0.82312414\n",
      " 0.83911036 0.82637851 0.83362933 0.82061201 0.80867947 0.81992691\n",
      " 0.83203072 0.83431452 0.85064328 0.76925111 0.70727301 0.66242069\n",
      " 0.62771147 0.60013193 0.5773586  0.55851382 0.54329383 0.53137666\n",
      " 0.5222401  0.51522219 0.50964713 0.50492615 0.50060719 0.49638516\n",
      " 0.49208626 0.48764125 0.4830547  0.4783774 ]\n",
      "19 day output [[0.47368243]]\n",
      "20 day input [0.82460854 0.80588185 0.81827115 0.82335256 0.80645283 0.78424343\n",
      " 0.76682987 0.80599607 0.80759468 0.80474    0.798003   0.77676418\n",
      " 0.76551674 0.7752797  0.77248217 0.78578498 0.79138013 0.77847701\n",
      " 0.74016718 0.72880553 0.71658751 0.7161879  0.73417234 0.7157882\n",
      " 0.71367577 0.70322764 0.68044731 0.70082972 0.70265667 0.67490923\n",
      " 0.68227431 0.67462374 0.70088678 0.70391273 0.70722417 0.72298205\n",
      " 0.72252529 0.73023287 0.73696996 0.73280215 0.7331447  0.74798898\n",
      " 0.76648732 0.7745946  0.77076934 0.78275903 0.79400638 0.77727801\n",
      " 0.78464304 0.7911517  0.82192522 0.84293561 0.82712067 0.84379198\n",
      " 0.82820546 0.82221062 0.82300993 0.83922457 0.83551343 0.84767439\n",
      " 0.83842526 0.83180239 0.80856526 0.81102033 0.81381786 0.79845976\n",
      " 0.80536803 0.80245629 0.79046661 0.79389226 0.82312414 0.83911036\n",
      " 0.82637851 0.83362933 0.82061201 0.80867947 0.81992691 0.83203072\n",
      " 0.83431452 0.85064328 0.76925111 0.70727301 0.66242069 0.62771147\n",
      " 0.60013193 0.5773586  0.55851382 0.54329383 0.53137666 0.5222401\n",
      " 0.51522219 0.50964713 0.50492615 0.50060719 0.49638516 0.49208626\n",
      " 0.48764125 0.4830547  0.4783774  0.47368243]\n",
      "20 day output [[0.46904686]]\n",
      "21 day input [0.80588185 0.81827115 0.82335256 0.80645283 0.78424343 0.76682987\n",
      " 0.80599607 0.80759468 0.80474    0.798003   0.77676418 0.76551674\n",
      " 0.7752797  0.77248217 0.78578498 0.79138013 0.77847701 0.74016718\n",
      " 0.72880553 0.71658751 0.7161879  0.73417234 0.7157882  0.71367577\n",
      " 0.70322764 0.68044731 0.70082972 0.70265667 0.67490923 0.68227431\n",
      " 0.67462374 0.70088678 0.70391273 0.70722417 0.72298205 0.72252529\n",
      " 0.73023287 0.73696996 0.73280215 0.7331447  0.74798898 0.76648732\n",
      " 0.7745946  0.77076934 0.78275903 0.79400638 0.77727801 0.78464304\n",
      " 0.7911517  0.82192522 0.84293561 0.82712067 0.84379198 0.82820546\n",
      " 0.82221062 0.82300993 0.83922457 0.83551343 0.84767439 0.83842526\n",
      " 0.83180239 0.80856526 0.81102033 0.81381786 0.79845976 0.80536803\n",
      " 0.80245629 0.79046661 0.79389226 0.82312414 0.83911036 0.82637851\n",
      " 0.83362933 0.82061201 0.80867947 0.81992691 0.83203072 0.83431452\n",
      " 0.85064328 0.76925111 0.70727301 0.66242069 0.62771147 0.60013193\n",
      " 0.5773586  0.55851382 0.54329383 0.53137666 0.5222401  0.51522219\n",
      " 0.50964713 0.50492615 0.50060719 0.49638516 0.49208626 0.48764125\n",
      " 0.4830547  0.4783774  0.47368243 0.46904686]\n",
      "21 day output [[0.46453947]]\n",
      "22 day input [0.81827115 0.82335256 0.80645283 0.78424343 0.76682987 0.80599607\n",
      " 0.80759468 0.80474    0.798003   0.77676418 0.76551674 0.7752797\n",
      " 0.77248217 0.78578498 0.79138013 0.77847701 0.74016718 0.72880553\n",
      " 0.71658751 0.7161879  0.73417234 0.7157882  0.71367577 0.70322764\n",
      " 0.68044731 0.70082972 0.70265667 0.67490923 0.68227431 0.67462374\n",
      " 0.70088678 0.70391273 0.70722417 0.72298205 0.72252529 0.73023287\n",
      " 0.73696996 0.73280215 0.7331447  0.74798898 0.76648732 0.7745946\n",
      " 0.77076934 0.78275903 0.79400638 0.77727801 0.78464304 0.7911517\n",
      " 0.82192522 0.84293561 0.82712067 0.84379198 0.82820546 0.82221062\n",
      " 0.82300993 0.83922457 0.83551343 0.84767439 0.83842526 0.83180239\n",
      " 0.80856526 0.81102033 0.81381786 0.79845976 0.80536803 0.80245629\n",
      " 0.79046661 0.79389226 0.82312414 0.83911036 0.82637851 0.83362933\n",
      " 0.82061201 0.80867947 0.81992691 0.83203072 0.83431452 0.85064328\n",
      " 0.76925111 0.70727301 0.66242069 0.62771147 0.60013193 0.5773586\n",
      " 0.55851382 0.54329383 0.53137666 0.5222401  0.51522219 0.50964713\n",
      " 0.50492615 0.50060719 0.49638516 0.49208626 0.48764125 0.4830547\n",
      " 0.4783774  0.47368243 0.46904686 0.46453947]\n",
      "22 day output [[0.4602138]]\n",
      "23 day input [0.82335256 0.80645283 0.78424343 0.76682987 0.80599607 0.80759468\n",
      " 0.80474    0.798003   0.77676418 0.76551674 0.7752797  0.77248217\n",
      " 0.78578498 0.79138013 0.77847701 0.74016718 0.72880553 0.71658751\n",
      " 0.7161879  0.73417234 0.7157882  0.71367577 0.70322764 0.68044731\n",
      " 0.70082972 0.70265667 0.67490923 0.68227431 0.67462374 0.70088678\n",
      " 0.70391273 0.70722417 0.72298205 0.72252529 0.73023287 0.73696996\n",
      " 0.73280215 0.7331447  0.74798898 0.76648732 0.7745946  0.77076934\n",
      " 0.78275903 0.79400638 0.77727801 0.78464304 0.7911517  0.82192522\n",
      " 0.84293561 0.82712067 0.84379198 0.82820546 0.82221062 0.82300993\n",
      " 0.83922457 0.83551343 0.84767439 0.83842526 0.83180239 0.80856526\n",
      " 0.81102033 0.81381786 0.79845976 0.80536803 0.80245629 0.79046661\n",
      " 0.79389226 0.82312414 0.83911036 0.82637851 0.83362933 0.82061201\n",
      " 0.80867947 0.81992691 0.83203072 0.83431452 0.85064328 0.76925111\n",
      " 0.70727301 0.66242069 0.62771147 0.60013193 0.5773586  0.55851382\n",
      " 0.54329383 0.53137666 0.5222401  0.51522219 0.50964713 0.50492615\n",
      " 0.50060719 0.49638516 0.49208626 0.48764125 0.4830547  0.4783774\n",
      " 0.47368243 0.46904686 0.46453947 0.46021381]\n",
      "23 day output [[0.45610556]]\n",
      "24 day input [0.80645283 0.78424343 0.76682987 0.80599607 0.80759468 0.80474\n",
      " 0.798003   0.77676418 0.76551674 0.7752797  0.77248217 0.78578498\n",
      " 0.79138013 0.77847701 0.74016718 0.72880553 0.71658751 0.7161879\n",
      " 0.73417234 0.7157882  0.71367577 0.70322764 0.68044731 0.70082972\n",
      " 0.70265667 0.67490923 0.68227431 0.67462374 0.70088678 0.70391273\n",
      " 0.70722417 0.72298205 0.72252529 0.73023287 0.73696996 0.73280215\n",
      " 0.7331447  0.74798898 0.76648732 0.7745946  0.77076934 0.78275903\n",
      " 0.79400638 0.77727801 0.78464304 0.7911517  0.82192522 0.84293561\n",
      " 0.82712067 0.84379198 0.82820546 0.82221062 0.82300993 0.83922457\n",
      " 0.83551343 0.84767439 0.83842526 0.83180239 0.80856526 0.81102033\n",
      " 0.81381786 0.79845976 0.80536803 0.80245629 0.79046661 0.79389226\n",
      " 0.82312414 0.83911036 0.82637851 0.83362933 0.82061201 0.80867947\n",
      " 0.81992691 0.83203072 0.83431452 0.85064328 0.76925111 0.70727301\n",
      " 0.66242069 0.62771147 0.60013193 0.5773586  0.55851382 0.54329383\n",
      " 0.53137666 0.5222401  0.51522219 0.50964713 0.50492615 0.50060719\n",
      " 0.49638516 0.49208626 0.48764125 0.4830547  0.4783774  0.47368243\n",
      " 0.46904686 0.46453947 0.46021381 0.45610556]\n",
      "24 day output [[0.45223236]]\n",
      "25 day input [0.78424343 0.76682987 0.80599607 0.80759468 0.80474    0.798003\n",
      " 0.77676418 0.76551674 0.7752797  0.77248217 0.78578498 0.79138013\n",
      " 0.77847701 0.74016718 0.72880553 0.71658751 0.7161879  0.73417234\n",
      " 0.7157882  0.71367577 0.70322764 0.68044731 0.70082972 0.70265667\n",
      " 0.67490923 0.68227431 0.67462374 0.70088678 0.70391273 0.70722417\n",
      " 0.72298205 0.72252529 0.73023287 0.73696996 0.73280215 0.7331447\n",
      " 0.74798898 0.76648732 0.7745946  0.77076934 0.78275903 0.79400638\n",
      " 0.77727801 0.78464304 0.7911517  0.82192522 0.84293561 0.82712067\n",
      " 0.84379198 0.82820546 0.82221062 0.82300993 0.83922457 0.83551343\n",
      " 0.84767439 0.83842526 0.83180239 0.80856526 0.81102033 0.81381786\n",
      " 0.79845976 0.80536803 0.80245629 0.79046661 0.79389226 0.82312414\n",
      " 0.83911036 0.82637851 0.83362933 0.82061201 0.80867947 0.81992691\n",
      " 0.83203072 0.83431452 0.85064328 0.76925111 0.70727301 0.66242069\n",
      " 0.62771147 0.60013193 0.5773586  0.55851382 0.54329383 0.53137666\n",
      " 0.5222401  0.51522219 0.50964713 0.50492615 0.50060719 0.49638516\n",
      " 0.49208626 0.48764125 0.4830547  0.4783774  0.47368243 0.46904686\n",
      " 0.46453947 0.46021381 0.45610556 0.45223236]\n",
      "25 day output [[0.44859692]]\n",
      "26 day input [0.76682987 0.80599607 0.80759468 0.80474    0.798003   0.77676418\n",
      " 0.76551674 0.7752797  0.77248217 0.78578498 0.79138013 0.77847701\n",
      " 0.74016718 0.72880553 0.71658751 0.7161879  0.73417234 0.7157882\n",
      " 0.71367577 0.70322764 0.68044731 0.70082972 0.70265667 0.67490923\n",
      " 0.68227431 0.67462374 0.70088678 0.70391273 0.70722417 0.72298205\n",
      " 0.72252529 0.73023287 0.73696996 0.73280215 0.7331447  0.74798898\n",
      " 0.76648732 0.7745946  0.77076934 0.78275903 0.79400638 0.77727801\n",
      " 0.78464304 0.7911517  0.82192522 0.84293561 0.82712067 0.84379198\n",
      " 0.82820546 0.82221062 0.82300993 0.83922457 0.83551343 0.84767439\n",
      " 0.83842526 0.83180239 0.80856526 0.81102033 0.81381786 0.79845976\n",
      " 0.80536803 0.80245629 0.79046661 0.79389226 0.82312414 0.83911036\n",
      " 0.82637851 0.83362933 0.82061201 0.80867947 0.81992691 0.83203072\n",
      " 0.83431452 0.85064328 0.76925111 0.70727301 0.66242069 0.62771147\n",
      " 0.60013193 0.5773586  0.55851382 0.54329383 0.53137666 0.5222401\n",
      " 0.51522219 0.50964713 0.50492615 0.50060719 0.49638516 0.49208626\n",
      " 0.48764125 0.4830547  0.4783774  0.47368243 0.46904686 0.46453947\n",
      " 0.46021381 0.45610556 0.45223236 0.44859692]\n",
      "26 day output [[0.4451901]]\n",
      "27 day input [0.80599607 0.80759468 0.80474    0.798003   0.77676418 0.76551674\n",
      " 0.7752797  0.77248217 0.78578498 0.79138013 0.77847701 0.74016718\n",
      " 0.72880553 0.71658751 0.7161879  0.73417234 0.7157882  0.71367577\n",
      " 0.70322764 0.68044731 0.70082972 0.70265667 0.67490923 0.68227431\n",
      " 0.67462374 0.70088678 0.70391273 0.70722417 0.72298205 0.72252529\n",
      " 0.73023287 0.73696996 0.73280215 0.7331447  0.74798898 0.76648732\n",
      " 0.7745946  0.77076934 0.78275903 0.79400638 0.77727801 0.78464304\n",
      " 0.7911517  0.82192522 0.84293561 0.82712067 0.84379198 0.82820546\n",
      " 0.82221062 0.82300993 0.83922457 0.83551343 0.84767439 0.83842526\n",
      " 0.83180239 0.80856526 0.81102033 0.81381786 0.79845976 0.80536803\n",
      " 0.80245629 0.79046661 0.79389226 0.82312414 0.83911036 0.82637851\n",
      " 0.83362933 0.82061201 0.80867947 0.81992691 0.83203072 0.83431452\n",
      " 0.85064328 0.76925111 0.70727301 0.66242069 0.62771147 0.60013193\n",
      " 0.5773586  0.55851382 0.54329383 0.53137666 0.5222401  0.51522219\n",
      " 0.50964713 0.50492615 0.50060719 0.49638516 0.49208626 0.48764125\n",
      " 0.4830547  0.4783774  0.47368243 0.46904686 0.46453947 0.46021381\n",
      " 0.45610556 0.45223236 0.44859692 0.4451901 ]\n",
      "27 day output [[0.4419949]]\n",
      "28 day input [0.80759468 0.80474    0.798003   0.77676418 0.76551674 0.7752797\n",
      " 0.77248217 0.78578498 0.79138013 0.77847701 0.74016718 0.72880553\n",
      " 0.71658751 0.7161879  0.73417234 0.7157882  0.71367577 0.70322764\n",
      " 0.68044731 0.70082972 0.70265667 0.67490923 0.68227431 0.67462374\n",
      " 0.70088678 0.70391273 0.70722417 0.72298205 0.72252529 0.73023287\n",
      " 0.73696996 0.73280215 0.7331447  0.74798898 0.76648732 0.7745946\n",
      " 0.77076934 0.78275903 0.79400638 0.77727801 0.78464304 0.7911517\n",
      " 0.82192522 0.84293561 0.82712067 0.84379198 0.82820546 0.82221062\n",
      " 0.82300993 0.83922457 0.83551343 0.84767439 0.83842526 0.83180239\n",
      " 0.80856526 0.81102033 0.81381786 0.79845976 0.80536803 0.80245629\n",
      " 0.79046661 0.79389226 0.82312414 0.83911036 0.82637851 0.83362933\n",
      " 0.82061201 0.80867947 0.81992691 0.83203072 0.83431452 0.85064328\n",
      " 0.76925111 0.70727301 0.66242069 0.62771147 0.60013193 0.5773586\n",
      " 0.55851382 0.54329383 0.53137666 0.5222401  0.51522219 0.50964713\n",
      " 0.50492615 0.50060719 0.49638516 0.49208626 0.48764125 0.4830547\n",
      " 0.4783774  0.47368243 0.46904686 0.46453947 0.46021381 0.45610556\n",
      " 0.45223236 0.44859692 0.4451901  0.44199491]\n",
      "28 day output [[0.43899012]]\n",
      "29 day input [0.80474    0.798003   0.77676418 0.76551674 0.7752797  0.77248217\n",
      " 0.78578498 0.79138013 0.77847701 0.74016718 0.72880553 0.71658751\n",
      " 0.7161879  0.73417234 0.7157882  0.71367577 0.70322764 0.68044731\n",
      " 0.70082972 0.70265667 0.67490923 0.68227431 0.67462374 0.70088678\n",
      " 0.70391273 0.70722417 0.72298205 0.72252529 0.73023287 0.73696996\n",
      " 0.73280215 0.7331447  0.74798898 0.76648732 0.7745946  0.77076934\n",
      " 0.78275903 0.79400638 0.77727801 0.78464304 0.7911517  0.82192522\n",
      " 0.84293561 0.82712067 0.84379198 0.82820546 0.82221062 0.82300993\n",
      " 0.83922457 0.83551343 0.84767439 0.83842526 0.83180239 0.80856526\n",
      " 0.81102033 0.81381786 0.79845976 0.80536803 0.80245629 0.79046661\n",
      " 0.79389226 0.82312414 0.83911036 0.82637851 0.83362933 0.82061201\n",
      " 0.80867947 0.81992691 0.83203072 0.83431452 0.85064328 0.76925111\n",
      " 0.70727301 0.66242069 0.62771147 0.60013193 0.5773586  0.55851382\n",
      " 0.54329383 0.53137666 0.5222401  0.51522219 0.50964713 0.50492615\n",
      " 0.50060719 0.49638516 0.49208626 0.48764125 0.4830547  0.4783774\n",
      " 0.47368243 0.46904686 0.46453947 0.46021381 0.45610556 0.45223236\n",
      " 0.44859692 0.4451901  0.44199491 0.43899012]\n",
      "29 day output [[0.43615302]]\n",
      "[[0.7692511081695557], [0.707273006439209], [0.6624206900596619], [0.6277114748954773], [0.6001319289207458], [0.577358603477478], [0.5585138201713562], [0.543293833732605], [0.5313766598701477], [0.5222401022911072], [0.5152221918106079], [0.5096471309661865], [0.5049261450767517], [0.5006071925163269], [0.4963851571083069], [0.492086261510849], [0.48764124512672424], [0.4830546975135803], [0.47837740182876587], [0.4736824333667755], [0.46904686093330383], [0.46453946828842163], [0.4602138102054596], [0.4561055600643158], [0.45223236083984375], [0.44859692454338074], [0.44519010186195374], [0.44199490547180176], [0.43899011611938477], [0.43615302443504333]]\n"
     ]
    }
   ],
   "source": [
    "# demonstrate prediction for next 10 days\n",
    "from numpy import array\n",
    "\n",
    "lst_output=[]\n",
    "n_steps=100\n",
    "i=0\n",
    "while(i<30):\n",
    "    \n",
    "    if(len(temp_input)>100):\n",
    "        #print(temp_input)\n",
    "        x_input=np.array(temp_input[1:])\n",
    "        print(\"{} day input {}\".format(i,x_input))\n",
    "        x_input=x_input.reshape(1,-1)\n",
    "        x_input = x_input.reshape((1, n_steps, 1))\n",
    "        #print(x_input)\n",
    "        yhat = model.predict(x_input, verbose=0)\n",
    "        print(\"{} day output {}\".format(i,yhat))\n",
    "        temp_input.extend(yhat[0].tolist())\n",
    "        temp_input=temp_input[1:]\n",
    "        #print(temp_input)\n",
    "        lst_output.extend(yhat.tolist())\n",
    "        i=i+1\n",
    "    else:\n",
    "        x_input = x_input.reshape((1, n_steps,1))\n",
    "        yhat = model.predict(x_input, verbose=0)\n",
    "        print(yhat[0])\n",
    "        temp_input.extend(yhat[0].tolist())\n",
    "        print(len(temp_input))\n",
    "        lst_output.extend(yhat.tolist())\n",
    "        i=i+1\n",
    "    \n",
    "\n",
    "print(lst_output)"
   ]
  },
  {
   "cell_type": "code",
   "execution_count": 47,
   "metadata": {},
   "outputs": [
    {
     "data": {
      "text/plain": [
       "(1, 100, 1)"
      ]
     },
     "execution_count": 47,
     "metadata": {},
     "output_type": "execute_result"
    }
   ],
   "source": [
    "x_input.shape"
   ]
  },
  {
   "cell_type": "code",
   "execution_count": 48,
   "metadata": {},
   "outputs": [],
   "source": [
    "day_new=np.arange(1,30)\n",
    "day_pred=np.arange(1,30)"
   ]
  },
  {
   "cell_type": "code",
   "execution_count": 49,
   "metadata": {},
   "outputs": [
    {
     "data": {
      "text/plain": [
       "3323"
      ]
     },
     "execution_count": 49,
     "metadata": {},
     "output_type": "execute_result"
    }
   ],
   "source": [
    "len(df1)"
   ]
  },
  {
   "cell_type": "code",
   "execution_count": 50,
   "metadata": {},
   "outputs": [],
   "source": [
    "df2=scaler.fit_transform(np.array(data).reshape(-1,1))"
   ]
  },
  {
   "cell_type": "code",
   "execution_count": 51,
   "metadata": {},
   "outputs": [
    {
     "data": {
      "text/plain": [
       "[[155.0],\n",
       " [157.39999389648438],\n",
       " [159.27999877929688],\n",
       " [157.8300018310547],\n",
       " [158.92999267578125],\n",
       " [160.25],\n",
       " [158.27999877929688],\n",
       " [157.64999389648438],\n",
       " [160.77000427246094],\n",
       " [162.36000061035156],\n",
       " [164.89999389648438],\n",
       " [166.1699981689453],\n",
       " [165.6300048828125],\n",
       " [163.75999450683594],\n",
       " [164.66000366210938],\n",
       " [162.02999877929688],\n",
       " [160.8000030517578],\n",
       " [160.10000610351562],\n",
       " [165.55999755859375],\n",
       " [165.2100067138672],\n",
       " [165.22999572753906],\n",
       " [166.47000122070312],\n",
       " [167.6300048828125],\n",
       " [166.64999389648438],\n",
       " [165.02000427246094],\n",
       " [165.3300018310547],\n",
       " [163.77000427246094],\n",
       " [163.75999450683594],\n",
       " [168.41000366210938],\n",
       " [169.67999267578125]]"
      ]
     },
     "execution_count": 51,
     "metadata": {},
     "output_type": "execute_result"
    }
   ],
   "source": [
    "observed=scaler.inverse_transform(df2[len(df2)-30:])\n",
    "#observed.tolist()\n",
    "observed.tolist()\n",
    "\n"
   ]
  },
  {
   "cell_type": "code",
   "execution_count": 56,
   "metadata": {},
   "outputs": [
    {
     "data": {
      "text/plain": [
       "[[0.7692511081695557],\n",
       " [0.707273006439209],\n",
       " [0.6624206900596619],\n",
       " [0.6277114748954773],\n",
       " [0.6001319289207458],\n",
       " [0.577358603477478],\n",
       " [0.5585138201713562],\n",
       " [0.543293833732605],\n",
       " [0.5313766598701477],\n",
       " [0.5222401022911072],\n",
       " [0.5152221918106079],\n",
       " [0.5096471309661865],\n",
       " [0.5049261450767517],\n",
       " [0.5006071925163269],\n",
       " [0.4963851571083069],\n",
       " [0.492086261510849],\n",
       " [0.48764124512672424],\n",
       " [0.4830546975135803],\n",
       " [0.47837740182876587],\n",
       " [0.4736824333667755],\n",
       " [0.46904686093330383],\n",
       " [0.46453946828842163],\n",
       " [0.4602138102054596],\n",
       " [0.4561055600643158],\n",
       " [0.45223236083984375],\n",
       " [0.44859692454338074],\n",
       " [0.44519010186195374],\n",
       " [0.44199490547180176],\n",
       " [0.43899011611938477],\n",
       " [0.43615302443504333]]"
      ]
     },
     "execution_count": 56,
     "metadata": {},
     "output_type": "execute_result"
    }
   ],
   "source": [
    "lst_output"
   ]
  },
  {
   "cell_type": "code",
   "execution_count": 52,
   "metadata": {},
   "outputs": [
    {
     "data": {
      "text/plain": [
       "[<matplotlib.lines.Line2D at 0x7fa0245329e0>]"
      ]
     },
     "execution_count": 52,
     "metadata": {},
     "output_type": "execute_result"
    },
    {
     "data": {
      "image/png": "[encoded data removed]",
      "text/plain": [
       "<Figure size 640x480 with 1 Axes>"
      ]
     },
     "metadata": {},
     "output_type": "display_data"
    }
   ],
   "source": [
    "plt.plot(observed)\n",
    "plt.plot(scaler.inverse_transform(lst_output))"
   ]
  },
  {
   "cell_type": "code",
   "execution_count": 53,
   "metadata": {},
   "outputs": [
    {
     "data": {
      "text/plain": [
       "[<matplotlib.lines.Line2D at 0x7fa024572b00>]"
      ]
     },
     "execution_count": 53,
     "metadata": {},
     "output_type": "execute_result"
    },
    {
     "data": {
      "image/png": "[encoded data removed]",
      "text/plain": [
       "<Figure size 640x480 with 1 Axes>"
      ]
     },
     "metadata": {},
     "output_type": "display_data"
    }
   ],
   "source": [
    "df3=df1.tolist()\n",
    "df3.extend(lst_output)\n",
    "plt.plot(df3[3000:])"
   ]
  },
  {
   "cell_type": "code",
   "execution_count": 54,
   "metadata": {},
   "outputs": [],
   "source": [
    "df3=scaler.inverse_transform(df3).tolist()"
   ]
  },
  {
   "cell_type": "code",
   "execution_count": 55,
   "metadata": {},
   "outputs": [
    {
     "data": {
      "text/plain": [
       "[<matplotlib.lines.Line2D at 0x7fa0243e33d0>]"
      ]
     },
     "execution_count": 55,
     "metadata": {},
     "output_type": "execute_result"
    },
    {
     "data": {
      "image/png": "[encoded data removed]",
      "text/plain": [
       "<Figure size 640x480 with 1 Axes>"
      ]
     },
     "metadata": {},
     "output_type": "display_data"
    }
   ],
   "source": [
    "plt.plot(df3)"
   ]
  },
  {
   "cell_type": "code",
   "execution_count": null,
   "metadata": {},
   "outputs": [],
   "source": []
  }
 ],
 "metadata": {
  "kernelspec": {
   "display_name": "Python 3 (ipykernel)",
   "language": "python",
   "name": "python3"
  },
  "language_info": {
   "codemirror_mode": {
    "name": "ipython",
    "version": 3
   },
   "file_extension": ".py",
   "mimetype": "text/x-python",
   "name": "python",
   "nbconvert_exporter": "python",
   "pygments_lexer": "ipython3",
   "version": "3.11.2"
  }
 },
 "nbformat": 4,
 "nbformat_minor": 4
}
